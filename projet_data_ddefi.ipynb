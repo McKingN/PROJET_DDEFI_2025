{
  "cells": [
    {
      "cell_type": "markdown",
      "metadata": {
        "colab_type": "text",
        "id": "view-in-github"
      },
      "source": [
        "<a href=\"https://colab.research.google.com/github/McKingN/PROJET_DDEFI_2025/blob/main/projet_data_ddefi.ipynb\" target=\"_parent\"><img src=\"https://colab.research.google.com/assets/colab-badge.svg\" alt=\"Open In Colab\"/></a>"
      ]
    },
    {
      "cell_type": "code",
      "execution_count": 1,
      "metadata": {
        "colab": {
          "base_uri": "https://localhost:8080/"
        },
        "id": "HxZFWSsnjrkv",
        "outputId": "1f07bf00-0273-4f57-e292-a9eaef603f74"
      },
      "outputs": [
        {
          "name": "stdout",
          "output_type": "stream",
          "text": [
            "Cloning into 'PROJET_DDEFI_2025'...\n",
            "remote: Enumerating objects: 8, done.\u001b[K\n",
            "remote: Counting objects: 100% (8/8), done.\u001b[K\n",
            "remote: Compressing objects: 100% (6/6), done.\u001b[K\n",
            "remote: Total 8 (delta 1), reused 0 (delta 0), pack-reused 0 (from 0)\u001b[K\n",
            "Receiving objects: 100% (8/8), done.\n",
            "Resolving deltas: 100% (1/1), done.\n"
          ]
        }
      ],
      "source": [
        "!git config --global user.email \"clabessim@gmail.com\"\n",
        "!git config --global user.name \"McKingN\"\n",
        "!git clone https://github.com/Data-project-team-ecm/PROJET_DDEFI_2025.git\n"
      ]
    },
    {
      "cell_type": "code",
      "execution_count": 1,
      "metadata": {},
      "outputs": [
        {
          "name": "stdout",
          "output_type": "stream",
          "text": [
            "Requirement already satisfied: yfinance in c:\\python311\\lib\\site-packages (0.2.46)\n",
            "Requirement already satisfied: pandas>=1.3.0 in c:\\python311\\lib\\site-packages (from yfinance) (2.2.2)\n",
            "Requirement already satisfied: numpy>=1.16.5 in c:\\python311\\lib\\site-packages (from yfinance) (1.24.1)\n",
            "Requirement already satisfied: requests>=2.31 in c:\\python311\\lib\\site-packages (from yfinance) (2.31.0)\n",
            "Requirement already satisfied: multitasking>=0.0.7 in c:\\python311\\lib\\site-packages (from yfinance) (0.0.11)\n",
            "Requirement already satisfied: lxml>=4.9.1 in c:\\python311\\lib\\site-packages (from yfinance) (5.3.0)\n",
            "Requirement already satisfied: platformdirs>=2.0.0 in c:\\users\\mcking.desktop-4q7g3qp\\appdata\\roaming\\python\\python311\\site-packages (from yfinance) (3.11.0)\n",
            "Requirement already satisfied: pytz>=2022.5 in c:\\python311\\lib\\site-packages (from yfinance) (2023.3.post1)\n",
            "Requirement already satisfied: frozendict>=2.3.4 in c:\\python311\\lib\\site-packages (from yfinance) (2.4.6)\n",
            "Requirement already satisfied: peewee>=3.16.2 in c:\\python311\\lib\\site-packages (from yfinance) (3.17.7)\n",
            "Requirement already satisfied: beautifulsoup4>=4.11.1 in c:\\python311\\lib\\site-packages (from yfinance) (4.12.2)\n",
            "Requirement already satisfied: html5lib>=1.1 in c:\\python311\\lib\\site-packages (from yfinance) (1.1)\n",
            "Requirement already satisfied: soupsieve>1.2 in c:\\python311\\lib\\site-packages (from beautifulsoup4>=4.11.1->yfinance) (2.5)\n",
            "Requirement already satisfied: six>=1.9 in c:\\python311\\lib\\site-packages (from html5lib>=1.1->yfinance) (1.16.0)\n",
            "Requirement already satisfied: webencodings in c:\\python311\\lib\\site-packages (from html5lib>=1.1->yfinance) (0.5.1)\n",
            "Requirement already satisfied: python-dateutil>=2.8.2 in c:\\python311\\lib\\site-packages (from pandas>=1.3.0->yfinance) (2.8.2)\n",
            "Requirement already satisfied: tzdata>=2022.7 in c:\\python311\\lib\\site-packages (from pandas>=1.3.0->yfinance) (2023.3)\n",
            "Requirement already satisfied: charset-normalizer<4,>=2 in c:\\python311\\lib\\site-packages (from requests>=2.31->yfinance) (3.1.0)\n",
            "Requirement already satisfied: idna<4,>=2.5 in c:\\python311\\lib\\site-packages (from requests>=2.31->yfinance) (3.4)\n",
            "Requirement already satisfied: urllib3<3,>=1.21.1 in c:\\python311\\lib\\site-packages (from requests>=2.31->yfinance) (2.0.2)\n",
            "Requirement already satisfied: certifi>=2017.4.17 in c:\\python311\\lib\\site-packages (from requests>=2.31->yfinance) (2023.5.7)\n",
            "Note: you may need to restart the kernel to use updated packages.\n"
          ]
        },
        {
          "name": "stderr",
          "output_type": "stream",
          "text": [
            "\n",
            "[notice] A new release of pip is available: 23.2.1 -> 25.0.1\n",
            "[notice] To update, run: python.exe -m pip install --upgrade pip\n"
          ]
        }
      ],
      "source": [
        "%pip install yfinance"
      ]
    },
    {
      "cell_type": "code",
      "execution_count": 2,
      "metadata": {},
      "outputs": [],
      "source": [
        "import yfinance as yf\n",
        "\n",
        "def is_valid_ticker(ticker: str) -> bool:\n",
        "    \"\"\"\n",
        "    Vérifie si un ticker est valide en récupérant son historique\n",
        "    via yfinance. Si l'historique est vide ou qu'une erreur survient,\n",
        "    on considère le ticker comme invalide.\n",
        "    \"\"\"\n",
        "    try:\n",
        "        # On récupère l'historique sur 1 jour\n",
        "        data = yf.download(\"AAPL\", start=\"2024-01-01\", end=\"2025-01-01\")\n",
        "        print(data)\n",
        "        # Si le DataFrame est vide, on suppose que le ticker est invalide\n",
        "        return not data.empty\n",
        "    except Exception:\n",
        "        print(Exception)\n",
        "        return False"
      ]
    },
    {
      "cell_type": "code",
      "execution_count": 9,
      "metadata": {},
      "outputs": [],
      "source": [
        "import os\n",
        "import yfinance as yf\n",
        "import pandas as pd\n",
        "\n",
        "def telecharger_donnees_en_parquet(ticker: str, dossier: str = \"data\") -> None:\n",
        "    \"\"\"\n",
        "    Télécharge toutes les données disponibles pour un ticker via yfinance\n",
        "    et les enregistre sous forme de fichier parquet dans le dossier spécifié.\n",
        "    \"\"\"\n",
        "    # Création du dossier s'il n'existe pas\n",
        "    os.makedirs(dossier, exist_ok=True)\n",
        "    \n",
        "    # Chemin de fichier de sortie\n",
        "    chemin_fichier = os.path.join(dossier, f\"{ticker}.parquet\")\n",
        "    \n",
        "    # Téléchargement des données depuis la première date disponible\n",
        "    df = yf.download(ticker, period=\"max\", interval=\"1d\")\n",
        "    \n",
        "    if not df.empty:\n",
        "        # Enregistrement au format Parquet\n",
        "        df.to_parquet(chemin_fichier)\n",
        "        print(f\"Fichier parquet créé pour {ticker} : {chemin_fichier}\")\n",
        "    else:\n",
        "        print(f\"Aucune donnée téléchargée pour {ticker}.\")\n",
        "\n",
        "def telecharger_liste_tickers_en_parquet(tickers: list, dossier: str = \"data\") -> None:\n",
        "    \"\"\"\n",
        "    Prend une liste de tickers et crée les fichiers parquet pour chacun\n",
        "    en utilisant la fonction de téléchargement.\n",
        "    \"\"\"\n",
        "    for t in tickers:\n",
        "        telecharger_donnees_en_parquet(t, dossier=dossier)\n",
        "\n",
        "def afficher_donnees_ticker(ticker: str, dossier: str = \"data\") -> pd.DataFrame:\n",
        "    \"\"\"\n",
        "    Affiche (retourne) un DataFrame avec les données d'un ticker.\n",
        "    1. Vérifie si le fichier parquet existe déjà dans le dossier.\n",
        "    2. S'il n'existe pas, télécharge les données et les enregistre.\n",
        "    3. Charge et retourne le DataFrame.\n",
        "    \"\"\"\n",
        "    chemin_fichier = os.path.join(dossier, f\"{ticker}.parquet\")\n",
        "    \n",
        "    # Vérification de l'existence du fichier parquet\n",
        "    if not os.path.exists(chemin_fichier):\n",
        "        print(f\"Le fichier {chemin_fichier} n'existe pas. Téléchargement des données...\")\n",
        "        telecharger_donnees_en_parquet(ticker, dossier=dossier)\n",
        "    \n",
        "    # Lecture des données depuis le parquet\n",
        "    if os.path.exists(chemin_fichier):\n",
        "        df = pd.read_parquet(chemin_fichier)\n",
        "        print(f\"Données pour {ticker} :\")\n",
        "        print(df.head())  # Affichage (optionnel : on peut retourner le df directement)\n",
        "        return df\n",
        "    else:\n",
        "        print(f\"Impossible d'afficher les données : aucune donnée n'a été trouvée ou téléchargée pour {ticker}.\")\n",
        "        return pd.DataFrame()  # Retourne un DataFrame vide si échec\n"
      ]
    },
    {
      "cell_type": "code",
      "execution_count": 3,
      "metadata": {},
      "outputs": [
        {
          "name": "stderr",
          "output_type": "stream",
          "text": [
            "[*********************100%***********************]  1 of 1 completed\n",
            "\n",
            "1 Failed download:\n",
            "['AAPL']: JSONDecodeError('Expecting value: line 1 column 1 (char 0)')\n"
          ]
        },
        {
          "name": "stdout",
          "output_type": "stream",
          "text": [
            "Empty DataFrame\n",
            "Columns: [(Adj Close, AAPL), (Close, AAPL), (High, AAPL), (Low, AAPL), (Open, AAPL), (Volume, AAPL)]\n",
            "Index: []\n"
          ]
        },
        {
          "data": {
            "text/plain": [
              "False"
            ]
          },
          "execution_count": 3,
          "metadata": {},
          "output_type": "execute_result"
        }
      ],
      "source": [
        "is_valid_ticker(\"AAPL\")"
      ]
    }
  ],
  "metadata": {
    "colab": {
      "authorship_tag": "ABX9TyP5hkoA7M/g/e6yZBK01jIP",
      "include_colab_link": true,
      "provenance": []
    },
    "kernelspec": {
      "display_name": "Python 3",
      "name": "python3"
    },
    "language_info": {
      "codemirror_mode": {
        "name": "ipython",
        "version": 3
      },
      "file_extension": ".py",
      "mimetype": "text/x-python",
      "name": "python",
      "nbconvert_exporter": "python",
      "pygments_lexer": "ipython3",
      "version": "3.11.4"
    }
  },
  "nbformat": 4,
  "nbformat_minor": 0
}
