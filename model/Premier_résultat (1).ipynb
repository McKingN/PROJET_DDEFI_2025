{
  "nbformat": 4,
  "nbformat_minor": 0,
  "metadata": {
    "colab": {
      "provenance": [],
      "gpuType": "T4"
    },
    "kernelspec": {
      "name": "python3",
      "display_name": "Python 3"
    },
    "language_info": {
      "name": "python"
    },
    "accelerator": "GPU"
  },
  "cells": [
    {
      "cell_type": "code",
      "source": [
        "!pip install --upgrade matplotlib seaborn"
      ],
      "metadata": {
        "colab": {
          "base_uri": "https://localhost:8080/"
        },
        "id": "uvn0slV4vx3w",
        "outputId": "b467edb0-0845-4a88-ff3e-f0a7ee6d7de4"
      },
      "execution_count": null,
      "outputs": [
        {
          "output_type": "stream",
          "name": "stdout",
          "text": [
            "Requirement already satisfied: matplotlib in /usr/local/lib/python3.11/dist-packages (3.10.0)\n",
            "Requirement already satisfied: seaborn in /usr/local/lib/python3.11/dist-packages (0.13.2)\n",
            "Requirement already satisfied: contourpy>=1.0.1 in /usr/local/lib/python3.11/dist-packages (from matplotlib) (1.3.1)\n",
            "Requirement already satisfied: cycler>=0.10 in /usr/local/lib/python3.11/dist-packages (from matplotlib) (0.12.1)\n",
            "Requirement already satisfied: fonttools>=4.22.0 in /usr/local/lib/python3.11/dist-packages (from matplotlib) (4.56.0)\n",
            "Requirement already satisfied: kiwisolver>=1.3.1 in /usr/local/lib/python3.11/dist-packages (from matplotlib) (1.4.8)\n",
            "Requirement already satisfied: numpy>=1.23 in /usr/local/lib/python3.11/dist-packages (from matplotlib) (1.26.4)\n",
            "Requirement already satisfied: packaging>=20.0 in /usr/local/lib/python3.11/dist-packages (from matplotlib) (24.2)\n",
            "Requirement already satisfied: pillow>=8 in /usr/local/lib/python3.11/dist-packages (from matplotlib) (11.1.0)\n",
            "Requirement already satisfied: pyparsing>=2.3.1 in /usr/local/lib/python3.11/dist-packages (from matplotlib) (3.2.1)\n",
            "Requirement already satisfied: python-dateutil>=2.7 in /usr/local/lib/python3.11/dist-packages (from matplotlib) (2.8.2)\n",
            "Requirement already satisfied: pandas>=1.2 in /usr/local/lib/python3.11/dist-packages (from seaborn) (2.2.2)\n",
            "Requirement already satisfied: pytz>=2020.1 in /usr/local/lib/python3.11/dist-packages (from pandas>=1.2->seaborn) (2025.1)\n",
            "Requirement already satisfied: tzdata>=2022.7 in /usr/local/lib/python3.11/dist-packages (from pandas>=1.2->seaborn) (2025.1)\n",
            "Requirement already satisfied: six>=1.5 in /usr/local/lib/python3.11/dist-packages (from python-dateutil>=2.7->matplotlib) (1.17.0)\n"
          ]
        }
      ]
    },
    {
      "cell_type": "code",
      "source": [
        "import numpy as np\n",
        "import tensorflow as tf\n",
        "import datetime as dt\n",
        "import os\n",
        "from tqdm.notebook import tqdm\n",
        "from google.colab import drive\n",
        "import json\n",
        "import seaborn as sns\n",
        "from scipy.stats import norm\n",
        "import pandas as pd\n",
        "import matplotlib.pyplot as plt"
      ],
      "metadata": {
        "id": "H_3MyVT3pCCw"
      },
      "execution_count": null,
      "outputs": []
    },
    {
      "cell_type": "code",
      "source": [
        "import pandas as pd\n",
        "import matplotlib.pyplot as plt\n",
        "import datetime as dt\n",
        "import random\n",
        "import scipy.stats as stats"
      ],
      "metadata": {
        "id": "jzAvvthRpyrQ"
      },
      "execution_count": null,
      "outputs": []
    },
    {
      "cell_type": "code",
      "source": [
        "import tensorflow as tf\n",
        "import numpy as np\n",
        "import datetime as dt\n",
        "import matplotlib.pyplot as plt\n",
        "import seaborn as sns\n",
        "import pandas as pd\n",
        "import json\n",
        "import os\n",
        "from tqdm import tqdm\n",
        "from google.colab import drive\n",
        "from scipy.stats import norm\n",
        "\n",
        "# ==================== DATA GENERATION ====================\n",
        "def monte_carlo_paths(S_0, time_to_expiry, sigma, drift, seed, n_sims, n_timesteps):\n",
        "    \"\"\"Génère des paths de prix en 3D (timesteps+1, n_sims, 1)\"\"\"\n",
        "    if seed is not None:\n",
        "        np.random.seed(seed)\n",
        "\n",
        "    dt_val = time_to_expiry / n_timesteps\n",
        "    paths = np.zeros((n_timesteps + 1, n_sims, 1))\n",
        "    paths[0, :, 0] = S_0\n",
        "\n",
        "    for t in range(1, n_timesteps + 1):\n",
        "        rand = np.random.normal(0, 1, n_sims)\n",
        "        paths[t, :, 0] = paths[t-1, :, 0] * np.exp(\n",
        "            (drift - 0.5*sigma**2)*dt_val +\n",
        "            sigma*np.sqrt(dt_val)*rand\n",
        "        )\n",
        "\n",
        "    return paths\n",
        "\n",
        "# ==================== NEURAL AGENT ====================\n",
        "class Agent(tf.keras.Model):\n",
        "    def __init__(self, time_steps, batch_size, features, T, r=0.05, nodes=[64, 48, 32, 1], name='model'):\n",
        "        super().__init__(name=name)\n",
        "\n",
        "        self.time_steps = time_steps\n",
        "        self.batch_size = batch_size\n",
        "        self.features = features\n",
        "        self.T = T\n",
        "        self.r = r\n",
        "\n",
        "        # Architecture LSTM\n",
        "        self.lstm_layers = [\n",
        "            tf.keras.layers.LSTM(units,\n",
        "                               return_sequences=True,\n",
        "                               activation='tanh',\n",
        "                               kernel_initializer='glorot_uniform')\n",
        "            for units in nodes\n",
        "        ]\n",
        "\n",
        "        self.optimizer = tf.keras.optimizers.Adam(\n",
        "            learning_rate=0.001,\n",
        "            clipvalue=1.0\n",
        "        )\n",
        "\n",
        "    def call(self, inputs):\n",
        "        x = inputs\n",
        "        for lstm in self.lstm_layers:\n",
        "            x = lstm(x)\n",
        "        return tf.squeeze(x, axis=-1)\n",
        "\n",
        "    def calculate_hedging_pnl(self, S_t_input, K, strategy):\n",
        "        \"\"\"Calcule le PnL avec gestion explicite du cash\"\"\"\n",
        "        S = tf.squeeze(S_t_input, axis=-1)\n",
        "        time_steps = tf.shape(S)[0]\n",
        "        dt_val = self.T / tf.cast(time_steps - 1, tf.float32)\n",
        "\n",
        "        # Calcul des différences de delta\n",
        "        delta_diff = tf.concat([\n",
        "            strategy[0:1, :],  # Position initiale\n",
        "            strategy[1:, :] - strategy[:-1, :]\n",
        "        ], axis=0)\n",
        "\n",
        "        # Simulation du cash\n",
        "        cash = -delta_diff[0] * S[0]\n",
        "        for t in range(1, time_steps-1):\n",
        "            cash = cash * tf.exp(self.r * dt_val) - delta_diff[t] * S[t]\n",
        "\n",
        "        # Valeur finale\n",
        "        cash_final = cash * tf.exp(self.r * dt_val)\n",
        "        Pi_T = strategy[-1] * S[-1] + cash_final\n",
        "        return Pi_T - tf.maximum(S[-1] - K, 0)\n",
        "\n",
        "    def calculate_cvar(self, pnl, alpha):\n",
        "        \"\"\"Calcule le CVaR différenciable\"\"\"\n",
        "        sorted_pnl = tf.sort(pnl)\n",
        "        n = tf.cast(tf.shape(pnl)[0], tf.float32)\n",
        "        var_index = tf.cast((1 - alpha) * n, tf.int32)\n",
        "        return -tf.reduce_mean(sorted_pnl[:var_index])\n",
        "\n",
        "    @tf.function\n",
        "    def train_step(self, S_t_input, K, alpha):\n",
        "        \"\"\"Step d'entraînement optimisé\"\"\"\n",
        "        with tf.GradientTape() as tape:\n",
        "            strategy = self(S_t_input[:-1])\n",
        "            pnl = self.calculate_hedging_pnl(S_t_input, K, strategy)\n",
        "            cvar = self.calculate_cvar(pnl, alpha)\n",
        "\n",
        "        grads = tape.gradient(cvar, self.trainable_variables)\n",
        "        self.optimizer.apply_gradients(zip(grads, self.trainable_variables))\n",
        "        return cvar, pnl, strategy\n",
        "\n",
        "    def _execute_graph_batchwise(self, paths, strikes, riskaversion, epochs=1, training=False):\n",
        "        \"\"\"Gestion des batches avec suivi de progression\"\"\"\n",
        "        sample_size = paths.shape[1]\n",
        "        idx = np.arange(sample_size)\n",
        "\n",
        "        pnls = []\n",
        "        strategies = []\n",
        "\n",
        "        for epoch in tqdm(range(epochs), desc='Epochs'):\n",
        "            if training:\n",
        "                np.random.shuffle(idx)\n",
        "\n",
        "            for i in range(0, sample_size, self.batch_size):\n",
        "                batch_idx = idx[i:i+self.batch_size]\n",
        "                batch = paths[:, batch_idx, :]\n",
        "\n",
        "                if training:\n",
        "                    _, pnl, strat = self.train_step(\n",
        "                        tf.cast(batch, tf.float32),\n",
        "                        tf.cast(strikes[batch_idx], tf.float32),\n",
        "                        tf.constant(riskaversion, tf.float32)\n",
        "                    )\n",
        "                else:\n",
        "                    strat = self(tf.cast(batch[:-1], tf.float32))\n",
        "                    pnl = self.calculate_hedging_pnl(\n",
        "                        tf.cast(batch, tf.float32),\n",
        "                        tf.cast(strikes[batch_idx], tf.float32),\n",
        "                        strat\n",
        "                    )\n",
        "\n",
        "                pnls.append(pnl.numpy())\n",
        "                strategies.append(strat.numpy())\n",
        "\n",
        "            if training and (epoch % 10 == 0):\n",
        "                current_cvar = np.mean(-np.sort(np.concatenate(pnls))[:int(0.05*sample_size)])\n",
        "                print(f\"Epoch {epoch} | CVaR: {current_cvar:.4f}\")\n",
        "\n",
        "        return np.concatenate(pnls), np.concatenate(strategies, axis=1)\n",
        "\n",
        "    def training(self, paths, strikes, riskaversion, epochs):\n",
        "        \"\"\"Interface d'entraînement\"\"\"\n",
        "        return self._execute_graph_batchwise(paths, strikes, riskaversion, epochs, training=True)\n",
        "\n",
        "    def predict(self, paths, strikes, riskaversion):\n",
        "        \"\"\"Interface de prédiction\"\"\"\n",
        "        return self._execute_graph_batchwise(paths, strikes, riskaversion, training=False)\n",
        "\n",
        "# ==================== TRAINING EXECUTION ====================\n",
        "def run_training():\n",
        "    # Configuration\n",
        "    params = {\n",
        "        'S_0': 100,\n",
        "        'T': 1/12,\n",
        "        'r': 0.05,\n",
        "        'vol': 0.2,\n",
        "        'timesteps': 15,\n",
        "        'n_sims': 10000,\n",
        "        'batch_size': 500,\n",
        "        'epochs': 10,\n",
        "        'alpha': 0.95\n",
        "    }\n",
        "\n",
        "    # Génération des données\n",
        "    print(\"Génération des paths...\")\n",
        "    paths = monte_carlo_paths(\n",
        "        params['S_0'],\n",
        "        params['T'],\n",
        "        params['vol'],\n",
        "        params['r'],\n",
        "        seed=42,\n",
        "        n_sims=params['n_sims'],\n",
        "        n_timesteps=params['timesteps']\n",
        "    )\n",
        "\n",
        "    # Initialisation modèle\n",
        "    model = Agent(\n",
        "        time_steps=paths.shape[0],\n",
        "        batch_size=params['batch_size'],\n",
        "        features=1,\n",
        "        T=params['T'],\n",
        "        r=params['r']\n",
        "    )\n",
        "\n",
        "    # Entraînement\n",
        "    print(\"Début de l'entraînement...\")\n",
        "    model.training(\n",
        "        paths,\n",
        "        np.full(params['n_sims'], 100),  # K=100\n",
        "        params['alpha'],\n",
        "        params['epochs']\n",
        "    )\n",
        "\n",
        "    return model\n",
        "\n",
        "# ==================== TESTING FRAMEWORK ====================\n",
        "class HedgingTest:\n",
        "    def __init__(self, S_0=100, K=100, r=0.05, T=1/12, vol=0.2, timesteps=15):\n",
        "        self.params = {\n",
        "            'S_0': S_0,\n",
        "            'K': K,\n",
        "            'r': r,\n",
        "            'T': T,\n",
        "            'vol': vol,\n",
        "            'timesteps': timesteps\n",
        "        }\n",
        "        self.dt = T / timesteps\n",
        "\n",
        "    def black_scholes_delta(self, S, t):\n",
        "        \"\"\"Delta BS avec taux sans risque (version corrigée)\"\"\"\n",
        "        if t <= 1e-6:\n",
        "            return np.where(S > self.params['K'], 1.0, 0.0)\n",
        "\n",
        "        # Formule correctement formatée\n",
        "        d1 = (\n",
        "            np.log(S/self.params['K'])\n",
        "            + (self.params['r'] + 0.5*self.params['vol']**2)*t\n",
        "        ) / (self.params['vol']*np.sqrt(t))\n",
        "\n",
        "        return norm.cdf(d1)\n",
        "\n",
        "\n",
        "    def calculate_bs_pnl(self, paths):\n",
        "        \"\"\"Calcul précis du PnL BS avec cash\"\"\"\n",
        "        n_sims = paths.shape[1]\n",
        "        pnls = np.zeros(n_sims)\n",
        "\n",
        "        for i in range(n_sims):\n",
        "            path = paths[:, i, 0]\n",
        "            cash = 0.0\n",
        "            delta_prev = 0.0\n",
        "\n",
        "            for t in range(len(path)-1):\n",
        "                time_left = self.params['T'] - t*self.dt\n",
        "                delta = self.black_scholes_delta(path[t], time_left)\n",
        "                cash = cash * np.exp(self.params['r'] * self.dt) - (delta - delta_prev)*path[t]\n",
        "                delta_prev = delta\n",
        "\n",
        "            cash_final = cash * np.exp(self.params['r'] * self.dt)\n",
        "            Pi_T = delta_prev * path[-1] + cash_final\n",
        "            pnls[i] = Pi_T - max(path[-1] - self.params['K'], 0)\n",
        "\n",
        "        return pnls\n",
        "\n",
        "    def compare_strategies(self, model, n_paths=5000):\n",
        "    \"\"\"Comparaison complète des performances\"\"\"\n",
        "    # Paramètres pour la génération de paths\n",
        "    path_params = {\n",
        "        'S_0': self.params['S_0'],\n",
        "        'time_to_expiry': self.params['T'],\n",
        "        'sigma': self.params['vol'],\n",
        "        'drift': self.params['r'],\n",
        "        'n_timesteps': self.params['timesteps'],\n",
        "        'seed': 42,\n",
        "        'n_sims': n_paths\n",
        "    }\n",
        "\n",
        "    # Génération des paths\n",
        "    paths = monte_carlo_paths(**path_params)\n",
        "\n",
        "        # Calcul BS\n",
        "        bs_pnl = self.calculate_bs_pnl(paths)\n",
        "\n",
        "        # Calcul LSTM\n",
        "        lstm_pnl, _ = model.predict(\n",
        "            paths,\n",
        "            np.full(n_paths, self.params['K']),\n",
        "            0.95\n",
        "        )\n",
        "\n",
        "        # Analyse\n",
        "        results = {\n",
        "            'BS': {\n",
        "                'Mean': bs_pnl.mean(),\n",
        "                'Std': bs_pnl.std(),\n",
        "                'CVaR_95': self._calculate_cvar(bs_pnl, 0.95)\n",
        "            },\n",
        "            'LSTM': {\n",
        "                'Mean': lstm_pnl.mean(),\n",
        "                'Std': lstm_pnl.std(),\n",
        "                'CVaR_95': self._calculate_cvar(lstm_pnl, 0.95)\n",
        "            }\n",
        "        }\n",
        "\n",
        "        # Visualisation\n",
        "        self._plot_distributions(bs_pnl, lstm_pnl)\n",
        "        return results\n",
        "\n",
        "    def _calculate_cvar(self, pnl, alpha):\n",
        "        sorted_pnl = np.sort(pnl)\n",
        "        n_worst = int((1 - alpha) * len(pnl))\n",
        "        return -sorted_pnl[:n_worst].mean()\n",
        "\n",
        "    def _plot_distributions(self, bs_pnl, lstm_pnl):\n",
        "        plt.figure(figsize=(15, 6))\n",
        "\n",
        "        plt.subplot(1, 2, 1)\n",
        "        sns.histplot(bs_pnl, color='blue', label='Black-Scholes', kde=True, alpha=0.3)\n",
        "        sns.histplot(lstm_pnl, color='red', label='LSTM', kde=True, alpha=0.3)\n",
        "        plt.title('Distribution des PnL')\n",
        "        plt.xlabel('PnL')\n",
        "        plt.legend()\n",
        "\n",
        "        plt.subplot(1, 2, 2)\n",
        "        plt.scatter(np.sort(bs_pnl), np.sort(lstm_pnl), alpha=0.5)\n",
        "        plt.plot([bs_pnl.min(), bs_pnl.max()], [bs_pnl.min(), bs_pnl.max()], 'r--')\n",
        "        plt.title('Q-Q Plot des PnL')\n",
        "        plt.xlabel('Black-Scholes')\n",
        "        plt.ylabel('LSTM')\n",
        "\n",
        "        plt.tight_layout()\n",
        "        plt.show()\n",
        "\n",
        "# ==================== EXECUTION ====================\n",
        "if __name__ == \"__main__\":\n",
        "    # Montage Google Drive\n",
        "    drive.mount('/content/drive')\n",
        "\n",
        "    # Entraînement\n",
        "    model = run_training()\n",
        "\n",
        "    # Évaluation\n",
        "    tester = HedgingTest()\n",
        "    results = tester.compare_strategies(model)\n",
        "\n",
        "    # Affichage résultats\n",
        "    print(\"\\nRésultats comparatifs:\")\n",
        "    print(pd.DataFrame(results).T)"
      ],
      "metadata": {
        "colab": {
          "base_uri": "https://localhost:8080/",
          "height": 106
        },
        "id": "Tu-XcHCvjnbJ",
        "outputId": "71b51458-e85f-4116-d4a5-18b2ea517b2c"
      },
      "execution_count": null,
      "outputs": [
        {
          "output_type": "error",
          "ename": "IndentationError",
          "evalue": "expected an indented block after function definition on line 247 (<ipython-input-2-5688e97665af>, line 248)",
          "traceback": [
            "\u001b[0;36m  File \u001b[0;32m\"<ipython-input-2-5688e97665af>\"\u001b[0;36m, line \u001b[0;32m248\u001b[0m\n\u001b[0;31m    \"\"\"Comparaison complète des performances\"\"\"\u001b[0m\n\u001b[0m    ^\u001b[0m\n\u001b[0;31mIndentationError\u001b[0m\u001b[0;31m:\u001b[0m expected an indented block after function definition on line 247\n"
          ]
        }
      ]
    },
    {
      "cell_type": "code",
      "source": [
        "import tensorflow as tf\n",
        "import numpy as np\n",
        "import datetime as dt\n",
        "import matplotlib.pyplot as plt\n",
        "import seaborn as sns\n",
        "import pandas as pd\n",
        "import json\n",
        "import os\n",
        "from tqdm import tqdm\n",
        "from google.colab import drive\n",
        "from scipy.stats import norm\n",
        "\n",
        "# ==================== GÉNÉRATION DE DONNÉES ====================\n",
        "def monte_carlo_paths(S_0, time_to_expiry, sigma, drift, seed, n_sims, n_timesteps):\n",
        "    \"\"\"Génère des paths de prix en 3D (n_timesteps+1, n_sims, 1)\"\"\"\n",
        "    if seed is not None:\n",
        "        np.random.seed(seed)\n",
        "\n",
        "    dt_val = time_to_expiry / n_timesteps\n",
        "    paths = np.zeros((n_timesteps + 1, n_sims, 1))\n",
        "    paths[0, :, 0] = S_0\n",
        "\n",
        "    for t in range(1, n_timesteps + 1):\n",
        "        rand = np.random.normal(0, 1, n_sims)\n",
        "        paths[t, :, 0] = paths[t-1, :, 0] * np.exp(\n",
        "            (drift - 0.5*sigma**2)*dt_val +\n",
        "            sigma*np.sqrt(dt_val)*rand\n",
        "        )\n",
        "\n",
        "    return paths\n",
        "\n",
        "# ==================== MODÈLE LSTM ====================\n",
        "class Agent(tf.keras.Model):\n",
        "    def __init__(self, time_steps, batch_size, features, T, r=0.05, nodes=[64, 48, 32, 1], name='model'):\n",
        "        super().__init__(name=name)\n",
        "\n",
        "        self.time_steps = time_steps\n",
        "        self.batch_size = batch_size\n",
        "        self.features = features\n",
        "        self.T = T  # Maturité\n",
        "        self.r = r   # Taux sans risque\n",
        "\n",
        "        # Architecture LSTM\n",
        "        self.lstm_layers = [\n",
        "            tf.keras.layers.LSTM(units,\n",
        "                               return_sequences=True,\n",
        "                               activation='tanh',\n",
        "                               kernel_initializer='glorot_uniform')\n",
        "            for units in nodes\n",
        "        ]\n",
        "\n",
        "        self.optimizer = tf.keras.optimizers.Adam(\n",
        "            learning_rate=0.001,\n",
        "            clipvalue=1.0\n",
        "        )\n",
        "\n",
        "    def call(self, inputs):\n",
        "        x = inputs\n",
        "        for lstm in self.lstm_layers:\n",
        "            x = lstm(x)\n",
        "        return tf.squeeze(x, axis=-1)\n",
        "\n",
        "    def calculate_hedging_pnl(self, S_t_input, K, strategy):\n",
        "        \"\"\"Calcule le PnL avec gestion du cash\"\"\"\n",
        "        S = tf.squeeze(S_t_input, axis=-1)\n",
        "        time_steps = tf.shape(S)[0]\n",
        "        dt_val = self.T / tf.cast(time_steps - 1, tf.float32)\n",
        "\n",
        "        # Calcul des différences de delta\n",
        "        delta_diff = tf.concat([\n",
        "            strategy[0:1, :],  # Position initiale\n",
        "            strategy[1:, :] - strategy[:-1, :]\n",
        "        ], axis=0)\n",
        "\n",
        "        # Simulation du cash\n",
        "        cash = -delta_diff[0] * S[0]\n",
        "        for t in range(1, time_steps-1):\n",
        "            cash = cash * tf.exp(self.r * dt_val) - delta_diff[t] * S[t]\n",
        "\n",
        "        # Valeur finale\n",
        "        cash_final = cash * tf.exp(self.r * dt_val)\n",
        "        Pi_T = strategy[-1] * S[-1] + cash_final\n",
        "        return Pi_T - tf.maximum(S[-1] - K, 0)\n",
        "\n",
        "    def calculate_cvar(self, pnl, alpha):\n",
        "        \"\"\"Calcule le CVaR différenciable\"\"\"\n",
        "        sorted_pnl = tf.sort(pnl)\n",
        "        n = tf.cast(tf.shape(pnl)[0], tf.float32)\n",
        "        var_index = tf.cast((1 - alpha) * n, tf.int32)\n",
        "        return -tf.reduce_mean(sorted_pnl[:var_index])\n",
        "\n",
        "    @tf.function\n",
        "    def train_step(self, S_t_input, K, alpha):\n",
        "        \"\"\"Étape d'entraînement optimisée\"\"\"\n",
        "        with tf.GradientTape() as tape:\n",
        "            strategy = self(S_t_input[:-1])\n",
        "            pnl = self.calculate_hedging_pnl(S_t_input, K, strategy)\n",
        "            cvar = self.calculate_cvar(pnl, alpha)\n",
        "\n",
        "        grads = tape.gradient(cvar, self.trainable_variables)\n",
        "        self.optimizer.apply_gradients(zip(grads, self.trainable_variables))\n",
        "        return cvar, pnl, strategy\n",
        "\n",
        "    def training(self, paths, strikes, riskaversion, epochs):\n",
        "        \"\"\"Processus d'entraînement complet\"\"\"\n",
        "        sample_size = paths.shape[1]\n",
        "        idx = np.arange(sample_size)\n",
        "\n",
        "        for epoch in tqdm(range(epochs), desc='Entraînement'):\n",
        "            np.random.shuffle(idx)\n",
        "            pnls = []\n",
        "\n",
        "            for i in range(0, sample_size, self.batch_size):\n",
        "                batch_idx = idx[i:i+self.batch_size]\n",
        "                batch = paths[:, batch_idx, :]\n",
        "\n",
        "                _, pnl, _ = self.train_step(\n",
        "                    tf.cast(batch, tf.float32),\n",
        "                    tf.cast(strikes[batch_idx], tf.float32),\n",
        "                    tf.constant(riskaversion, tf.float32)\n",
        "                )\n",
        "                pnls.append(pnl.numpy())\n",
        "\n",
        "            if epoch % 10 == 0:\n",
        "                current_cvar = np.mean(-np.sort(np.concatenate(pnls))[:int(0.05*sample_size)])\n",
        "                print(f\"Epoch {epoch} | CVaR: {current_cvar:.4f}\")\n",
        "\n",
        "        return self\n",
        "\n",
        "# ==================== ÉVALUATION ====================\n",
        "class HedgingTest:\n",
        "    def __init__(self, S_0=100, K=100, r=0.05, T=1/12, vol=0.2, timesteps=15):\n",
        "        self.params = {\n",
        "            'S_0': S_0,\n",
        "            'K': K,\n",
        "            'r': r,\n",
        "            'T': T,\n",
        "            'vol': vol,\n",
        "            'timesteps': timesteps\n",
        "        }\n",
        "        self.dt = T / timesteps\n",
        "\n",
        "    def black_scholes_delta(self, S, t):\n",
        "        \"\"\"Calcul du delta Black-Scholes corrigé\"\"\"\n",
        "        if t <= 1e-6:\n",
        "            return np.where(S > self.params['K'], 1.0, 0.0)\n",
        "\n",
        "        d1 = (np.log(S/self.params['K'])\n",
        "              + (self.params['r'] + 0.5*self.params['vol']**2)*t\n",
        "             ) / (self.params['vol']*np.sqrt(t))\n",
        "\n",
        "        return norm.cdf(d1)\n",
        "\n",
        "    def calculate_bs_pnl(self, paths):\n",
        "        \"\"\"Calcul précis du PnL BS avec cash\"\"\"\n",
        "        n_sims = paths.shape[1]\n",
        "        pnls = np.zeros(n_sims)\n",
        "\n",
        "        for i in range(n_sims):\n",
        "            path = paths[:, i, 0]\n",
        "            cash = 0.0\n",
        "            delta_prev = 0.0\n",
        "\n",
        "            for t in range(len(path)-1):\n",
        "                time_left = self.params['T'] - t*self.dt\n",
        "                delta = self.black_scholes_delta(path[t], time_left)\n",
        "                cash = cash * np.exp(self.params['r'] * self.dt) - (delta - delta_prev)*path[t]\n",
        "                delta_prev = delta\n",
        "\n",
        "            cash_final = cash * np.exp(self.params['r'] * self.dt)\n",
        "            Pi_T = delta_prev * path[-1] + cash_final\n",
        "            pnls[i] = Pi_T - max(path[-1] - self.params['K'], 0)\n",
        "\n",
        "        return pnls\n",
        "\n",
        "    def compare_strategies(self, model, n_paths=5000):\n",
        "        \"\"\"Comparaison des stratégies corrigée\"\"\"\n",
        "        # Génération des paths\n",
        "        path_params = {\n",
        "            'S_0': self.params['S_0'],\n",
        "            'time_to_expiry': self.params['T'],\n",
        "            'sigma': self.params['vol'],\n",
        "            'drift': self.params['r'],\n",
        "            'seed': 42,\n",
        "            'n_sims': n_paths,\n",
        "            'n_timesteps': self.params['timesteps']\n",
        "        }\n",
        "        paths = monte_carlo_paths(**path_params)\n",
        "\n",
        "        # Calcul BS\n",
        "        bs_pnl = self.calculate_bs_pnl(paths)\n",
        "\n",
        "        # Calcul LSTM\n",
        "        strategy = model(paths[:-1])\n",
        "        lstm_pnl = model.calculate_hedging_pnl(\n",
        "            tf.constant(paths, tf.float32),\n",
        "            tf.constant([self.params['K']]*n_paths, tf.float32),\n",
        "            strategy\n",
        "        ).numpy()\n",
        "\n",
        "        # Analyse\n",
        "        results = {\n",
        "            'Black-Scholes': {\n",
        "                'Moyenne': bs_pnl.mean(),\n",
        "                'Écart-type': bs_pnl.std(),\n",
        "                'CVaR 95%': self._calculate_cvar(bs_pnl, 0.95)\n",
        "            },\n",
        "            'LSTM': {\n",
        "                'Moyenne': lstm_pnl.mean(),\n",
        "                'Écart-type': lstm_pnl.std(),\n",
        "                'CVaR 95%': self._calculate_cvar(lstm_pnl, 0.95)\n",
        "            }\n",
        "        }\n",
        "\n",
        "        # Visualisation\n",
        "        self._plot_results(bs_pnl, lstm_pnl)\n",
        "        return results\n",
        "\n",
        "    def _calculate_cvar(self, pnl, alpha):\n",
        "        \"\"\"Calcul du CVaR\"\"\"\n",
        "        sorted_pnl = np.sort(pnl)\n",
        "        n_worst = int((1 - alpha) * len(pnl))\n",
        "        return -sorted_pnl[:n_worst].mean()\n",
        "\n",
        "    def _plot_results(self, bs_pnl, lstm_pnl):\n",
        "        \"\"\"Visualisation des résultats\"\"\"\n",
        "        plt.figure(figsize=(15, 6))\n",
        "\n",
        "        # Distribution des PnL\n",
        "        plt.subplot(1, 2, 1)\n",
        "        sns.kdeplot(bs_pnl, label='Black-Scholes', fill=True)\n",
        "        sns.kdeplot(lstm_pnl, label='LSTM', fill=True)\n",
        "        plt.title('Distribution des PnL')\n",
        "        plt.xlabel('PnL')\n",
        "        plt.legend()\n",
        "\n",
        "        # Comparaison des CVaR\n",
        "        plt.subplot(1, 2, 2)\n",
        "        plt.bar(['Black-Scholes', 'LSTM'],\n",
        "                [self._calculate_cvar(bs_pnl, 0.95),\n",
        "                 self._calculate_cvar(lstm_pnl, 0.95)])\n",
        "        plt.title('CVaR 95% Comparaison')\n",
        "        plt.ylabel('CVaR')\n",
        "\n",
        "        plt.tight_layout()\n",
        "        plt.show()\n",
        "\n",
        "# ==================== EXÉCUTION ====================\n",
        "def run_training():\n",
        "    # Configuration\n",
        "    params = {\n",
        "        'S_0': 100,\n",
        "        'T': 1/12,\n",
        "        'r': 0.05,\n",
        "        'vol': 0.2,\n",
        "        'timesteps': 15,\n",
        "        'n_sims': 10000,\n",
        "        'batch_size': 500,\n",
        "        'epochs': 5000,\n",
        "        'alpha': 0.95\n",
        "    }\n",
        "\n",
        "    # Génération des données\n",
        "    print(\"Génération des paths...\")\n",
        "    paths = monte_carlo_paths(\n",
        "        S_0=params['S_0'],\n",
        "        time_to_expiry=params['T'],\n",
        "        sigma=params['vol'],\n",
        "        drift=params['r'],\n",
        "        seed=42,\n",
        "        n_sims=params['n_sims'],\n",
        "        n_timesteps=params['timesteps']\n",
        "    )\n",
        "\n",
        "    # Initialisation modèle\n",
        "    model = Agent(\n",
        "        time_steps=paths.shape[0],\n",
        "        batch_size=params['batch_size'],\n",
        "        features=1,\n",
        "        T=params['T'],\n",
        "        r=params['r']\n",
        "    )\n",
        "\n",
        "    # Entraînement\n",
        "    print(\"Début de l'entraînement...\")\n",
        "    model.training(\n",
        "        paths,\n",
        "        np.full(params['n_sims'], 100),  # K=100\n",
        "        params['alpha'],\n",
        "        params['epochs']\n",
        "    )\n",
        "\n",
        "    return model\n",
        "\n",
        "# Exécution principale\n",
        "if __name__ == \"__main__\":\n",
        "    drive.mount('/content/drive')\n",
        "    trained_model = run_training()\n",
        "    tester = HedgingTest()\n",
        "    results = tester.compare_strategies(trained_model)\n",
        "    print(pd.DataFrame(results).T)"
      ],
      "metadata": {
        "id": "fUcBta7BrUsA",
        "colab": {
          "base_uri": "https://localhost:8080/"
        },
        "outputId": "823f57bb-8396-4053-9d3e-cfc65b2462b8"
      },
      "execution_count": null,
      "outputs": [
        {
          "output_type": "stream",
          "name": "stdout",
          "text": [
            "Mounted at /content/drive\n",
            "Génération des paths...\n",
            "Début de l'entraînement...\n"
          ]
        },
        {
          "output_type": "stream",
          "name": "stderr",
          "text": [
            "Entraînement:   0%|          | 1/10000 [00:09<26:25:22,  9.51s/it]"
          ]
        },
        {
          "output_type": "stream",
          "name": "stdout",
          "text": [
            "Epoch 0 | CVaR: 7.5484\n"
          ]
        },
        {
          "output_type": "stream",
          "name": "stderr",
          "text": [
            "Entraînement:   0%|          | 11/10000 [00:19<3:08:48,  1.13s/it]"
          ]
        },
        {
          "output_type": "stream",
          "name": "stdout",
          "text": [
            "Epoch 10 | CVaR: 7.0361\n"
          ]
        },
        {
          "output_type": "stream",
          "name": "stderr",
          "text": [
            "Entraînement:   0%|          | 21/10000 [00:30<2:40:38,  1.04it/s]"
          ]
        },
        {
          "output_type": "stream",
          "name": "stdout",
          "text": [
            "Epoch 20 | CVaR: 4.6941\n"
          ]
        },
        {
          "output_type": "stream",
          "name": "stderr",
          "text": [
            "Entraînement:   0%|          | 31/10000 [00:40<2:44:39,  1.01it/s]"
          ]
        },
        {
          "output_type": "stream",
          "name": "stdout",
          "text": [
            "Epoch 30 | CVaR: 3.9550\n"
          ]
        },
        {
          "output_type": "stream",
          "name": "stderr",
          "text": [
            "Entraînement:   0%|          | 41/10000 [00:51<3:01:47,  1.10s/it]"
          ]
        },
        {
          "output_type": "stream",
          "name": "stdout",
          "text": [
            "Epoch 40 | CVaR: 3.8522\n"
          ]
        },
        {
          "output_type": "stream",
          "name": "stderr",
          "text": [
            "Entraînement:   1%|          | 51/10000 [01:02<3:09:27,  1.14s/it]"
          ]
        },
        {
          "output_type": "stream",
          "name": "stdout",
          "text": [
            "Epoch 50 | CVaR: 3.9508\n"
          ]
        },
        {
          "output_type": "stream",
          "name": "stderr",
          "text": [
            "Entraînement:   1%|          | 61/10000 [01:11<2:45:42,  1.00s/it]"
          ]
        },
        {
          "output_type": "stream",
          "name": "stdout",
          "text": [
            "Epoch 60 | CVaR: 3.9503\n"
          ]
        },
        {
          "output_type": "stream",
          "name": "stderr",
          "text": [
            "Entraînement:   1%|          | 71/10000 [01:22<2:38:28,  1.04it/s]"
          ]
        },
        {
          "output_type": "stream",
          "name": "stdout",
          "text": [
            "Epoch 70 | CVaR: 3.7901\n"
          ]
        },
        {
          "output_type": "stream",
          "name": "stderr",
          "text": [
            "Entraînement:   1%|          | 81/10000 [01:32<2:44:34,  1.00it/s]"
          ]
        },
        {
          "output_type": "stream",
          "name": "stdout",
          "text": [
            "Epoch 80 | CVaR: 3.7567\n"
          ]
        },
        {
          "output_type": "stream",
          "name": "stderr",
          "text": [
            "Entraînement:   1%|          | 91/10000 [01:43<2:53:24,  1.05s/it]"
          ]
        },
        {
          "output_type": "stream",
          "name": "stdout",
          "text": [
            "Epoch 90 | CVaR: 3.7816\n"
          ]
        },
        {
          "output_type": "stream",
          "name": "stderr",
          "text": [
            "Entraînement:   1%|          | 101/10000 [01:54<3:18:07,  1.20s/it]"
          ]
        },
        {
          "output_type": "stream",
          "name": "stdout",
          "text": [
            "Epoch 100 | CVaR: 3.7516\n"
          ]
        },
        {
          "output_type": "stream",
          "name": "stderr",
          "text": [
            "Entraînement:   1%|          | 111/10000 [02:03<2:43:33,  1.01it/s]"
          ]
        },
        {
          "output_type": "stream",
          "name": "stdout",
          "text": [
            "Epoch 110 | CVaR: 3.7690\n"
          ]
        },
        {
          "output_type": "stream",
          "name": "stderr",
          "text": [
            "Entraînement:   1%|          | 121/10000 [02:14<2:44:19,  1.00it/s]"
          ]
        },
        {
          "output_type": "stream",
          "name": "stdout",
          "text": [
            "Epoch 120 | CVaR: 3.7801\n"
          ]
        },
        {
          "output_type": "stream",
          "name": "stderr",
          "text": [
            "Entraînement:   1%|▏         | 131/10000 [02:25<2:44:39,  1.00s/it]"
          ]
        },
        {
          "output_type": "stream",
          "name": "stdout",
          "text": [
            "Epoch 130 | CVaR: 3.7673\n"
          ]
        },
        {
          "output_type": "stream",
          "name": "stderr",
          "text": [
            "Entraînement:   1%|▏         | 141/10000 [02:36<3:15:46,  1.19s/it]"
          ]
        },
        {
          "output_type": "stream",
          "name": "stdout",
          "text": [
            "Epoch 140 | CVaR: 3.7353\n"
          ]
        },
        {
          "output_type": "stream",
          "name": "stderr",
          "text": [
            "Entraînement:   2%|▏         | 151/10000 [02:47<3:09:47,  1.16s/it]"
          ]
        },
        {
          "output_type": "stream",
          "name": "stdout",
          "text": [
            "Epoch 150 | CVaR: 3.7107\n"
          ]
        },
        {
          "output_type": "stream",
          "name": "stderr",
          "text": [
            "Entraînement:   2%|▏         | 161/10000 [02:58<3:14:20,  1.19s/it]"
          ]
        },
        {
          "output_type": "stream",
          "name": "stdout",
          "text": [
            "Epoch 160 | CVaR: 3.7828\n"
          ]
        },
        {
          "output_type": "stream",
          "name": "stderr",
          "text": [
            "Entraînement:   2%|▏         | 171/10000 [03:08<2:39:32,  1.03it/s]"
          ]
        },
        {
          "output_type": "stream",
          "name": "stdout",
          "text": [
            "Epoch 170 | CVaR: 3.7763\n"
          ]
        },
        {
          "output_type": "stream",
          "name": "stderr",
          "text": [
            "Entraînement:   2%|▏         | 181/10000 [03:19<2:40:26,  1.02it/s]"
          ]
        },
        {
          "output_type": "stream",
          "name": "stdout",
          "text": [
            "Epoch 180 | CVaR: 3.8035\n"
          ]
        },
        {
          "output_type": "stream",
          "name": "stderr",
          "text": [
            "Entraînement:   2%|▏         | 191/10000 [03:29<2:46:02,  1.02s/it]"
          ]
        },
        {
          "output_type": "stream",
          "name": "stdout",
          "text": [
            "Epoch 190 | CVaR: 3.7315\n"
          ]
        },
        {
          "output_type": "stream",
          "name": "stderr",
          "text": [
            "Entraînement:   2%|▏         | 201/10000 [03:40<3:01:54,  1.11s/it]"
          ]
        },
        {
          "output_type": "stream",
          "name": "stdout",
          "text": [
            "Epoch 200 | CVaR: 3.7279\n"
          ]
        },
        {
          "output_type": "stream",
          "name": "stderr",
          "text": [
            "Entraînement:   2%|▏         | 211/10000 [03:50<3:04:08,  1.13s/it]"
          ]
        },
        {
          "output_type": "stream",
          "name": "stdout",
          "text": [
            "Epoch 210 | CVaR: 3.6865\n"
          ]
        },
        {
          "output_type": "stream",
          "name": "stderr",
          "text": [
            "Entraînement:   2%|▏         | 221/10000 [04:00<2:37:00,  1.04it/s]"
          ]
        },
        {
          "output_type": "stream",
          "name": "stdout",
          "text": [
            "Epoch 220 | CVaR: 3.6772\n"
          ]
        },
        {
          "output_type": "stream",
          "name": "stderr",
          "text": [
            "Entraînement:   2%|▏         | 231/10000 [04:11<2:41:06,  1.01it/s]"
          ]
        },
        {
          "output_type": "stream",
          "name": "stdout",
          "text": [
            "Epoch 230 | CVaR: 3.7516\n"
          ]
        },
        {
          "output_type": "stream",
          "name": "stderr",
          "text": [
            "Entraînement:   2%|▏         | 241/10000 [04:21<2:44:40,  1.01s/it]"
          ]
        },
        {
          "output_type": "stream",
          "name": "stdout",
          "text": [
            "Epoch 240 | CVaR: 3.6969\n"
          ]
        },
        {
          "output_type": "stream",
          "name": "stderr",
          "text": [
            "Entraînement:   3%|▎         | 251/10000 [04:31<3:01:28,  1.12s/it]"
          ]
        },
        {
          "output_type": "stream",
          "name": "stdout",
          "text": [
            "Epoch 250 | CVaR: 3.7118\n"
          ]
        },
        {
          "output_type": "stream",
          "name": "stderr",
          "text": [
            "Entraînement:   3%|▎         | 261/10000 [04:42<2:59:47,  1.11s/it]"
          ]
        },
        {
          "output_type": "stream",
          "name": "stdout",
          "text": [
            "Epoch 260 | CVaR: 3.7354\n"
          ]
        },
        {
          "output_type": "stream",
          "name": "stderr",
          "text": [
            "Entraînement:   3%|▎         | 271/10000 [04:52<2:38:35,  1.02it/s]"
          ]
        },
        {
          "output_type": "stream",
          "name": "stdout",
          "text": [
            "Epoch 270 | CVaR: 3.6883\n"
          ]
        },
        {
          "output_type": "stream",
          "name": "stderr",
          "text": [
            "Entraînement:   3%|▎         | 281/10000 [05:03<2:38:40,  1.02it/s]"
          ]
        },
        {
          "output_type": "stream",
          "name": "stdout",
          "text": [
            "Epoch 280 | CVaR: 3.7205\n"
          ]
        },
        {
          "output_type": "stream",
          "name": "stderr",
          "text": [
            "Entraînement:   3%|▎         | 291/10000 [05:13<2:44:54,  1.02s/it]"
          ]
        },
        {
          "output_type": "stream",
          "name": "stdout",
          "text": [
            "Epoch 290 | CVaR: 3.6936\n"
          ]
        },
        {
          "output_type": "stream",
          "name": "stderr",
          "text": [
            "Entraînement:   3%|▎         | 301/10000 [05:24<3:02:07,  1.13s/it]"
          ]
        },
        {
          "output_type": "stream",
          "name": "stdout",
          "text": [
            "Epoch 300 | CVaR: 3.6902\n"
          ]
        },
        {
          "output_type": "stream",
          "name": "stderr",
          "text": [
            "Entraînement:   3%|▎         | 311/10000 [05:34<3:04:03,  1.14s/it]"
          ]
        },
        {
          "output_type": "stream",
          "name": "stdout",
          "text": [
            "Epoch 310 | CVaR: 3.7092\n"
          ]
        },
        {
          "output_type": "stream",
          "name": "stderr",
          "text": [
            "Entraînement:   3%|▎         | 321/10000 [05:45<2:38:04,  1.02it/s]"
          ]
        },
        {
          "output_type": "stream",
          "name": "stdout",
          "text": [
            "Epoch 320 | CVaR: 3.6822\n"
          ]
        },
        {
          "output_type": "stream",
          "name": "stderr",
          "text": [
            "Entraînement:   3%|▎         | 331/10000 [05:55<2:37:54,  1.02it/s]"
          ]
        },
        {
          "output_type": "stream",
          "name": "stdout",
          "text": [
            "Epoch 330 | CVaR: 3.6769\n"
          ]
        },
        {
          "output_type": "stream",
          "name": "stderr",
          "text": [
            "Entraînement:   3%|▎         | 341/10000 [06:06<2:44:06,  1.02s/it]"
          ]
        },
        {
          "output_type": "stream",
          "name": "stdout",
          "text": [
            "Epoch 340 | CVaR: 3.6572\n"
          ]
        },
        {
          "output_type": "stream",
          "name": "stderr",
          "text": [
            "Entraînement:   4%|▎         | 351/10000 [06:16<2:56:49,  1.10s/it]"
          ]
        },
        {
          "output_type": "stream",
          "name": "stdout",
          "text": [
            "Epoch 350 | CVaR: 3.6929\n"
          ]
        },
        {
          "output_type": "stream",
          "name": "stderr",
          "text": [
            "Entraînement:   4%|▎         | 361/10000 [06:27<3:04:05,  1.15s/it]"
          ]
        },
        {
          "output_type": "stream",
          "name": "stdout",
          "text": [
            "Epoch 360 | CVaR: 3.7329\n"
          ]
        },
        {
          "output_type": "stream",
          "name": "stderr",
          "text": [
            "Entraînement:   4%|▎         | 371/10000 [06:37<2:35:22,  1.03it/s]"
          ]
        },
        {
          "output_type": "stream",
          "name": "stdout",
          "text": [
            "Epoch 370 | CVaR: 3.7330\n"
          ]
        },
        {
          "output_type": "stream",
          "name": "stderr",
          "text": [
            "Entraînement:   4%|▍         | 381/10000 [06:47<2:39:20,  1.01it/s]"
          ]
        },
        {
          "output_type": "stream",
          "name": "stdout",
          "text": [
            "Epoch 380 | CVaR: 3.6816\n"
          ]
        },
        {
          "output_type": "stream",
          "name": "stderr",
          "text": [
            "Entraînement:   4%|▍         | 391/10000 [06:58<2:42:00,  1.01s/it]"
          ]
        },
        {
          "output_type": "stream",
          "name": "stdout",
          "text": [
            "Epoch 390 | CVaR: 3.6942\n"
          ]
        },
        {
          "output_type": "stream",
          "name": "stderr",
          "text": [
            "Entraînement:   4%|▍         | 401/10000 [07:09<2:56:54,  1.11s/it]"
          ]
        },
        {
          "output_type": "stream",
          "name": "stdout",
          "text": [
            "Epoch 400 | CVaR: 3.6617\n"
          ]
        },
        {
          "output_type": "stream",
          "name": "stderr",
          "text": [
            "Entraînement:   4%|▍         | 411/10000 [07:19<2:59:20,  1.12s/it]"
          ]
        },
        {
          "output_type": "stream",
          "name": "stdout",
          "text": [
            "Epoch 410 | CVaR: 3.6970\n"
          ]
        },
        {
          "output_type": "stream",
          "name": "stderr",
          "text": [
            "Entraînement:   4%|▍         | 421/10000 [07:29<2:34:19,  1.03it/s]"
          ]
        },
        {
          "output_type": "stream",
          "name": "stdout",
          "text": [
            "Epoch 420 | CVaR: 3.6821\n"
          ]
        },
        {
          "output_type": "stream",
          "name": "stderr",
          "text": [
            "Entraînement:   4%|▍         | 431/10000 [07:39<2:35:33,  1.03it/s]"
          ]
        },
        {
          "output_type": "stream",
          "name": "stdout",
          "text": [
            "Epoch 430 | CVaR: 3.6835\n"
          ]
        },
        {
          "output_type": "stream",
          "name": "stderr",
          "text": [
            "Entraînement:   4%|▍         | 441/10000 [07:50<2:40:47,  1.01s/it]"
          ]
        },
        {
          "output_type": "stream",
          "name": "stdout",
          "text": [
            "Epoch 440 | CVaR: 3.7002\n"
          ]
        },
        {
          "output_type": "stream",
          "name": "stderr",
          "text": [
            "Entraînement:   5%|▍         | 451/10000 [08:00<2:57:03,  1.11s/it]"
          ]
        },
        {
          "output_type": "stream",
          "name": "stdout",
          "text": [
            "Epoch 450 | CVaR: 3.6749\n"
          ]
        },
        {
          "output_type": "stream",
          "name": "stderr",
          "text": [
            "Entraînement:   5%|▍         | 461/10000 [08:10<2:50:21,  1.07s/it]"
          ]
        },
        {
          "output_type": "stream",
          "name": "stdout",
          "text": [
            "Epoch 460 | CVaR: 3.6467\n"
          ]
        },
        {
          "output_type": "stream",
          "name": "stderr",
          "text": [
            "Entraînement:   5%|▍         | 471/10000 [08:20<2:33:04,  1.04it/s]"
          ]
        },
        {
          "output_type": "stream",
          "name": "stdout",
          "text": [
            "Epoch 470 | CVaR: 3.6608\n"
          ]
        },
        {
          "output_type": "stream",
          "name": "stderr",
          "text": [
            "Entraînement:   5%|▍         | 481/10000 [08:31<2:35:38,  1.02it/s]"
          ]
        },
        {
          "output_type": "stream",
          "name": "stdout",
          "text": [
            "Epoch 480 | CVaR: 3.7203\n"
          ]
        },
        {
          "output_type": "stream",
          "name": "stderr",
          "text": [
            "Entraînement:   5%|▍         | 491/10000 [08:42<2:47:16,  1.06s/it]"
          ]
        },
        {
          "output_type": "stream",
          "name": "stdout",
          "text": [
            "Epoch 490 | CVaR: 3.7411\n"
          ]
        },
        {
          "output_type": "stream",
          "name": "stderr",
          "text": [
            "Entraînement:   5%|▌         | 501/10000 [08:52<3:01:49,  1.15s/it]"
          ]
        },
        {
          "output_type": "stream",
          "name": "stdout",
          "text": [
            "Epoch 500 | CVaR: 3.6788\n"
          ]
        },
        {
          "output_type": "stream",
          "name": "stderr",
          "text": [
            "Entraînement:   5%|▌         | 511/10000 [09:03<3:03:33,  1.16s/it]"
          ]
        },
        {
          "output_type": "stream",
          "name": "stdout",
          "text": [
            "Epoch 510 | CVaR: 3.7152\n"
          ]
        },
        {
          "output_type": "stream",
          "name": "stderr",
          "text": [
            "Entraînement:   5%|▌         | 521/10000 [09:13<2:39:51,  1.01s/it]"
          ]
        },
        {
          "output_type": "stream",
          "name": "stdout",
          "text": [
            "Epoch 520 | CVaR: 3.6961\n"
          ]
        },
        {
          "output_type": "stream",
          "name": "stderr",
          "text": [
            "Entraînement:   5%|▌         | 531/10000 [09:24<2:37:42,  1.00it/s]"
          ]
        },
        {
          "output_type": "stream",
          "name": "stdout",
          "text": [
            "Epoch 530 | CVaR: 3.6804\n"
          ]
        },
        {
          "output_type": "stream",
          "name": "stderr",
          "text": [
            "Entraînement:   5%|▌         | 541/10000 [09:35<2:40:21,  1.02s/it]"
          ]
        },
        {
          "output_type": "stream",
          "name": "stdout",
          "text": [
            "Epoch 540 | CVaR: 3.6854\n"
          ]
        },
        {
          "output_type": "stream",
          "name": "stderr",
          "text": [
            "Entraînement:   6%|▌         | 551/10000 [09:46<2:51:02,  1.09s/it]"
          ]
        },
        {
          "output_type": "stream",
          "name": "stdout",
          "text": [
            "Epoch 550 | CVaR: 3.6697\n"
          ]
        },
        {
          "output_type": "stream",
          "name": "stderr",
          "text": [
            "Entraînement:   6%|▌         | 561/10000 [09:56<3:10:52,  1.21s/it]"
          ]
        },
        {
          "output_type": "stream",
          "name": "stdout",
          "text": [
            "Epoch 560 | CVaR: 3.6800\n"
          ]
        },
        {
          "output_type": "stream",
          "name": "stderr",
          "text": [
            "Entraînement:   6%|▌         | 571/10000 [10:06<2:32:26,  1.03it/s]"
          ]
        },
        {
          "output_type": "stream",
          "name": "stdout",
          "text": [
            "Epoch 570 | CVaR: 3.6570\n"
          ]
        },
        {
          "output_type": "stream",
          "name": "stderr",
          "text": [
            "Entraînement:   6%|▌         | 581/10000 [10:17<2:35:32,  1.01it/s]"
          ]
        },
        {
          "output_type": "stream",
          "name": "stdout",
          "text": [
            "Epoch 580 | CVaR: 3.6808\n"
          ]
        },
        {
          "output_type": "stream",
          "name": "stderr",
          "text": [
            "Entraînement:   6%|▌         | 591/10000 [10:28<2:37:54,  1.01s/it]"
          ]
        },
        {
          "output_type": "stream",
          "name": "stdout",
          "text": [
            "Epoch 590 | CVaR: 3.6726\n"
          ]
        },
        {
          "output_type": "stream",
          "name": "stderr",
          "text": [
            "Entraînement:   6%|▌         | 601/10000 [10:38<2:47:44,  1.07s/it]"
          ]
        },
        {
          "output_type": "stream",
          "name": "stdout",
          "text": [
            "Epoch 600 | CVaR: 3.6760\n"
          ]
        },
        {
          "output_type": "stream",
          "name": "stderr",
          "text": [
            "Entraînement:   6%|▌         | 611/10000 [10:49<3:10:29,  1.22s/it]"
          ]
        },
        {
          "output_type": "stream",
          "name": "stdout",
          "text": [
            "Epoch 610 | CVaR: 3.6738\n"
          ]
        },
        {
          "output_type": "stream",
          "name": "stderr",
          "text": [
            "Entraînement:   6%|▌         | 621/10000 [10:59<2:30:24,  1.04it/s]"
          ]
        },
        {
          "output_type": "stream",
          "name": "stdout",
          "text": [
            "Epoch 620 | CVaR: 3.6663\n"
          ]
        },
        {
          "output_type": "stream",
          "name": "stderr",
          "text": [
            "Entraînement:   6%|▋         | 631/10000 [11:09<2:31:11,  1.03it/s]"
          ]
        },
        {
          "output_type": "stream",
          "name": "stdout",
          "text": [
            "Epoch 630 | CVaR: 3.6666\n"
          ]
        },
        {
          "output_type": "stream",
          "name": "stderr",
          "text": [
            "Entraînement:   6%|▋         | 641/10000 [11:20<2:34:44,  1.01it/s]"
          ]
        },
        {
          "output_type": "stream",
          "name": "stdout",
          "text": [
            "Epoch 640 | CVaR: 3.6506\n"
          ]
        },
        {
          "output_type": "stream",
          "name": "stderr",
          "text": [
            "Entraînement:   7%|▋         | 651/10000 [11:30<2:47:24,  1.07s/it]"
          ]
        },
        {
          "output_type": "stream",
          "name": "stdout",
          "text": [
            "Epoch 650 | CVaR: 3.6612\n"
          ]
        },
        {
          "output_type": "stream",
          "name": "stderr",
          "text": [
            "Entraînement:   7%|▋         | 661/10000 [11:41<3:06:02,  1.20s/it]"
          ]
        },
        {
          "output_type": "stream",
          "name": "stdout",
          "text": [
            "Epoch 660 | CVaR: 3.6656\n"
          ]
        },
        {
          "output_type": "stream",
          "name": "stderr",
          "text": [
            "Entraînement:   7%|▋         | 671/10000 [11:50<2:29:37,  1.04it/s]"
          ]
        },
        {
          "output_type": "stream",
          "name": "stdout",
          "text": [
            "Epoch 670 | CVaR: 3.6528\n"
          ]
        },
        {
          "output_type": "stream",
          "name": "stderr",
          "text": [
            "Entraînement:   7%|▋         | 681/10000 [12:01<2:30:26,  1.03it/s]"
          ]
        },
        {
          "output_type": "stream",
          "name": "stdout",
          "text": [
            "Epoch 680 | CVaR: 3.6408\n"
          ]
        },
        {
          "output_type": "stream",
          "name": "stderr",
          "text": [
            "Entraînement:   7%|▋         | 691/10000 [12:11<2:36:33,  1.01s/it]"
          ]
        },
        {
          "output_type": "stream",
          "name": "stdout",
          "text": [
            "Epoch 690 | CVaR: 3.6666\n"
          ]
        },
        {
          "output_type": "stream",
          "name": "stderr",
          "text": [
            "Entraînement:   7%|▋         | 701/10000 [12:22<2:47:11,  1.08s/it]"
          ]
        },
        {
          "output_type": "stream",
          "name": "stdout",
          "text": [
            "Epoch 700 | CVaR: 3.6630\n"
          ]
        },
        {
          "output_type": "stream",
          "name": "stderr",
          "text": [
            "Entraînement:   7%|▋         | 711/10000 [12:32<2:59:23,  1.16s/it]"
          ]
        },
        {
          "output_type": "stream",
          "name": "stdout",
          "text": [
            "Epoch 710 | CVaR: 3.6793\n"
          ]
        },
        {
          "output_type": "stream",
          "name": "stderr",
          "text": [
            "Entraînement:   7%|▋         | 721/10000 [12:42<2:31:43,  1.02it/s]"
          ]
        },
        {
          "output_type": "stream",
          "name": "stdout",
          "text": [
            "Epoch 720 | CVaR: 3.6689\n"
          ]
        },
        {
          "output_type": "stream",
          "name": "stderr",
          "text": [
            "Entraînement:   7%|▋         | 731/10000 [12:53<2:34:26,  1.00it/s]"
          ]
        },
        {
          "output_type": "stream",
          "name": "stdout",
          "text": [
            "Epoch 730 | CVaR: 3.6823\n"
          ]
        },
        {
          "output_type": "stream",
          "name": "stderr",
          "text": [
            "Entraînement:   7%|▋         | 741/10000 [13:04<2:40:21,  1.04s/it]"
          ]
        },
        {
          "output_type": "stream",
          "name": "stdout",
          "text": [
            "Epoch 740 | CVaR: 3.6535\n"
          ]
        },
        {
          "output_type": "stream",
          "name": "stderr",
          "text": [
            "Entraînement:   8%|▊         | 751/10000 [13:14<2:47:52,  1.09s/it]"
          ]
        },
        {
          "output_type": "stream",
          "name": "stdout",
          "text": [
            "Epoch 750 | CVaR: 3.6778\n"
          ]
        },
        {
          "output_type": "stream",
          "name": "stderr",
          "text": [
            "Entraînement:   8%|▊         | 761/10000 [13:25<3:02:24,  1.18s/it]"
          ]
        },
        {
          "output_type": "stream",
          "name": "stdout",
          "text": [
            "Epoch 760 | CVaR: 3.6837\n"
          ]
        },
        {
          "output_type": "stream",
          "name": "stderr",
          "text": [
            "Entraînement:   8%|▊         | 771/10000 [13:35<2:29:25,  1.03it/s]"
          ]
        },
        {
          "output_type": "stream",
          "name": "stdout",
          "text": [
            "Epoch 770 | CVaR: 3.6512\n"
          ]
        },
        {
          "output_type": "stream",
          "name": "stderr",
          "text": [
            "Entraînement:   8%|▊         | 781/10000 [13:45<2:32:27,  1.01it/s]"
          ]
        },
        {
          "output_type": "stream",
          "name": "stdout",
          "text": [
            "Epoch 780 | CVaR: 3.6567\n"
          ]
        },
        {
          "output_type": "stream",
          "name": "stderr",
          "text": [
            "Entraînement:   8%|▊         | 791/10000 [13:56<2:36:36,  1.02s/it]"
          ]
        },
        {
          "output_type": "stream",
          "name": "stdout",
          "text": [
            "Epoch 790 | CVaR: 3.6723\n"
          ]
        },
        {
          "output_type": "stream",
          "name": "stderr",
          "text": [
            "Entraînement:   8%|▊         | 801/10000 [14:07<2:44:53,  1.08s/it]"
          ]
        },
        {
          "output_type": "stream",
          "name": "stdout",
          "text": [
            "Epoch 800 | CVaR: 3.6382\n"
          ]
        },
        {
          "output_type": "stream",
          "name": "stderr",
          "text": [
            "Entraînement:   8%|▊         | 811/10000 [14:18<3:08:20,  1.23s/it]"
          ]
        },
        {
          "output_type": "stream",
          "name": "stdout",
          "text": [
            "Epoch 810 | CVaR: 3.6683\n"
          ]
        },
        {
          "output_type": "stream",
          "name": "stderr",
          "text": [
            "Entraînement:   8%|▊         | 821/10000 [14:27<2:28:59,  1.03it/s]"
          ]
        },
        {
          "output_type": "stream",
          "name": "stdout",
          "text": [
            "Epoch 820 | CVaR: 3.6452\n"
          ]
        },
        {
          "output_type": "stream",
          "name": "stderr",
          "text": [
            "Entraînement:   8%|▊         | 831/10000 [14:38<2:30:49,  1.01it/s]"
          ]
        },
        {
          "output_type": "stream",
          "name": "stdout",
          "text": [
            "Epoch 830 | CVaR: 3.6456\n"
          ]
        },
        {
          "output_type": "stream",
          "name": "stderr",
          "text": [
            "Entraînement:   8%|▊         | 841/10000 [14:49<2:33:09,  1.00s/it]"
          ]
        },
        {
          "output_type": "stream",
          "name": "stdout",
          "text": [
            "Epoch 840 | CVaR: 3.6536\n"
          ]
        },
        {
          "output_type": "stream",
          "name": "stderr",
          "text": [
            "Entraînement:   9%|▊         | 851/10000 [14:59<2:43:02,  1.07s/it]"
          ]
        },
        {
          "output_type": "stream",
          "name": "stdout",
          "text": [
            "Epoch 850 | CVaR: 3.6450\n"
          ]
        },
        {
          "output_type": "stream",
          "name": "stderr",
          "text": [
            "Entraînement:   9%|▊         | 861/10000 [15:10<3:05:36,  1.22s/it]"
          ]
        },
        {
          "output_type": "stream",
          "name": "stdout",
          "text": [
            "Epoch 860 | CVaR: 3.7225\n"
          ]
        },
        {
          "output_type": "stream",
          "name": "stderr",
          "text": [
            "Entraînement:   9%|▊         | 871/10000 [15:20<2:28:55,  1.02it/s]"
          ]
        },
        {
          "output_type": "stream",
          "name": "stdout",
          "text": [
            "Epoch 870 | CVaR: 3.6834\n"
          ]
        },
        {
          "output_type": "stream",
          "name": "stderr",
          "text": [
            "Entraînement:   9%|▉         | 881/10000 [15:30<2:29:36,  1.02it/s]"
          ]
        },
        {
          "output_type": "stream",
          "name": "stdout",
          "text": [
            "Epoch 880 | CVaR: 3.6366\n"
          ]
        },
        {
          "output_type": "stream",
          "name": "stderr",
          "text": [
            "Entraînement:   9%|▉         | 891/10000 [15:41<2:31:20,  1.00it/s]"
          ]
        },
        {
          "output_type": "stream",
          "name": "stdout",
          "text": [
            "Epoch 890 | CVaR: 3.6763\n"
          ]
        },
        {
          "output_type": "stream",
          "name": "stderr",
          "text": [
            "Entraînement:   9%|▉         | 901/10000 [15:51<2:42:04,  1.07s/it]"
          ]
        },
        {
          "output_type": "stream",
          "name": "stdout",
          "text": [
            "Epoch 900 | CVaR: 3.6539\n"
          ]
        },
        {
          "output_type": "stream",
          "name": "stderr",
          "text": [
            "Entraînement:   9%|▉         | 911/10000 [16:02<3:01:06,  1.20s/it]"
          ]
        },
        {
          "output_type": "stream",
          "name": "stdout",
          "text": [
            "Epoch 910 | CVaR: 3.6410\n"
          ]
        },
        {
          "output_type": "stream",
          "name": "stderr",
          "text": [
            "Entraînement:   9%|▉         | 921/10000 [16:12<2:26:23,  1.03it/s]"
          ]
        },
        {
          "output_type": "stream",
          "name": "stdout",
          "text": [
            "Epoch 920 | CVaR: 3.6476\n"
          ]
        },
        {
          "output_type": "stream",
          "name": "stderr",
          "text": [
            "Entraînement:   9%|▉         | 931/10000 [16:22<2:25:58,  1.04it/s]"
          ]
        },
        {
          "output_type": "stream",
          "name": "stdout",
          "text": [
            "Epoch 930 | CVaR: 3.6424\n"
          ]
        },
        {
          "output_type": "stream",
          "name": "stderr",
          "text": [
            "Entraînement:   9%|▉         | 941/10000 [16:33<2:31:26,  1.00s/it]"
          ]
        },
        {
          "output_type": "stream",
          "name": "stdout",
          "text": [
            "Epoch 940 | CVaR: 3.6789\n"
          ]
        },
        {
          "output_type": "stream",
          "name": "stderr",
          "text": [
            "Entraînement:  10%|▉         | 951/10000 [16:43<2:40:43,  1.07s/it]"
          ]
        },
        {
          "output_type": "stream",
          "name": "stdout",
          "text": [
            "Epoch 950 | CVaR: 3.7179\n"
          ]
        },
        {
          "output_type": "stream",
          "name": "stderr",
          "text": [
            "Entraînement:  10%|▉         | 961/10000 [16:54<3:01:41,  1.21s/it]"
          ]
        },
        {
          "output_type": "stream",
          "name": "stdout",
          "text": [
            "Epoch 960 | CVaR: 3.7112\n"
          ]
        },
        {
          "output_type": "stream",
          "name": "stderr",
          "text": [
            "Entraînement:  10%|▉         | 971/10000 [17:04<2:24:10,  1.04it/s]"
          ]
        },
        {
          "output_type": "stream",
          "name": "stdout",
          "text": [
            "Epoch 970 | CVaR: 3.6780\n"
          ]
        },
        {
          "output_type": "stream",
          "name": "stderr",
          "text": [
            "Entraînement:  10%|▉         | 981/10000 [17:14<2:26:03,  1.03it/s]"
          ]
        },
        {
          "output_type": "stream",
          "name": "stdout",
          "text": [
            "Epoch 980 | CVaR: 3.6820\n"
          ]
        },
        {
          "output_type": "stream",
          "name": "stderr",
          "text": [
            "Entraînement:  10%|▉         | 991/10000 [17:25<2:28:50,  1.01it/s]"
          ]
        },
        {
          "output_type": "stream",
          "name": "stdout",
          "text": [
            "Epoch 990 | CVaR: 3.7043\n"
          ]
        },
        {
          "output_type": "stream",
          "name": "stderr",
          "text": [
            "Entraînement:  10%|█         | 1001/10000 [17:36<2:38:04,  1.05s/it]"
          ]
        },
        {
          "output_type": "stream",
          "name": "stdout",
          "text": [
            "Epoch 1000 | CVaR: 3.6904\n"
          ]
        },
        {
          "output_type": "stream",
          "name": "stderr",
          "text": [
            "Entraînement:  10%|█         | 1011/10000 [17:46<3:00:37,  1.21s/it]"
          ]
        },
        {
          "output_type": "stream",
          "name": "stdout",
          "text": [
            "Epoch 1010 | CVaR: 3.6445\n"
          ]
        },
        {
          "output_type": "stream",
          "name": "stderr",
          "text": [
            "Entraînement:  10%|█         | 1021/10000 [17:56<2:24:03,  1.04it/s]"
          ]
        },
        {
          "output_type": "stream",
          "name": "stdout",
          "text": [
            "Epoch 1020 | CVaR: 3.6595\n"
          ]
        },
        {
          "output_type": "stream",
          "name": "stderr",
          "text": [
            "Entraînement:  10%|█         | 1031/10000 [18:06<2:25:49,  1.03it/s]"
          ]
        },
        {
          "output_type": "stream",
          "name": "stdout",
          "text": [
            "Epoch 1030 | CVaR: 3.6474\n"
          ]
        },
        {
          "output_type": "stream",
          "name": "stderr",
          "text": [
            "Entraînement:  10%|█         | 1041/10000 [18:17<2:30:18,  1.01s/it]"
          ]
        },
        {
          "output_type": "stream",
          "name": "stdout",
          "text": [
            "Epoch 1040 | CVaR: 3.6740\n"
          ]
        },
        {
          "output_type": "stream",
          "name": "stderr",
          "text": [
            "Entraînement:  11%|█         | 1051/10000 [18:28<2:37:35,  1.06s/it]"
          ]
        },
        {
          "output_type": "stream",
          "name": "stdout",
          "text": [
            "Epoch 1050 | CVaR: 3.6784\n"
          ]
        },
        {
          "output_type": "stream",
          "name": "stderr",
          "text": [
            "Entraînement:  11%|█         | 1061/10000 [18:38<2:57:03,  1.19s/it]"
          ]
        },
        {
          "output_type": "stream",
          "name": "stdout",
          "text": [
            "Epoch 1060 | CVaR: 3.6598\n"
          ]
        },
        {
          "output_type": "stream",
          "name": "stderr",
          "text": [
            "Entraînement:  11%|█         | 1071/10000 [18:48<2:24:20,  1.03it/s]"
          ]
        },
        {
          "output_type": "stream",
          "name": "stdout",
          "text": [
            "Epoch 1070 | CVaR: 3.7249\n"
          ]
        },
        {
          "output_type": "stream",
          "name": "stderr",
          "text": [
            "Entraînement:  11%|█         | 1081/10000 [18:58<2:24:13,  1.03it/s]"
          ]
        },
        {
          "output_type": "stream",
          "name": "stdout",
          "text": [
            "Epoch 1080 | CVaR: 3.6880\n"
          ]
        },
        {
          "output_type": "stream",
          "name": "stderr",
          "text": [
            "Entraînement:  11%|█         | 1091/10000 [19:09<2:28:50,  1.00s/it]"
          ]
        },
        {
          "output_type": "stream",
          "name": "stdout",
          "text": [
            "Epoch 1090 | CVaR: 3.6846\n"
          ]
        },
        {
          "output_type": "stream",
          "name": "stderr",
          "text": [
            "Entraînement:  11%|█         | 1101/10000 [19:20<2:38:10,  1.07s/it]"
          ]
        },
        {
          "output_type": "stream",
          "name": "stdout",
          "text": [
            "Epoch 1100 | CVaR: 3.6475\n"
          ]
        },
        {
          "output_type": "stream",
          "name": "stderr",
          "text": [
            "Entraînement:  11%|█         | 1111/10000 [19:30<3:00:17,  1.22s/it]"
          ]
        },
        {
          "output_type": "stream",
          "name": "stdout",
          "text": [
            "Epoch 1110 | CVaR: 3.6866\n"
          ]
        },
        {
          "output_type": "stream",
          "name": "stderr",
          "text": [
            "Entraînement:  11%|█         | 1121/10000 [19:40<2:23:28,  1.03it/s]"
          ]
        },
        {
          "output_type": "stream",
          "name": "stdout",
          "text": [
            "Epoch 1120 | CVaR: 3.6788\n"
          ]
        },
        {
          "output_type": "stream",
          "name": "stderr",
          "text": [
            "Entraînement:  11%|█▏        | 1131/10000 [19:50<2:25:03,  1.02it/s]"
          ]
        },
        {
          "output_type": "stream",
          "name": "stdout",
          "text": [
            "Epoch 1130 | CVaR: 3.6658\n"
          ]
        },
        {
          "output_type": "stream",
          "name": "stderr",
          "text": [
            "Entraînement:  11%|█▏        | 1141/10000 [20:01<2:27:11,  1.00it/s]"
          ]
        },
        {
          "output_type": "stream",
          "name": "stdout",
          "text": [
            "Epoch 1140 | CVaR: 3.7391\n"
          ]
        },
        {
          "output_type": "stream",
          "name": "stderr",
          "text": [
            "Entraînement:  12%|█▏        | 1151/10000 [20:12<2:37:01,  1.06s/it]"
          ]
        },
        {
          "output_type": "stream",
          "name": "stdout",
          "text": [
            "Epoch 1150 | CVaR: 3.6602\n"
          ]
        },
        {
          "output_type": "stream",
          "name": "stderr",
          "text": [
            "Entraînement:  12%|█▏        | 1161/10000 [20:22<2:57:54,  1.21s/it]"
          ]
        },
        {
          "output_type": "stream",
          "name": "stdout",
          "text": [
            "Epoch 1160 | CVaR: 3.6873\n"
          ]
        },
        {
          "output_type": "stream",
          "name": "stderr",
          "text": [
            "Entraînement:  12%|█▏        | 1171/10000 [20:32<2:21:15,  1.04it/s]"
          ]
        },
        {
          "output_type": "stream",
          "name": "stdout",
          "text": [
            "Epoch 1170 | CVaR: 3.6704\n"
          ]
        },
        {
          "output_type": "stream",
          "name": "stderr",
          "text": [
            "Entraînement:  12%|█▏        | 1181/10000 [20:42<2:23:36,  1.02it/s]"
          ]
        },
        {
          "output_type": "stream",
          "name": "stdout",
          "text": [
            "Epoch 1180 | CVaR: 3.6672\n"
          ]
        },
        {
          "output_type": "stream",
          "name": "stderr",
          "text": [
            "Entraînement:  12%|█▏        | 1191/10000 [20:53<2:27:17,  1.00s/it]"
          ]
        },
        {
          "output_type": "stream",
          "name": "stdout",
          "text": [
            "Epoch 1190 | CVaR: 3.6821\n"
          ]
        },
        {
          "output_type": "stream",
          "name": "stderr",
          "text": [
            "Entraînement:  12%|█▏        | 1201/10000 [21:04<2:37:11,  1.07s/it]"
          ]
        },
        {
          "output_type": "stream",
          "name": "stdout",
          "text": [
            "Epoch 1200 | CVaR: 3.7136\n"
          ]
        },
        {
          "output_type": "stream",
          "name": "stderr",
          "text": [
            "Entraînement:  12%|█▏        | 1211/10000 [21:14<2:55:22,  1.20s/it]"
          ]
        },
        {
          "output_type": "stream",
          "name": "stdout",
          "text": [
            "Epoch 1210 | CVaR: 3.6518\n"
          ]
        },
        {
          "output_type": "stream",
          "name": "stderr",
          "text": [
            "Entraînement:  12%|█▏        | 1221/10000 [21:24<2:20:26,  1.04it/s]"
          ]
        },
        {
          "output_type": "stream",
          "name": "stdout",
          "text": [
            "Epoch 1220 | CVaR: 3.6824\n"
          ]
        },
        {
          "output_type": "stream",
          "name": "stderr",
          "text": [
            "Entraînement:  12%|█▏        | 1231/10000 [21:34<2:20:29,  1.04it/s]"
          ]
        },
        {
          "output_type": "stream",
          "name": "stdout",
          "text": [
            "Epoch 1230 | CVaR: 3.6726\n"
          ]
        },
        {
          "output_type": "stream",
          "name": "stderr",
          "text": [
            "Entraînement:  12%|█▏        | 1241/10000 [21:45<2:25:36,  1.00it/s]"
          ]
        },
        {
          "output_type": "stream",
          "name": "stdout",
          "text": [
            "Epoch 1240 | CVaR: 3.6477\n"
          ]
        },
        {
          "output_type": "stream",
          "name": "stderr",
          "text": [
            "Entraînement:  13%|█▎        | 1251/10000 [21:55<2:36:42,  1.07s/it]"
          ]
        },
        {
          "output_type": "stream",
          "name": "stdout",
          "text": [
            "Epoch 1250 | CVaR: 3.7043\n"
          ]
        },
        {
          "output_type": "stream",
          "name": "stderr",
          "text": [
            "Entraînement:  13%|█▎        | 1261/10000 [22:06<2:46:22,  1.14s/it]"
          ]
        },
        {
          "output_type": "stream",
          "name": "stdout",
          "text": [
            "Epoch 1260 | CVaR: 3.6728\n"
          ]
        },
        {
          "output_type": "stream",
          "name": "stderr",
          "text": [
            "Entraînement:  13%|█▎        | 1271/10000 [22:15<2:18:10,  1.05it/s]"
          ]
        },
        {
          "output_type": "stream",
          "name": "stdout",
          "text": [
            "Epoch 1270 | CVaR: 3.6384\n"
          ]
        },
        {
          "output_type": "stream",
          "name": "stderr",
          "text": [
            "Entraînement:  13%|█▎        | 1281/10000 [22:26<2:22:15,  1.02it/s]"
          ]
        },
        {
          "output_type": "stream",
          "name": "stdout",
          "text": [
            "Epoch 1280 | CVaR: 3.6576\n"
          ]
        },
        {
          "output_type": "stream",
          "name": "stderr",
          "text": [
            "Entraînement:  13%|█▎        | 1291/10000 [22:37<2:29:22,  1.03s/it]"
          ]
        },
        {
          "output_type": "stream",
          "name": "stdout",
          "text": [
            "Epoch 1290 | CVaR: 3.6965\n"
          ]
        },
        {
          "output_type": "stream",
          "name": "stderr",
          "text": [
            "Entraînement:  13%|█▎        | 1301/10000 [22:47<2:39:09,  1.10s/it]"
          ]
        },
        {
          "output_type": "stream",
          "name": "stdout",
          "text": [
            "Epoch 1300 | CVaR: 3.6624\n"
          ]
        },
        {
          "output_type": "stream",
          "name": "stderr",
          "text": [
            "Entraînement:  13%|█▎        | 1311/10000 [22:57<2:40:06,  1.11s/it]"
          ]
        },
        {
          "output_type": "stream",
          "name": "stdout",
          "text": [
            "Epoch 1310 | CVaR: 3.6751\n"
          ]
        },
        {
          "output_type": "stream",
          "name": "stderr",
          "text": [
            "Entraînement:  13%|█▎        | 1321/10000 [23:07<2:19:08,  1.04it/s]"
          ]
        },
        {
          "output_type": "stream",
          "name": "stdout",
          "text": [
            "Epoch 1320 | CVaR: 3.6961\n"
          ]
        },
        {
          "output_type": "stream",
          "name": "stderr",
          "text": [
            "Entraînement:  13%|█▎        | 1331/10000 [23:18<2:21:07,  1.02it/s]"
          ]
        },
        {
          "output_type": "stream",
          "name": "stdout",
          "text": [
            "Epoch 1330 | CVaR: 3.6365\n"
          ]
        },
        {
          "output_type": "stream",
          "name": "stderr",
          "text": [
            "Entraînement:  13%|█▎        | 1341/10000 [23:28<2:27:27,  1.02s/it]"
          ]
        },
        {
          "output_type": "stream",
          "name": "stdout",
          "text": [
            "Epoch 1340 | CVaR: 3.6651\n"
          ]
        },
        {
          "output_type": "stream",
          "name": "stderr",
          "text": [
            "Entraînement:  14%|█▎        | 1351/10000 [23:39<2:40:44,  1.12s/it]"
          ]
        },
        {
          "output_type": "stream",
          "name": "stdout",
          "text": [
            "Epoch 1350 | CVaR: 3.6876\n"
          ]
        },
        {
          "output_type": "stream",
          "name": "stderr",
          "text": [
            "Entraînement:  14%|█▎        | 1361/10000 [23:49<2:33:00,  1.06s/it]"
          ]
        },
        {
          "output_type": "stream",
          "name": "stdout",
          "text": [
            "Epoch 1360 | CVaR: 3.6693\n"
          ]
        },
        {
          "output_type": "stream",
          "name": "stderr",
          "text": [
            "Entraînement:  14%|█▎        | 1371/10000 [23:59<2:18:16,  1.04it/s]"
          ]
        },
        {
          "output_type": "stream",
          "name": "stdout",
          "text": [
            "Epoch 1370 | CVaR: 3.6987\n"
          ]
        },
        {
          "output_type": "stream",
          "name": "stderr",
          "text": [
            "Entraînement:  14%|█▍        | 1381/10000 [24:09<2:20:57,  1.02it/s]"
          ]
        },
        {
          "output_type": "stream",
          "name": "stdout",
          "text": [
            "Epoch 1380 | CVaR: 3.6528\n"
          ]
        },
        {
          "output_type": "stream",
          "name": "stderr",
          "text": [
            "Entraînement:  14%|█▍        | 1391/10000 [24:20<2:26:50,  1.02s/it]"
          ]
        },
        {
          "output_type": "stream",
          "name": "stdout",
          "text": [
            "Epoch 1390 | CVaR: 3.6706\n"
          ]
        },
        {
          "output_type": "stream",
          "name": "stderr",
          "text": [
            "Entraînement:  14%|█▍        | 1401/10000 [24:31<2:43:49,  1.14s/it]"
          ]
        },
        {
          "output_type": "stream",
          "name": "stdout",
          "text": [
            "Epoch 1400 | CVaR: 3.6582\n"
          ]
        },
        {
          "output_type": "stream",
          "name": "stderr",
          "text": [
            "Entraînement:  14%|█▍        | 1411/10000 [24:41<2:34:16,  1.08s/it]"
          ]
        },
        {
          "output_type": "stream",
          "name": "stdout",
          "text": [
            "Epoch 1410 | CVaR: 3.6584\n"
          ]
        },
        {
          "output_type": "stream",
          "name": "stderr",
          "text": [
            "Entraînement:  14%|█▍        | 1421/10000 [24:51<2:17:07,  1.04it/s]"
          ]
        },
        {
          "output_type": "stream",
          "name": "stdout",
          "text": [
            "Epoch 1420 | CVaR: 3.6756\n"
          ]
        },
        {
          "output_type": "stream",
          "name": "stderr",
          "text": [
            "Entraînement:  14%|█▍        | 1431/10000 [25:01<2:20:28,  1.02it/s]"
          ]
        },
        {
          "output_type": "stream",
          "name": "stdout",
          "text": [
            "Epoch 1430 | CVaR: 3.7103\n"
          ]
        },
        {
          "output_type": "stream",
          "name": "stderr",
          "text": [
            "Entraînement:  14%|█▍        | 1441/10000 [25:12<2:27:00,  1.03s/it]"
          ]
        },
        {
          "output_type": "stream",
          "name": "stdout",
          "text": [
            "Epoch 1440 | CVaR: 3.6650\n"
          ]
        },
        {
          "output_type": "stream",
          "name": "stderr",
          "text": [
            "Entraînement:  15%|█▍        | 1451/10000 [25:23<2:45:19,  1.16s/it]"
          ]
        },
        {
          "output_type": "stream",
          "name": "stdout",
          "text": [
            "Epoch 1450 | CVaR: 3.6756\n"
          ]
        },
        {
          "output_type": "stream",
          "name": "stderr",
          "text": [
            "Entraînement:  15%|█▍        | 1461/10000 [25:32<2:20:38,  1.01it/s]"
          ]
        },
        {
          "output_type": "stream",
          "name": "stdout",
          "text": [
            "Epoch 1460 | CVaR: 3.6587\n"
          ]
        },
        {
          "output_type": "stream",
          "name": "stderr",
          "text": [
            "Entraînement:  15%|█▍        | 1471/10000 [25:43<2:16:54,  1.04it/s]"
          ]
        },
        {
          "output_type": "stream",
          "name": "stdout",
          "text": [
            "Epoch 1470 | CVaR: 3.6563\n"
          ]
        },
        {
          "output_type": "stream",
          "name": "stderr",
          "text": [
            "Entraînement:  15%|█▍        | 1481/10000 [25:53<2:21:44,  1.00it/s]"
          ]
        },
        {
          "output_type": "stream",
          "name": "stdout",
          "text": [
            "Epoch 1480 | CVaR: 3.6760\n"
          ]
        },
        {
          "output_type": "stream",
          "name": "stderr",
          "text": [
            "Entraînement:  15%|█▍        | 1491/10000 [26:04<2:28:19,  1.05s/it]"
          ]
        },
        {
          "output_type": "stream",
          "name": "stdout",
          "text": [
            "Epoch 1490 | CVaR: 3.6388\n"
          ]
        },
        {
          "output_type": "stream",
          "name": "stderr",
          "text": [
            "Entraînement:  15%|█▌        | 1501/10000 [26:14<2:47:12,  1.18s/it]"
          ]
        },
        {
          "output_type": "stream",
          "name": "stdout",
          "text": [
            "Epoch 1500 | CVaR: 3.6844\n"
          ]
        },
        {
          "output_type": "stream",
          "name": "stderr",
          "text": [
            "Entraînement:  15%|█▌        | 1511/10000 [26:24<2:16:32,  1.04it/s]"
          ]
        },
        {
          "output_type": "stream",
          "name": "stdout",
          "text": [
            "Epoch 1510 | CVaR: 3.6553\n"
          ]
        },
        {
          "output_type": "stream",
          "name": "stderr",
          "text": [
            "Entraînement:  15%|█▌        | 1521/10000 [26:34<2:17:56,  1.02it/s]"
          ]
        },
        {
          "output_type": "stream",
          "name": "stdout",
          "text": [
            "Epoch 1520 | CVaR: 3.6579\n"
          ]
        },
        {
          "output_type": "stream",
          "name": "stderr",
          "text": [
            "Entraînement:  15%|█▌        | 1531/10000 [26:45<2:19:26,  1.01it/s]"
          ]
        },
        {
          "output_type": "stream",
          "name": "stdout",
          "text": [
            "Epoch 1530 | CVaR: 3.6258\n"
          ]
        },
        {
          "output_type": "stream",
          "name": "stderr",
          "text": [
            "Entraînement:  15%|█▌        | 1541/10000 [26:56<2:28:32,  1.05s/it]"
          ]
        },
        {
          "output_type": "stream",
          "name": "stdout",
          "text": [
            "Epoch 1540 | CVaR: 3.6422\n"
          ]
        },
        {
          "output_type": "stream",
          "name": "stderr",
          "text": [
            "Entraînement:  16%|█▌        | 1551/10000 [27:06<2:50:11,  1.21s/it]"
          ]
        },
        {
          "output_type": "stream",
          "name": "stdout",
          "text": [
            "Epoch 1550 | CVaR: 3.6757\n"
          ]
        },
        {
          "output_type": "stream",
          "name": "stderr",
          "text": [
            "Entraînement:  16%|█▌        | 1561/10000 [27:16<2:16:53,  1.03it/s]"
          ]
        },
        {
          "output_type": "stream",
          "name": "stdout",
          "text": [
            "Epoch 1560 | CVaR: 3.6532\n"
          ]
        },
        {
          "output_type": "stream",
          "name": "stderr",
          "text": [
            "Entraînement:  16%|█▌        | 1571/10000 [27:27<2:16:50,  1.03it/s]"
          ]
        },
        {
          "output_type": "stream",
          "name": "stdout",
          "text": [
            "Epoch 1570 | CVaR: 3.6524\n"
          ]
        },
        {
          "output_type": "stream",
          "name": "stderr",
          "text": [
            "Entraînement:  16%|█▌        | 1581/10000 [27:37<2:20:08,  1.00it/s]"
          ]
        },
        {
          "output_type": "stream",
          "name": "stdout",
          "text": [
            "Epoch 1580 | CVaR: 3.6607\n"
          ]
        },
        {
          "output_type": "stream",
          "name": "stderr",
          "text": [
            "Entraînement:  16%|█▌        | 1591/10000 [27:48<2:31:13,  1.08s/it]"
          ]
        },
        {
          "output_type": "stream",
          "name": "stdout",
          "text": [
            "Epoch 1590 | CVaR: 3.7032\n"
          ]
        },
        {
          "output_type": "stream",
          "name": "stderr",
          "text": [
            "Entraînement:  16%|█▌        | 1601/10000 [27:59<2:48:51,  1.21s/it]"
          ]
        },
        {
          "output_type": "stream",
          "name": "stdout",
          "text": [
            "Epoch 1600 | CVaR: 3.6669\n"
          ]
        },
        {
          "output_type": "stream",
          "name": "stderr",
          "text": [
            "Entraînement:  16%|█▌        | 1611/10000 [28:08<2:14:12,  1.04it/s]"
          ]
        },
        {
          "output_type": "stream",
          "name": "stdout",
          "text": [
            "Epoch 1610 | CVaR: 3.7009\n"
          ]
        },
        {
          "output_type": "stream",
          "name": "stderr",
          "text": [
            "Entraînement:  16%|█▌        | 1621/10000 [28:19<2:16:29,  1.02it/s]"
          ]
        },
        {
          "output_type": "stream",
          "name": "stdout",
          "text": [
            "Epoch 1620 | CVaR: 3.6895\n"
          ]
        },
        {
          "output_type": "stream",
          "name": "stderr",
          "text": [
            "Entraînement:  16%|█▋        | 1631/10000 [28:29<2:20:19,  1.01s/it]"
          ]
        },
        {
          "output_type": "stream",
          "name": "stdout",
          "text": [
            "Epoch 1630 | CVaR: 3.6405\n"
          ]
        },
        {
          "output_type": "stream",
          "name": "stderr",
          "text": [
            "Entraînement:  16%|█▋        | 1641/10000 [28:40<2:28:20,  1.06s/it]"
          ]
        },
        {
          "output_type": "stream",
          "name": "stdout",
          "text": [
            "Epoch 1640 | CVaR: 3.7014\n"
          ]
        },
        {
          "output_type": "stream",
          "name": "stderr",
          "text": [
            "Entraînement:  17%|█▋        | 1651/10000 [28:51<2:47:29,  1.20s/it]"
          ]
        },
        {
          "output_type": "stream",
          "name": "stdout",
          "text": [
            "Epoch 1650 | CVaR: 3.6637\n"
          ]
        },
        {
          "output_type": "stream",
          "name": "stderr",
          "text": [
            "Entraînement:  17%|█▋        | 1661/10000 [29:01<2:16:27,  1.02it/s]"
          ]
        },
        {
          "output_type": "stream",
          "name": "stdout",
          "text": [
            "Epoch 1660 | CVaR: 3.6643\n"
          ]
        },
        {
          "output_type": "stream",
          "name": "stderr",
          "text": [
            "Entraînement:  17%|█▋        | 1671/10000 [29:11<2:16:08,  1.02it/s]"
          ]
        },
        {
          "output_type": "stream",
          "name": "stdout",
          "text": [
            "Epoch 1670 | CVaR: 3.6720\n"
          ]
        },
        {
          "output_type": "stream",
          "name": "stderr",
          "text": [
            "Entraînement:  17%|█▋        | 1681/10000 [29:22<2:21:37,  1.02s/it]"
          ]
        },
        {
          "output_type": "stream",
          "name": "stdout",
          "text": [
            "Epoch 1680 | CVaR: 3.6460\n"
          ]
        },
        {
          "output_type": "stream",
          "name": "stderr",
          "text": [
            "Entraînement:  17%|█▋        | 1691/10000 [29:33<2:24:26,  1.04s/it]"
          ]
        },
        {
          "output_type": "stream",
          "name": "stdout",
          "text": [
            "Epoch 1690 | CVaR: 3.6611\n"
          ]
        },
        {
          "output_type": "stream",
          "name": "stderr",
          "text": [
            "Entraînement:  17%|█▋        | 1701/10000 [29:43<2:41:48,  1.17s/it]"
          ]
        },
        {
          "output_type": "stream",
          "name": "stdout",
          "text": [
            "Epoch 1700 | CVaR: 3.6567\n"
          ]
        },
        {
          "output_type": "stream",
          "name": "stderr",
          "text": [
            "Entraînement:  17%|█▋        | 1711/10000 [29:53<2:13:05,  1.04it/s]"
          ]
        },
        {
          "output_type": "stream",
          "name": "stdout",
          "text": [
            "Epoch 1710 | CVaR: 3.6493\n"
          ]
        },
        {
          "output_type": "stream",
          "name": "stderr",
          "text": [
            "Entraînement:  17%|█▋        | 1721/10000 [30:03<2:14:11,  1.03it/s]"
          ]
        },
        {
          "output_type": "stream",
          "name": "stdout",
          "text": [
            "Epoch 1720 | CVaR: 3.6510\n"
          ]
        },
        {
          "output_type": "stream",
          "name": "stderr",
          "text": [
            "Entraînement:  17%|█▋        | 1731/10000 [30:14<2:16:59,  1.01it/s]"
          ]
        },
        {
          "output_type": "stream",
          "name": "stdout",
          "text": [
            "Epoch 1730 | CVaR: 3.6601\n"
          ]
        },
        {
          "output_type": "stream",
          "name": "stderr",
          "text": [
            "Entraînement:  17%|█▋        | 1741/10000 [30:24<2:23:46,  1.04s/it]"
          ]
        },
        {
          "output_type": "stream",
          "name": "stdout",
          "text": [
            "Epoch 1740 | CVaR: 3.6880\n"
          ]
        },
        {
          "output_type": "stream",
          "name": "stderr",
          "text": [
            "Entraînement:  18%|█▊        | 1751/10000 [30:35<2:44:52,  1.20s/it]"
          ]
        },
        {
          "output_type": "stream",
          "name": "stdout",
          "text": [
            "Epoch 1750 | CVaR: 3.6630\n"
          ]
        },
        {
          "output_type": "stream",
          "name": "stderr",
          "text": [
            "Entraînement:  18%|█▊        | 1761/10000 [30:45<2:12:08,  1.04it/s]"
          ]
        },
        {
          "output_type": "stream",
          "name": "stdout",
          "text": [
            "Epoch 1760 | CVaR: 3.6878\n"
          ]
        },
        {
          "output_type": "stream",
          "name": "stderr",
          "text": [
            "Entraînement:  18%|█▊        | 1771/10000 [30:55<2:16:28,  1.00it/s]"
          ]
        },
        {
          "output_type": "stream",
          "name": "stdout",
          "text": [
            "Epoch 1770 | CVaR: 3.6727\n"
          ]
        },
        {
          "output_type": "stream",
          "name": "stderr",
          "text": [
            "Entraînement:  18%|█▊        | 1781/10000 [31:06<2:15:39,  1.01it/s]"
          ]
        },
        {
          "output_type": "stream",
          "name": "stdout",
          "text": [
            "Epoch 1780 | CVaR: 3.7112\n"
          ]
        },
        {
          "output_type": "stream",
          "name": "stderr",
          "text": [
            "Entraînement:  18%|█▊        | 1791/10000 [31:16<2:24:09,  1.05s/it]"
          ]
        },
        {
          "output_type": "stream",
          "name": "stdout",
          "text": [
            "Epoch 1790 | CVaR: 3.6640\n"
          ]
        },
        {
          "output_type": "stream",
          "name": "stderr",
          "text": [
            "Entraînement:  18%|█▊        | 1801/10000 [31:27<2:46:07,  1.22s/it]"
          ]
        },
        {
          "output_type": "stream",
          "name": "stdout",
          "text": [
            "Epoch 1800 | CVaR: 3.6779\n"
          ]
        },
        {
          "output_type": "stream",
          "name": "stderr",
          "text": [
            "Entraînement:  18%|█▊        | 1811/10000 [31:37<2:13:46,  1.02it/s]"
          ]
        },
        {
          "output_type": "stream",
          "name": "stdout",
          "text": [
            "Epoch 1810 | CVaR: 3.6517\n"
          ]
        },
        {
          "output_type": "stream",
          "name": "stderr",
          "text": [
            "Entraînement:  18%|█▊        | 1821/10000 [31:48<2:13:37,  1.02it/s]"
          ]
        },
        {
          "output_type": "stream",
          "name": "stdout",
          "text": [
            "Epoch 1820 | CVaR: 3.6534\n"
          ]
        },
        {
          "output_type": "stream",
          "name": "stderr",
          "text": [
            "Entraînement:  18%|█▊        | 1831/10000 [31:58<2:15:14,  1.01it/s]"
          ]
        },
        {
          "output_type": "stream",
          "name": "stdout",
          "text": [
            "Epoch 1830 | CVaR: 3.6411\n"
          ]
        },
        {
          "output_type": "stream",
          "name": "stderr",
          "text": [
            "Entraînement:  18%|█▊        | 1841/10000 [32:09<2:23:47,  1.06s/it]"
          ]
        },
        {
          "output_type": "stream",
          "name": "stdout",
          "text": [
            "Epoch 1840 | CVaR: 3.6719\n"
          ]
        },
        {
          "output_type": "stream",
          "name": "stderr",
          "text": [
            "Entraînement:  19%|█▊        | 1851/10000 [32:19<2:43:33,  1.20s/it]"
          ]
        },
        {
          "output_type": "stream",
          "name": "stdout",
          "text": [
            "Epoch 1850 | CVaR: 3.6893\n"
          ]
        },
        {
          "output_type": "stream",
          "name": "stderr",
          "text": [
            "Entraînement:  19%|█▊        | 1861/10000 [32:29<2:11:12,  1.03it/s]"
          ]
        },
        {
          "output_type": "stream",
          "name": "stdout",
          "text": [
            "Epoch 1860 | CVaR: 3.6739\n"
          ]
        },
        {
          "output_type": "stream",
          "name": "stderr",
          "text": [
            "Entraînement:  19%|█▊        | 1871/10000 [32:40<2:12:46,  1.02it/s]"
          ]
        },
        {
          "output_type": "stream",
          "name": "stdout",
          "text": [
            "Epoch 1870 | CVaR: 3.6566\n"
          ]
        },
        {
          "output_type": "stream",
          "name": "stderr",
          "text": [
            "Entraînement:  19%|█▉        | 1881/10000 [32:50<2:16:00,  1.01s/it]"
          ]
        },
        {
          "output_type": "stream",
          "name": "stdout",
          "text": [
            "Epoch 1880 | CVaR: 3.6357\n"
          ]
        },
        {
          "output_type": "stream",
          "name": "stderr",
          "text": [
            "Entraînement:  19%|█▉        | 1891/10000 [33:01<2:25:42,  1.08s/it]"
          ]
        },
        {
          "output_type": "stream",
          "name": "stdout",
          "text": [
            "Epoch 1890 | CVaR: 3.6537\n"
          ]
        },
        {
          "output_type": "stream",
          "name": "stderr",
          "text": [
            "Entraînement:  19%|█▉        | 1901/10000 [33:12<2:39:54,  1.18s/it]"
          ]
        },
        {
          "output_type": "stream",
          "name": "stdout",
          "text": [
            "Epoch 1900 | CVaR: 3.6531\n"
          ]
        },
        {
          "output_type": "stream",
          "name": "stderr",
          "text": [
            "Entraînement:  19%|█▉        | 1911/10000 [33:21<2:12:16,  1.02it/s]"
          ]
        },
        {
          "output_type": "stream",
          "name": "stdout",
          "text": [
            "Epoch 1910 | CVaR: 3.6948\n"
          ]
        },
        {
          "output_type": "stream",
          "name": "stderr",
          "text": [
            "Entraînement:  19%|█▉        | 1921/10000 [33:32<2:10:20,  1.03it/s]"
          ]
        },
        {
          "output_type": "stream",
          "name": "stdout",
          "text": [
            "Epoch 1920 | CVaR: 3.6901\n"
          ]
        },
        {
          "output_type": "stream",
          "name": "stderr",
          "text": [
            "Entraînement:  19%|█▉        | 1931/10000 [33:43<2:13:35,  1.01it/s]"
          ]
        },
        {
          "output_type": "stream",
          "name": "stdout",
          "text": [
            "Epoch 1930 | CVaR: 3.6317\n"
          ]
        },
        {
          "output_type": "stream",
          "name": "stderr",
          "text": [
            "Entraînement:  19%|█▉        | 1941/10000 [33:53<2:21:19,  1.05s/it]"
          ]
        },
        {
          "output_type": "stream",
          "name": "stdout",
          "text": [
            "Epoch 1940 | CVaR: 3.6700\n"
          ]
        },
        {
          "output_type": "stream",
          "name": "stderr",
          "text": [
            "Entraînement:  20%|█▉        | 1951/10000 [34:04<2:36:38,  1.17s/it]"
          ]
        },
        {
          "output_type": "stream",
          "name": "stdout",
          "text": [
            "Epoch 1950 | CVaR: 3.6842\n"
          ]
        },
        {
          "output_type": "stream",
          "name": "stderr",
          "text": [
            "Entraînement:  20%|█▉        | 1961/10000 [34:14<2:14:35,  1.00s/it]"
          ]
        },
        {
          "output_type": "stream",
          "name": "stdout",
          "text": [
            "Epoch 1960 | CVaR: 3.6772\n"
          ]
        },
        {
          "output_type": "stream",
          "name": "stderr",
          "text": [
            "Entraînement:  20%|█▉        | 1971/10000 [34:24<2:11:02,  1.02it/s]"
          ]
        },
        {
          "output_type": "stream",
          "name": "stdout",
          "text": [
            "Epoch 1970 | CVaR: 3.6391\n"
          ]
        },
        {
          "output_type": "stream",
          "name": "stderr",
          "text": [
            "Entraînement:  20%|█▉        | 1981/10000 [34:35<2:12:51,  1.01it/s]"
          ]
        },
        {
          "output_type": "stream",
          "name": "stdout",
          "text": [
            "Epoch 1980 | CVaR: 3.6889\n"
          ]
        },
        {
          "output_type": "stream",
          "name": "stderr",
          "text": [
            "Entraînement:  20%|█▉        | 1991/10000 [34:46<2:19:04,  1.04s/it]"
          ]
        },
        {
          "output_type": "stream",
          "name": "stdout",
          "text": [
            "Epoch 1990 | CVaR: 3.6823\n"
          ]
        },
        {
          "output_type": "stream",
          "name": "stderr",
          "text": [
            "Entraînement:  20%|██        | 2001/10000 [34:56<2:34:26,  1.16s/it]"
          ]
        },
        {
          "output_type": "stream",
          "name": "stdout",
          "text": [
            "Epoch 2000 | CVaR: 3.6762\n"
          ]
        },
        {
          "output_type": "stream",
          "name": "stderr",
          "text": [
            "Entraînement:  20%|██        | 2011/10000 [35:06<2:14:11,  1.01s/it]"
          ]
        },
        {
          "output_type": "stream",
          "name": "stdout",
          "text": [
            "Epoch 2010 | CVaR: 3.6690\n"
          ]
        },
        {
          "output_type": "stream",
          "name": "stderr",
          "text": [
            "Entraînement:  20%|██        | 2021/10000 [35:16<2:10:52,  1.02it/s]"
          ]
        },
        {
          "output_type": "stream",
          "name": "stdout",
          "text": [
            "Epoch 2020 | CVaR: 3.6922\n"
          ]
        },
        {
          "output_type": "stream",
          "name": "stderr",
          "text": [
            "Entraînement:  20%|██        | 2031/10000 [35:27<2:11:08,  1.01it/s]"
          ]
        },
        {
          "output_type": "stream",
          "name": "stdout",
          "text": [
            "Epoch 2030 | CVaR: 3.6709\n"
          ]
        },
        {
          "output_type": "stream",
          "name": "stderr",
          "text": [
            "Entraînement:  20%|██        | 2041/10000 [35:37<2:17:00,  1.03s/it]"
          ]
        },
        {
          "output_type": "stream",
          "name": "stdout",
          "text": [
            "Epoch 2040 | CVaR: 3.6730\n"
          ]
        },
        {
          "output_type": "stream",
          "name": "stderr",
          "text": [
            "Entraînement:  21%|██        | 2051/10000 [35:48<2:35:12,  1.17s/it]"
          ]
        },
        {
          "output_type": "stream",
          "name": "stdout",
          "text": [
            "Epoch 2050 | CVaR: 3.6806\n"
          ]
        },
        {
          "output_type": "stream",
          "name": "stderr",
          "text": [
            "Entraînement:  21%|██        | 2061/10000 [35:58<2:06:26,  1.05it/s]"
          ]
        },
        {
          "output_type": "stream",
          "name": "stdout",
          "text": [
            "Epoch 2060 | CVaR: 3.6646\n"
          ]
        },
        {
          "output_type": "stream",
          "name": "stderr",
          "text": [
            "Entraînement:  21%|██        | 2071/10000 [36:08<2:07:30,  1.04it/s]"
          ]
        },
        {
          "output_type": "stream",
          "name": "stdout",
          "text": [
            "Epoch 2070 | CVaR: 3.6774\n"
          ]
        },
        {
          "output_type": "stream",
          "name": "stderr",
          "text": [
            "Entraînement:  21%|██        | 2081/10000 [36:19<2:10:27,  1.01it/s]"
          ]
        },
        {
          "output_type": "stream",
          "name": "stdout",
          "text": [
            "Epoch 2080 | CVaR: 3.6806\n"
          ]
        },
        {
          "output_type": "stream",
          "name": "stderr",
          "text": [
            "Entraînement:  21%|██        | 2091/10000 [36:29<2:20:20,  1.06s/it]"
          ]
        },
        {
          "output_type": "stream",
          "name": "stdout",
          "text": [
            "Epoch 2090 | CVaR: 3.6314\n"
          ]
        },
        {
          "output_type": "stream",
          "name": "stderr",
          "text": [
            "Entraînement:  21%|██        | 2101/10000 [36:40<2:38:52,  1.21s/it]"
          ]
        },
        {
          "output_type": "stream",
          "name": "stdout",
          "text": [
            "Epoch 2100 | CVaR: 3.6686\n"
          ]
        },
        {
          "output_type": "stream",
          "name": "stderr",
          "text": [
            "Entraînement:  21%|██        | 2111/10000 [36:50<2:05:49,  1.04it/s]"
          ]
        },
        {
          "output_type": "stream",
          "name": "stdout",
          "text": [
            "Epoch 2110 | CVaR: 3.6346\n"
          ]
        },
        {
          "output_type": "stream",
          "name": "stderr",
          "text": [
            "Entraînement:  21%|██        | 2121/10000 [37:00<2:08:02,  1.03it/s]"
          ]
        },
        {
          "output_type": "stream",
          "name": "stdout",
          "text": [
            "Epoch 2120 | CVaR: 3.6665\n"
          ]
        },
        {
          "output_type": "stream",
          "name": "stderr",
          "text": [
            "Entraînement:  21%|██▏       | 2131/10000 [37:11<2:09:47,  1.01it/s]"
          ]
        },
        {
          "output_type": "stream",
          "name": "stdout",
          "text": [
            "Epoch 2130 | CVaR: 3.6653\n"
          ]
        },
        {
          "output_type": "stream",
          "name": "stderr",
          "text": [
            "Entraînement:  21%|██▏       | 2141/10000 [37:21<2:19:15,  1.06s/it]"
          ]
        },
        {
          "output_type": "stream",
          "name": "stdout",
          "text": [
            "Epoch 2140 | CVaR: 3.6514\n"
          ]
        },
        {
          "output_type": "stream",
          "name": "stderr",
          "text": [
            "Entraînement:  22%|██▏       | 2151/10000 [37:32<2:37:43,  1.21s/it]"
          ]
        },
        {
          "output_type": "stream",
          "name": "stdout",
          "text": [
            "Epoch 2150 | CVaR: 3.6778\n"
          ]
        },
        {
          "output_type": "stream",
          "name": "stderr",
          "text": [
            "Entraînement:  22%|██▏       | 2161/10000 [37:42<2:05:45,  1.04it/s]"
          ]
        },
        {
          "output_type": "stream",
          "name": "stdout",
          "text": [
            "Epoch 2160 | CVaR: 3.6540\n"
          ]
        },
        {
          "output_type": "stream",
          "name": "stderr",
          "text": [
            "Entraînement:  22%|██▏       | 2171/10000 [37:52<2:07:33,  1.02it/s]"
          ]
        },
        {
          "output_type": "stream",
          "name": "stdout",
          "text": [
            "Epoch 2170 | CVaR: 3.6315\n"
          ]
        },
        {
          "output_type": "stream",
          "name": "stderr",
          "text": [
            "Entraînement:  22%|██▏       | 2181/10000 [38:03<2:09:50,  1.00it/s]"
          ]
        },
        {
          "output_type": "stream",
          "name": "stdout",
          "text": [
            "Epoch 2180 | CVaR: 3.6375\n"
          ]
        },
        {
          "output_type": "stream",
          "name": "stderr",
          "text": [
            "Entraînement:  22%|██▏       | 2191/10000 [38:13<2:18:13,  1.06s/it]"
          ]
        },
        {
          "output_type": "stream",
          "name": "stdout",
          "text": [
            "Epoch 2190 | CVaR: 3.6404\n"
          ]
        },
        {
          "output_type": "stream",
          "name": "stderr",
          "text": [
            "Entraînement:  22%|██▏       | 2201/10000 [38:24<2:37:05,  1.21s/it]"
          ]
        },
        {
          "output_type": "stream",
          "name": "stdout",
          "text": [
            "Epoch 2200 | CVaR: 3.6457\n"
          ]
        },
        {
          "output_type": "stream",
          "name": "stderr",
          "text": [
            "Entraînement:  22%|██▏       | 2211/10000 [38:34<2:06:01,  1.03it/s]"
          ]
        },
        {
          "output_type": "stream",
          "name": "stdout",
          "text": [
            "Epoch 2210 | CVaR: 3.6511\n"
          ]
        },
        {
          "output_type": "stream",
          "name": "stderr",
          "text": [
            "Entraînement:  22%|██▏       | 2221/10000 [38:44<2:06:57,  1.02it/s]"
          ]
        },
        {
          "output_type": "stream",
          "name": "stdout",
          "text": [
            "Epoch 2220 | CVaR: 3.6579\n"
          ]
        },
        {
          "output_type": "stream",
          "name": "stderr",
          "text": [
            "Entraînement:  22%|██▏       | 2231/10000 [38:55<2:08:27,  1.01it/s]"
          ]
        },
        {
          "output_type": "stream",
          "name": "stdout",
          "text": [
            "Epoch 2230 | CVaR: 3.6597\n"
          ]
        },
        {
          "output_type": "stream",
          "name": "stderr",
          "text": [
            "Entraînement:  22%|██▏       | 2241/10000 [39:05<2:17:49,  1.07s/it]"
          ]
        },
        {
          "output_type": "stream",
          "name": "stdout",
          "text": [
            "Epoch 2240 | CVaR: 3.6621\n"
          ]
        },
        {
          "output_type": "stream",
          "name": "stderr",
          "text": [
            "Entraînement:  23%|██▎       | 2251/10000 [39:16<2:37:53,  1.22s/it]"
          ]
        },
        {
          "output_type": "stream",
          "name": "stdout",
          "text": [
            "Epoch 2250 | CVaR: 3.6397\n"
          ]
        },
        {
          "output_type": "stream",
          "name": "stderr",
          "text": [
            "Entraînement:  23%|██▎       | 2261/10000 [39:26<2:05:49,  1.03it/s]"
          ]
        },
        {
          "output_type": "stream",
          "name": "stdout",
          "text": [
            "Epoch 2260 | CVaR: 3.6834\n"
          ]
        },
        {
          "output_type": "stream",
          "name": "stderr",
          "text": [
            "Entraînement:  23%|██▎       | 2271/10000 [39:36<2:05:11,  1.03it/s]"
          ]
        },
        {
          "output_type": "stream",
          "name": "stdout",
          "text": [
            "Epoch 2270 | CVaR: 3.6323\n"
          ]
        },
        {
          "output_type": "stream",
          "name": "stderr",
          "text": [
            "Entraînement:  23%|██▎       | 2281/10000 [39:47<2:07:44,  1.01it/s]"
          ]
        },
        {
          "output_type": "stream",
          "name": "stdout",
          "text": [
            "Epoch 2280 | CVaR: 3.6440\n"
          ]
        },
        {
          "output_type": "stream",
          "name": "stderr",
          "text": [
            "Entraînement:  23%|██▎       | 2291/10000 [39:57<2:15:14,  1.05s/it]"
          ]
        },
        {
          "output_type": "stream",
          "name": "stdout",
          "text": [
            "Epoch 2290 | CVaR: 3.6827\n"
          ]
        },
        {
          "output_type": "stream",
          "name": "stderr",
          "text": [
            "Entraînement:  23%|██▎       | 2301/10000 [40:08<2:33:35,  1.20s/it]"
          ]
        },
        {
          "output_type": "stream",
          "name": "stdout",
          "text": [
            "Epoch 2300 | CVaR: 3.6446\n"
          ]
        },
        {
          "output_type": "stream",
          "name": "stderr",
          "text": [
            "Entraînement:  23%|██▎       | 2311/10000 [40:17<2:01:45,  1.05it/s]"
          ]
        },
        {
          "output_type": "stream",
          "name": "stdout",
          "text": [
            "Epoch 2310 | CVaR: 3.6394\n"
          ]
        },
        {
          "output_type": "stream",
          "name": "stderr",
          "text": [
            "Entraînement:  23%|██▎       | 2321/10000 [40:28<2:05:08,  1.02it/s]"
          ]
        },
        {
          "output_type": "stream",
          "name": "stdout",
          "text": [
            "Epoch 2320 | CVaR: 3.6577\n"
          ]
        },
        {
          "output_type": "stream",
          "name": "stderr",
          "text": [
            "Entraînement:  23%|██▎       | 2331/10000 [40:39<2:07:39,  1.00it/s]"
          ]
        },
        {
          "output_type": "stream",
          "name": "stdout",
          "text": [
            "Epoch 2330 | CVaR: 3.6373\n"
          ]
        },
        {
          "output_type": "stream",
          "name": "stderr",
          "text": [
            "Entraînement:  23%|██▎       | 2341/10000 [40:49<2:15:03,  1.06s/it]"
          ]
        },
        {
          "output_type": "stream",
          "name": "stdout",
          "text": [
            "Epoch 2340 | CVaR: 3.6602\n"
          ]
        },
        {
          "output_type": "stream",
          "name": "stderr",
          "text": [
            "Entraînement:  24%|██▎       | 2351/10000 [41:00<2:31:22,  1.19s/it]"
          ]
        },
        {
          "output_type": "stream",
          "name": "stdout",
          "text": [
            "Epoch 2350 | CVaR: 3.6373\n"
          ]
        },
        {
          "output_type": "stream",
          "name": "stderr",
          "text": [
            "Entraînement:  24%|██▎       | 2361/10000 [41:09<2:02:18,  1.04it/s]"
          ]
        },
        {
          "output_type": "stream",
          "name": "stdout",
          "text": [
            "Epoch 2360 | CVaR: 3.6128\n"
          ]
        },
        {
          "output_type": "stream",
          "name": "stderr",
          "text": [
            "Entraînement:  24%|██▎       | 2371/10000 [41:20<2:03:11,  1.03it/s]"
          ]
        },
        {
          "output_type": "stream",
          "name": "stdout",
          "text": [
            "Epoch 2370 | CVaR: 3.6068\n"
          ]
        },
        {
          "output_type": "stream",
          "name": "stderr",
          "text": [
            "Entraînement:  24%|██▍       | 2381/10000 [41:30<2:06:30,  1.00it/s]"
          ]
        },
        {
          "output_type": "stream",
          "name": "stdout",
          "text": [
            "Epoch 2380 | CVaR: 3.6427\n"
          ]
        },
        {
          "output_type": "stream",
          "name": "stderr",
          "text": [
            "Entraînement:  24%|██▍       | 2391/10000 [41:41<2:17:42,  1.09s/it]"
          ]
        },
        {
          "output_type": "stream",
          "name": "stdout",
          "text": [
            "Epoch 2390 | CVaR: 3.6663\n"
          ]
        },
        {
          "output_type": "stream",
          "name": "stderr",
          "text": [
            "Entraînement:  24%|██▍       | 2401/10000 [41:51<2:26:22,  1.16s/it]"
          ]
        },
        {
          "output_type": "stream",
          "name": "stdout",
          "text": [
            "Epoch 2400 | CVaR: 3.6754\n"
          ]
        },
        {
          "output_type": "stream",
          "name": "stderr",
          "text": [
            "Entraînement:  24%|██▍       | 2411/10000 [42:01<2:03:01,  1.03it/s]"
          ]
        },
        {
          "output_type": "stream",
          "name": "stdout",
          "text": [
            "Epoch 2410 | CVaR: 3.6311\n"
          ]
        },
        {
          "output_type": "stream",
          "name": "stderr",
          "text": [
            "Entraînement:  24%|██▍       | 2421/10000 [42:12<2:03:16,  1.02it/s]"
          ]
        },
        {
          "output_type": "stream",
          "name": "stdout",
          "text": [
            "Epoch 2420 | CVaR: 3.6743\n"
          ]
        },
        {
          "output_type": "stream",
          "name": "stderr",
          "text": [
            "Entraînement:  24%|██▍       | 2431/10000 [42:22<2:06:43,  1.00s/it]"
          ]
        },
        {
          "output_type": "stream",
          "name": "stdout",
          "text": [
            "Epoch 2430 | CVaR: 3.6687\n"
          ]
        },
        {
          "output_type": "stream",
          "name": "stderr",
          "text": [
            "Entraînement:  24%|██▍       | 2441/10000 [42:33<2:17:46,  1.09s/it]"
          ]
        },
        {
          "output_type": "stream",
          "name": "stdout",
          "text": [
            "Epoch 2440 | CVaR: 3.6354\n"
          ]
        },
        {
          "output_type": "stream",
          "name": "stderr",
          "text": [
            "Entraînement:  25%|██▍       | 2451/10000 [42:43<2:29:08,  1.19s/it]"
          ]
        },
        {
          "output_type": "stream",
          "name": "stdout",
          "text": [
            "Epoch 2450 | CVaR: 3.6734\n"
          ]
        },
        {
          "output_type": "stream",
          "name": "stderr",
          "text": [
            "Entraînement:  25%|██▍       | 2461/10000 [42:53<1:59:57,  1.05it/s]"
          ]
        },
        {
          "output_type": "stream",
          "name": "stdout",
          "text": [
            "Epoch 2460 | CVaR: 3.6505\n"
          ]
        },
        {
          "output_type": "stream",
          "name": "stderr",
          "text": [
            "Entraînement:  25%|██▍       | 2471/10000 [43:04<2:03:11,  1.02it/s]"
          ]
        },
        {
          "output_type": "stream",
          "name": "stdout",
          "text": [
            "Epoch 2470 | CVaR: 3.6461\n"
          ]
        },
        {
          "output_type": "stream",
          "name": "stderr",
          "text": [
            "Entraînement:  25%|██▍       | 2481/10000 [43:14<2:06:29,  1.01s/it]"
          ]
        },
        {
          "output_type": "stream",
          "name": "stdout",
          "text": [
            "Epoch 2480 | CVaR: 3.6476\n"
          ]
        },
        {
          "output_type": "stream",
          "name": "stderr",
          "text": [
            "Entraînement:  25%|██▍       | 2491/10000 [43:25<2:15:28,  1.08s/it]"
          ]
        },
        {
          "output_type": "stream",
          "name": "stdout",
          "text": [
            "Epoch 2490 | CVaR: 3.6471\n"
          ]
        },
        {
          "output_type": "stream",
          "name": "stderr",
          "text": [
            "Entraînement:  25%|██▌       | 2501/10000 [43:35<2:24:02,  1.15s/it]"
          ]
        },
        {
          "output_type": "stream",
          "name": "stdout",
          "text": [
            "Epoch 2500 | CVaR: 3.6610\n"
          ]
        },
        {
          "output_type": "stream",
          "name": "stderr",
          "text": [
            "Entraînement:  25%|██▌       | 2511/10000 [43:45<1:59:55,  1.04it/s]"
          ]
        },
        {
          "output_type": "stream",
          "name": "stdout",
          "text": [
            "Epoch 2510 | CVaR: 3.6465\n"
          ]
        },
        {
          "output_type": "stream",
          "name": "stderr",
          "text": [
            "Entraînement:  25%|██▌       | 2521/10000 [43:56<2:01:47,  1.02it/s]"
          ]
        },
        {
          "output_type": "stream",
          "name": "stdout",
          "text": [
            "Epoch 2520 | CVaR: 3.6501\n"
          ]
        },
        {
          "output_type": "stream",
          "name": "stderr",
          "text": [
            "Entraînement:  25%|██▌       | 2531/10000 [44:06<2:06:00,  1.01s/it]"
          ]
        },
        {
          "output_type": "stream",
          "name": "stdout",
          "text": [
            "Epoch 2530 | CVaR: 3.6347\n"
          ]
        },
        {
          "output_type": "stream",
          "name": "stderr",
          "text": [
            "Entraînement:  25%|██▌       | 2541/10000 [44:17<2:15:15,  1.09s/it]"
          ]
        },
        {
          "output_type": "stream",
          "name": "stdout",
          "text": [
            "Epoch 2540 | CVaR: 3.6303\n"
          ]
        },
        {
          "output_type": "stream",
          "name": "stderr",
          "text": [
            "Entraînement:  26%|██▌       | 2551/10000 [44:27<2:16:46,  1.10s/it]"
          ]
        },
        {
          "output_type": "stream",
          "name": "stdout",
          "text": [
            "Epoch 2550 | CVaR: 3.6281\n"
          ]
        },
        {
          "output_type": "stream",
          "name": "stderr",
          "text": [
            "Entraînement:  26%|██▌       | 2561/10000 [44:37<2:00:06,  1.03it/s]"
          ]
        },
        {
          "output_type": "stream",
          "name": "stdout",
          "text": [
            "Epoch 2560 | CVaR: 3.6696\n"
          ]
        },
        {
          "output_type": "stream",
          "name": "stderr",
          "text": [
            "Entraînement:  26%|██▌       | 2571/10000 [44:47<2:02:03,  1.01it/s]"
          ]
        },
        {
          "output_type": "stream",
          "name": "stdout",
          "text": [
            "Epoch 2570 | CVaR: 3.6446\n"
          ]
        },
        {
          "output_type": "stream",
          "name": "stderr",
          "text": [
            "Entraînement:  26%|██▌       | 2581/10000 [44:58<2:04:59,  1.01s/it]"
          ]
        },
        {
          "output_type": "stream",
          "name": "stdout",
          "text": [
            "Epoch 2580 | CVaR: 3.6575\n"
          ]
        },
        {
          "output_type": "stream",
          "name": "stderr",
          "text": [
            "Entraînement:  26%|██▌       | 2591/10000 [45:08<2:18:38,  1.12s/it]"
          ]
        },
        {
          "output_type": "stream",
          "name": "stdout",
          "text": [
            "Epoch 2590 | CVaR: 3.6231\n"
          ]
        },
        {
          "output_type": "stream",
          "name": "stderr",
          "text": [
            "Entraînement:  26%|██▌       | 2601/10000 [45:18<2:14:10,  1.09s/it]"
          ]
        },
        {
          "output_type": "stream",
          "name": "stdout",
          "text": [
            "Epoch 2600 | CVaR: 3.6521\n"
          ]
        },
        {
          "output_type": "stream",
          "name": "stderr",
          "text": [
            "Entraînement:  26%|██▌       | 2611/10000 [45:28<1:58:53,  1.04it/s]"
          ]
        },
        {
          "output_type": "stream",
          "name": "stdout",
          "text": [
            "Epoch 2610 | CVaR: 3.6474\n"
          ]
        },
        {
          "output_type": "stream",
          "name": "stderr",
          "text": [
            "Entraînement:  26%|██▌       | 2621/10000 [45:39<2:00:20,  1.02it/s]"
          ]
        },
        {
          "output_type": "stream",
          "name": "stdout",
          "text": [
            "Epoch 2620 | CVaR: 3.6258\n"
          ]
        },
        {
          "output_type": "stream",
          "name": "stderr",
          "text": [
            "Entraînement:  26%|██▋       | 2631/10000 [45:49<2:06:17,  1.03s/it]"
          ]
        },
        {
          "output_type": "stream",
          "name": "stdout",
          "text": [
            "Epoch 2630 | CVaR: 3.6289\n"
          ]
        },
        {
          "output_type": "stream",
          "name": "stderr",
          "text": [
            "Entraînement:  26%|██▋       | 2641/10000 [46:00<2:18:49,  1.13s/it]"
          ]
        },
        {
          "output_type": "stream",
          "name": "stdout",
          "text": [
            "Epoch 2640 | CVaR: 3.6563\n"
          ]
        },
        {
          "output_type": "stream",
          "name": "stderr",
          "text": [
            "Entraînement:  27%|██▋       | 2651/10000 [46:10<2:09:09,  1.05s/it]"
          ]
        },
        {
          "output_type": "stream",
          "name": "stdout",
          "text": [
            "Epoch 2650 | CVaR: 3.6711\n"
          ]
        },
        {
          "output_type": "stream",
          "name": "stderr",
          "text": [
            "Entraînement:  27%|██▋       | 2661/10000 [46:20<1:58:39,  1.03it/s]"
          ]
        },
        {
          "output_type": "stream",
          "name": "stdout",
          "text": [
            "Epoch 2660 | CVaR: 3.6934\n"
          ]
        },
        {
          "output_type": "stream",
          "name": "stderr",
          "text": [
            "Entraînement:  27%|██▋       | 2671/10000 [46:31<2:00:39,  1.01it/s]"
          ]
        },
        {
          "output_type": "stream",
          "name": "stdout",
          "text": [
            "Epoch 2670 | CVaR: 3.6390\n"
          ]
        },
        {
          "output_type": "stream",
          "name": "stderr",
          "text": [
            "Entraînement:  27%|██▋       | 2681/10000 [46:41<2:05:27,  1.03s/it]"
          ]
        },
        {
          "output_type": "stream",
          "name": "stdout",
          "text": [
            "Epoch 2680 | CVaR: 3.6355\n"
          ]
        },
        {
          "output_type": "stream",
          "name": "stderr",
          "text": [
            "Entraînement:  27%|██▋       | 2691/10000 [46:52<2:21:35,  1.16s/it]"
          ]
        },
        {
          "output_type": "stream",
          "name": "stdout",
          "text": [
            "Epoch 2690 | CVaR: 3.6635\n"
          ]
        },
        {
          "output_type": "stream",
          "name": "stderr",
          "text": [
            "Entraînement:  27%|██▋       | 2701/10000 [47:01<1:57:55,  1.03it/s]"
          ]
        },
        {
          "output_type": "stream",
          "name": "stdout",
          "text": [
            "Epoch 2700 | CVaR: 3.6916\n"
          ]
        },
        {
          "output_type": "stream",
          "name": "stderr",
          "text": [
            "Entraînement:  27%|██▋       | 2711/10000 [47:12<1:58:18,  1.03it/s]"
          ]
        },
        {
          "output_type": "stream",
          "name": "stdout",
          "text": [
            "Epoch 2710 | CVaR: 3.6882\n"
          ]
        },
        {
          "output_type": "stream",
          "name": "stderr",
          "text": [
            "Entraînement:  27%|██▋       | 2721/10000 [47:22<2:00:28,  1.01it/s]"
          ]
        },
        {
          "output_type": "stream",
          "name": "stdout",
          "text": [
            "Epoch 2720 | CVaR: 3.7103\n"
          ]
        },
        {
          "output_type": "stream",
          "name": "stderr",
          "text": [
            "Entraînement:  27%|██▋       | 2731/10000 [47:33<2:06:21,  1.04s/it]"
          ]
        },
        {
          "output_type": "stream",
          "name": "stdout",
          "text": [
            "Epoch 2730 | CVaR: 3.6472\n"
          ]
        },
        {
          "output_type": "stream",
          "name": "stderr",
          "text": [
            "Entraînement:  27%|██▋       | 2741/10000 [47:44<2:23:22,  1.19s/it]"
          ]
        },
        {
          "output_type": "stream",
          "name": "stdout",
          "text": [
            "Epoch 2740 | CVaR: 3.6349\n"
          ]
        },
        {
          "output_type": "stream",
          "name": "stderr",
          "text": [
            "Entraînement:  28%|██▊       | 2751/10000 [47:54<2:02:16,  1.01s/it]"
          ]
        },
        {
          "output_type": "stream",
          "name": "stdout",
          "text": [
            "Epoch 2750 | CVaR: 3.6405\n"
          ]
        },
        {
          "output_type": "stream",
          "name": "stderr",
          "text": [
            "Entraînement:  28%|██▊       | 2761/10000 [48:04<1:56:48,  1.03it/s]"
          ]
        },
        {
          "output_type": "stream",
          "name": "stdout",
          "text": [
            "Epoch 2760 | CVaR: 3.6374\n"
          ]
        },
        {
          "output_type": "stream",
          "name": "stderr",
          "text": [
            "Entraînement:  28%|██▊       | 2771/10000 [48:14<1:58:17,  1.02it/s]"
          ]
        },
        {
          "output_type": "stream",
          "name": "stdout",
          "text": [
            "Epoch 2770 | CVaR: 3.6605\n"
          ]
        },
        {
          "output_type": "stream",
          "name": "stderr",
          "text": [
            "Entraînement:  28%|██▊       | 2781/10000 [48:25<2:04:57,  1.04s/it]"
          ]
        },
        {
          "output_type": "stream",
          "name": "stdout",
          "text": [
            "Epoch 2780 | CVaR: 3.6943\n"
          ]
        },
        {
          "output_type": "stream",
          "name": "stderr",
          "text": [
            "Entraînement:  28%|██▊       | 2791/10000 [48:35<2:23:40,  1.20s/it]"
          ]
        },
        {
          "output_type": "stream",
          "name": "stdout",
          "text": [
            "Epoch 2790 | CVaR: 3.6630\n"
          ]
        },
        {
          "output_type": "stream",
          "name": "stderr",
          "text": [
            "Entraînement:  28%|██▊       | 2801/10000 [48:45<1:55:03,  1.04it/s]"
          ]
        },
        {
          "output_type": "stream",
          "name": "stdout",
          "text": [
            "Epoch 2800 | CVaR: 3.6393\n"
          ]
        },
        {
          "output_type": "stream",
          "name": "stderr",
          "text": [
            "Entraînement:  28%|██▊       | 2811/10000 [48:56<1:56:55,  1.02it/s]"
          ]
        },
        {
          "output_type": "stream",
          "name": "stdout",
          "text": [
            "Epoch 2810 | CVaR: 3.6220\n"
          ]
        },
        {
          "output_type": "stream",
          "name": "stderr",
          "text": [
            "Entraînement:  28%|██▊       | 2821/10000 [49:06<1:59:34,  1.00it/s]"
          ]
        },
        {
          "output_type": "stream",
          "name": "stdout",
          "text": [
            "Epoch 2820 | CVaR: 3.6830\n"
          ]
        },
        {
          "output_type": "stream",
          "name": "stderr",
          "text": [
            "Entraînement:  28%|██▊       | 2831/10000 [49:17<2:06:18,  1.06s/it]"
          ]
        },
        {
          "output_type": "stream",
          "name": "stdout",
          "text": [
            "Epoch 2830 | CVaR: 3.6519\n"
          ]
        },
        {
          "output_type": "stream",
          "name": "stderr",
          "text": [
            "Entraînement:  28%|██▊       | 2841/10000 [49:27<2:24:38,  1.21s/it]"
          ]
        },
        {
          "output_type": "stream",
          "name": "stdout",
          "text": [
            "Epoch 2840 | CVaR: 3.6742\n"
          ]
        },
        {
          "output_type": "stream",
          "name": "stderr",
          "text": [
            "Entraînement:  29%|██▊       | 2851/10000 [49:37<1:54:24,  1.04it/s]"
          ]
        },
        {
          "output_type": "stream",
          "name": "stdout",
          "text": [
            "Epoch 2850 | CVaR: 3.6551\n"
          ]
        },
        {
          "output_type": "stream",
          "name": "stderr",
          "text": [
            "Entraînement:  29%|██▊       | 2861/10000 [49:47<1:55:29,  1.03it/s]"
          ]
        },
        {
          "output_type": "stream",
          "name": "stdout",
          "text": [
            "Epoch 2860 | CVaR: 3.6484\n"
          ]
        },
        {
          "output_type": "stream",
          "name": "stderr",
          "text": [
            "Entraînement:  29%|██▊       | 2871/10000 [49:58<1:57:50,  1.01it/s]"
          ]
        },
        {
          "output_type": "stream",
          "name": "stdout",
          "text": [
            "Epoch 2870 | CVaR: 3.6598\n"
          ]
        },
        {
          "output_type": "stream",
          "name": "stderr",
          "text": [
            "Entraînement:  29%|██▉       | 2881/10000 [50:09<2:07:22,  1.07s/it]"
          ]
        },
        {
          "output_type": "stream",
          "name": "stdout",
          "text": [
            "Epoch 2880 | CVaR: 3.6699\n"
          ]
        },
        {
          "output_type": "stream",
          "name": "stderr",
          "text": [
            "Entraînement:  29%|██▉       | 2891/10000 [50:19<2:21:13,  1.19s/it]"
          ]
        },
        {
          "output_type": "stream",
          "name": "stdout",
          "text": [
            "Epoch 2890 | CVaR: 3.6648\n"
          ]
        },
        {
          "output_type": "stream",
          "name": "stderr",
          "text": [
            "Entraînement:  29%|██▉       | 2901/10000 [50:29<1:53:38,  1.04it/s]"
          ]
        },
        {
          "output_type": "stream",
          "name": "stdout",
          "text": [
            "Epoch 2900 | CVaR: 3.6159\n"
          ]
        },
        {
          "output_type": "stream",
          "name": "stderr",
          "text": [
            "Entraînement:  29%|██▉       | 2911/10000 [50:39<1:56:03,  1.02it/s]"
          ]
        },
        {
          "output_type": "stream",
          "name": "stdout",
          "text": [
            "Epoch 2910 | CVaR: 3.6774\n"
          ]
        },
        {
          "output_type": "stream",
          "name": "stderr",
          "text": [
            "Entraînement:  29%|██▉       | 2921/10000 [50:50<1:58:32,  1.00s/it]"
          ]
        },
        {
          "output_type": "stream",
          "name": "stdout",
          "text": [
            "Epoch 2920 | CVaR: 3.6751\n"
          ]
        },
        {
          "output_type": "stream",
          "name": "stderr",
          "text": [
            "Entraînement:  29%|██▉       | 2931/10000 [51:00<2:06:27,  1.07s/it]"
          ]
        },
        {
          "output_type": "stream",
          "name": "stdout",
          "text": [
            "Epoch 2930 | CVaR: 3.6686\n"
          ]
        },
        {
          "output_type": "stream",
          "name": "stderr",
          "text": [
            "Entraînement:  29%|██▉       | 2941/10000 [51:11<2:17:08,  1.17s/it]"
          ]
        },
        {
          "output_type": "stream",
          "name": "stdout",
          "text": [
            "Epoch 2940 | CVaR: 3.6249\n"
          ]
        },
        {
          "output_type": "stream",
          "name": "stderr",
          "text": [
            "Entraînement:  30%|██▉       | 2951/10000 [51:20<1:52:27,  1.04it/s]"
          ]
        },
        {
          "output_type": "stream",
          "name": "stdout",
          "text": [
            "Epoch 2950 | CVaR: 3.6759\n"
          ]
        },
        {
          "output_type": "stream",
          "name": "stderr",
          "text": [
            "Entraînement:  30%|██▉       | 2961/10000 [51:31<1:54:25,  1.03it/s]"
          ]
        },
        {
          "output_type": "stream",
          "name": "stdout",
          "text": [
            "Epoch 2960 | CVaR: 3.6557\n"
          ]
        },
        {
          "output_type": "stream",
          "name": "stderr",
          "text": [
            "Entraînement:  30%|██▉       | 2971/10000 [51:41<1:58:36,  1.01s/it]"
          ]
        },
        {
          "output_type": "stream",
          "name": "stdout",
          "text": [
            "Epoch 2970 | CVaR: 3.6496\n"
          ]
        },
        {
          "output_type": "stream",
          "name": "stderr",
          "text": [
            "Entraînement:  30%|██▉       | 2981/10000 [51:52<2:07:24,  1.09s/it]"
          ]
        },
        {
          "output_type": "stream",
          "name": "stdout",
          "text": [
            "Epoch 2980 | CVaR: 3.6481\n"
          ]
        },
        {
          "output_type": "stream",
          "name": "stderr",
          "text": [
            "Entraînement:  30%|██▉       | 2991/10000 [52:02<2:11:21,  1.12s/it]"
          ]
        },
        {
          "output_type": "stream",
          "name": "stdout",
          "text": [
            "Epoch 2990 | CVaR: 3.6723\n"
          ]
        },
        {
          "output_type": "stream",
          "name": "stderr",
          "text": [
            "Entraînement:  30%|███       | 3001/10000 [52:12<1:52:29,  1.04it/s]"
          ]
        },
        {
          "output_type": "stream",
          "name": "stdout",
          "text": [
            "Epoch 3000 | CVaR: 3.6539\n"
          ]
        },
        {
          "output_type": "stream",
          "name": "stderr",
          "text": [
            "Entraînement:  30%|███       | 3011/10000 [52:22<1:53:43,  1.02it/s]"
          ]
        },
        {
          "output_type": "stream",
          "name": "stdout",
          "text": [
            "Epoch 3010 | CVaR: 3.6370\n"
          ]
        },
        {
          "output_type": "stream",
          "name": "stderr",
          "text": [
            "Entraînement:  30%|███       | 3021/10000 [52:33<1:57:30,  1.01s/it]"
          ]
        },
        {
          "output_type": "stream",
          "name": "stdout",
          "text": [
            "Epoch 3020 | CVaR: 3.6824\n"
          ]
        },
        {
          "output_type": "stream",
          "name": "stderr",
          "text": [
            "Entraînement:  30%|███       | 3031/10000 [52:44<2:07:14,  1.10s/it]"
          ]
        },
        {
          "output_type": "stream",
          "name": "stdout",
          "text": [
            "Epoch 3030 | CVaR: 3.6443\n"
          ]
        },
        {
          "output_type": "stream",
          "name": "stderr",
          "text": [
            "Entraînement:  30%|███       | 3041/10000 [52:54<2:09:27,  1.12s/it]"
          ]
        },
        {
          "output_type": "stream",
          "name": "stdout",
          "text": [
            "Epoch 3040 | CVaR: 3.6382\n"
          ]
        },
        {
          "output_type": "stream",
          "name": "stderr",
          "text": [
            "Entraînement:  31%|███       | 3051/10000 [53:04<1:53:32,  1.02it/s]"
          ]
        },
        {
          "output_type": "stream",
          "name": "stdout",
          "text": [
            "Epoch 3050 | CVaR: 3.6498\n"
          ]
        },
        {
          "output_type": "stream",
          "name": "stderr",
          "text": [
            "Entraînement:  31%|███       | 3061/10000 [53:14<1:54:28,  1.01it/s]"
          ]
        },
        {
          "output_type": "stream",
          "name": "stdout",
          "text": [
            "Epoch 3060 | CVaR: 3.6590\n"
          ]
        },
        {
          "output_type": "stream",
          "name": "stderr",
          "text": [
            "Entraînement:  31%|███       | 3071/10000 [53:25<1:57:35,  1.02s/it]"
          ]
        },
        {
          "output_type": "stream",
          "name": "stdout",
          "text": [
            "Epoch 3070 | CVaR: 3.6510\n"
          ]
        },
        {
          "output_type": "stream",
          "name": "stderr",
          "text": [
            "Entraînement:  31%|███       | 3081/10000 [53:35<2:07:38,  1.11s/it]"
          ]
        },
        {
          "output_type": "stream",
          "name": "stdout",
          "text": [
            "Epoch 3080 | CVaR: 3.6488\n"
          ]
        },
        {
          "output_type": "stream",
          "name": "stderr",
          "text": [
            "Entraînement:  31%|███       | 3091/10000 [53:45<2:04:03,  1.08s/it]"
          ]
        },
        {
          "output_type": "stream",
          "name": "stdout",
          "text": [
            "Epoch 3090 | CVaR: 3.6594\n"
          ]
        },
        {
          "output_type": "stream",
          "name": "stderr",
          "text": [
            "Entraînement:  31%|███       | 3101/10000 [53:56<1:50:56,  1.04it/s]"
          ]
        },
        {
          "output_type": "stream",
          "name": "stdout",
          "text": [
            "Epoch 3100 | CVaR: 3.6557\n"
          ]
        },
        {
          "output_type": "stream",
          "name": "stderr",
          "text": [
            "Entraînement:  31%|███       | 3111/10000 [54:06<1:53:29,  1.01it/s]"
          ]
        },
        {
          "output_type": "stream",
          "name": "stdout",
          "text": [
            "Epoch 3110 | CVaR: 3.6885\n"
          ]
        },
        {
          "output_type": "stream",
          "name": "stderr",
          "text": [
            "Entraînement:  31%|███       | 3121/10000 [54:17<1:58:25,  1.03s/it]"
          ]
        },
        {
          "output_type": "stream",
          "name": "stdout",
          "text": [
            "Epoch 3120 | CVaR: 3.6654\n"
          ]
        },
        {
          "output_type": "stream",
          "name": "stderr",
          "text": [
            "Entraînement:  31%|███▏      | 3131/10000 [54:27<2:11:03,  1.14s/it]"
          ]
        },
        {
          "output_type": "stream",
          "name": "stdout",
          "text": [
            "Epoch 3130 | CVaR: 3.6664\n"
          ]
        },
        {
          "output_type": "stream",
          "name": "stderr",
          "text": [
            "Entraînement:  31%|███▏      | 3141/10000 [54:37<2:03:27,  1.08s/it]"
          ]
        },
        {
          "output_type": "stream",
          "name": "stdout",
          "text": [
            "Epoch 3140 | CVaR: 3.6665\n"
          ]
        },
        {
          "output_type": "stream",
          "name": "stderr",
          "text": [
            "Entraînement:  32%|███▏      | 3151/10000 [54:47<1:50:27,  1.03it/s]"
          ]
        },
        {
          "output_type": "stream",
          "name": "stdout",
          "text": [
            "Epoch 3150 | CVaR: 3.6593\n"
          ]
        },
        {
          "output_type": "stream",
          "name": "stderr",
          "text": [
            "Entraînement:  32%|███▏      | 3161/10000 [54:58<1:51:09,  1.03it/s]"
          ]
        },
        {
          "output_type": "stream",
          "name": "stdout",
          "text": [
            "Epoch 3160 | CVaR: 3.6236\n"
          ]
        },
        {
          "output_type": "stream",
          "name": "stderr",
          "text": [
            "Entraînement:  32%|███▏      | 3171/10000 [55:09<1:58:32,  1.04s/it]"
          ]
        },
        {
          "output_type": "stream",
          "name": "stdout",
          "text": [
            "Epoch 3170 | CVaR: 3.6844\n"
          ]
        },
        {
          "output_type": "stream",
          "name": "stderr",
          "text": [
            "Entraînement:  32%|███▏      | 3181/10000 [55:19<2:09:01,  1.14s/it]"
          ]
        },
        {
          "output_type": "stream",
          "name": "stdout",
          "text": [
            "Epoch 3180 | CVaR: 3.6408\n"
          ]
        },
        {
          "output_type": "stream",
          "name": "stderr",
          "text": [
            "Entraînement:  32%|███▏      | 3191/10000 [55:29<1:58:45,  1.05s/it]"
          ]
        },
        {
          "output_type": "stream",
          "name": "stdout",
          "text": [
            "Epoch 3190 | CVaR: 3.6605\n"
          ]
        },
        {
          "output_type": "stream",
          "name": "stderr",
          "text": [
            "Entraînement:  32%|███▏      | 3201/10000 [55:39<1:49:46,  1.03it/s]"
          ]
        },
        {
          "output_type": "stream",
          "name": "stdout",
          "text": [
            "Epoch 3200 | CVaR: 3.6791\n"
          ]
        },
        {
          "output_type": "stream",
          "name": "stderr",
          "text": [
            "Entraînement:  32%|███▏      | 3211/10000 [55:50<1:51:47,  1.01it/s]"
          ]
        },
        {
          "output_type": "stream",
          "name": "stdout",
          "text": [
            "Epoch 3210 | CVaR: 3.6385\n"
          ]
        },
        {
          "output_type": "stream",
          "name": "stderr",
          "text": [
            "Entraînement:  32%|███▏      | 3221/10000 [56:00<1:56:16,  1.03s/it]"
          ]
        },
        {
          "output_type": "stream",
          "name": "stdout",
          "text": [
            "Epoch 3220 | CVaR: 3.6406\n"
          ]
        },
        {
          "output_type": "stream",
          "name": "stderr",
          "text": [
            "Entraînement:  32%|███▏      | 3231/10000 [56:11<2:12:24,  1.17s/it]"
          ]
        },
        {
          "output_type": "stream",
          "name": "stdout",
          "text": [
            "Epoch 3230 | CVaR: 3.6375\n"
          ]
        },
        {
          "output_type": "stream",
          "name": "stderr",
          "text": [
            "Entraînement:  32%|███▏      | 3241/10000 [56:21<1:51:54,  1.01it/s]"
          ]
        },
        {
          "output_type": "stream",
          "name": "stdout",
          "text": [
            "Epoch 3240 | CVaR: 3.6263\n"
          ]
        },
        {
          "output_type": "stream",
          "name": "stderr",
          "text": [
            "Entraînement:  33%|███▎      | 3251/10000 [56:31<1:47:40,  1.04it/s]"
          ]
        },
        {
          "output_type": "stream",
          "name": "stdout",
          "text": [
            "Epoch 3250 | CVaR: 3.6678\n"
          ]
        },
        {
          "output_type": "stream",
          "name": "stderr",
          "text": [
            "Entraînement:  33%|███▎      | 3261/10000 [56:41<1:52:20,  1.00s/it]"
          ]
        },
        {
          "output_type": "stream",
          "name": "stdout",
          "text": [
            "Epoch 3260 | CVaR: 3.6567\n"
          ]
        },
        {
          "output_type": "stream",
          "name": "stderr",
          "text": [
            "Entraînement:  33%|███▎      | 3271/10000 [56:52<1:59:52,  1.07s/it]"
          ]
        },
        {
          "output_type": "stream",
          "name": "stdout",
          "text": [
            "Epoch 3270 | CVaR: 3.6843\n"
          ]
        },
        {
          "output_type": "stream",
          "name": "stderr",
          "text": [
            "Entraînement:  33%|███▎      | 3281/10000 [57:03<2:13:37,  1.19s/it]"
          ]
        },
        {
          "output_type": "stream",
          "name": "stdout",
          "text": [
            "Epoch 3280 | CVaR: 3.6369\n"
          ]
        },
        {
          "output_type": "stream",
          "name": "stderr",
          "text": [
            "Entraînement:  33%|███▎      | 3291/10000 [57:13<1:52:41,  1.01s/it]"
          ]
        },
        {
          "output_type": "stream",
          "name": "stdout",
          "text": [
            "Epoch 3290 | CVaR: 3.6657\n"
          ]
        },
        {
          "output_type": "stream",
          "name": "stderr",
          "text": [
            "Entraînement:  33%|███▎      | 3301/10000 [57:23<1:49:08,  1.02it/s]"
          ]
        },
        {
          "output_type": "stream",
          "name": "stdout",
          "text": [
            "Epoch 3300 | CVaR: 3.6596\n"
          ]
        },
        {
          "output_type": "stream",
          "name": "stderr",
          "text": [
            "Entraînement:  33%|███▎      | 3311/10000 [57:34<1:49:42,  1.02it/s]"
          ]
        },
        {
          "output_type": "stream",
          "name": "stdout",
          "text": [
            "Epoch 3310 | CVaR: 3.6487\n"
          ]
        },
        {
          "output_type": "stream",
          "name": "stderr",
          "text": [
            "Entraînement:  33%|███▎      | 3321/10000 [57:44<1:57:23,  1.05s/it]"
          ]
        },
        {
          "output_type": "stream",
          "name": "stdout",
          "text": [
            "Epoch 3320 | CVaR: 3.6363\n"
          ]
        },
        {
          "output_type": "stream",
          "name": "stderr",
          "text": [
            "Entraînement:  33%|███▎      | 3331/10000 [57:55<2:12:34,  1.19s/it]"
          ]
        },
        {
          "output_type": "stream",
          "name": "stdout",
          "text": [
            "Epoch 3330 | CVaR: 3.6651\n"
          ]
        },
        {
          "output_type": "stream",
          "name": "stderr",
          "text": [
            "Entraînement:  33%|███▎      | 3341/10000 [58:04<1:46:38,  1.04it/s]"
          ]
        },
        {
          "output_type": "stream",
          "name": "stdout",
          "text": [
            "Epoch 3340 | CVaR: 3.6697\n"
          ]
        },
        {
          "output_type": "stream",
          "name": "stderr",
          "text": [
            "Entraînement:  34%|███▎      | 3351/10000 [58:15<1:49:34,  1.01it/s]"
          ]
        },
        {
          "output_type": "stream",
          "name": "stdout",
          "text": [
            "Epoch 3350 | CVaR: 3.6285\n"
          ]
        },
        {
          "output_type": "stream",
          "name": "stderr",
          "text": [
            "Entraînement:  34%|███▎      | 3361/10000 [58:26<1:50:48,  1.00s/it]"
          ]
        },
        {
          "output_type": "stream",
          "name": "stdout",
          "text": [
            "Epoch 3360 | CVaR: 3.6739\n"
          ]
        },
        {
          "output_type": "stream",
          "name": "stderr",
          "text": [
            "Entraînement:  34%|███▎      | 3371/10000 [58:36<1:55:29,  1.05s/it]"
          ]
        },
        {
          "output_type": "stream",
          "name": "stdout",
          "text": [
            "Epoch 3370 | CVaR: 3.6308\n"
          ]
        },
        {
          "output_type": "stream",
          "name": "stderr",
          "text": [
            "Entraînement:  34%|███▍      | 3381/10000 [58:47<2:13:12,  1.21s/it]"
          ]
        },
        {
          "output_type": "stream",
          "name": "stdout",
          "text": [
            "Epoch 3380 | CVaR: 3.6494\n"
          ]
        },
        {
          "output_type": "stream",
          "name": "stderr",
          "text": [
            "Entraînement:  34%|███▍      | 3391/10000 [58:56<1:44:57,  1.05it/s]"
          ]
        },
        {
          "output_type": "stream",
          "name": "stdout",
          "text": [
            "Epoch 3390 | CVaR: 3.6543\n"
          ]
        },
        {
          "output_type": "stream",
          "name": "stderr",
          "text": [
            "Entraînement:  34%|███▍      | 3401/10000 [59:07<1:46:19,  1.03it/s]"
          ]
        },
        {
          "output_type": "stream",
          "name": "stdout",
          "text": [
            "Epoch 3400 | CVaR: 3.6409\n"
          ]
        },
        {
          "output_type": "stream",
          "name": "stderr",
          "text": [
            "Entraînement:  34%|███▍      | 3411/10000 [59:17<1:50:17,  1.00s/it]"
          ]
        },
        {
          "output_type": "stream",
          "name": "stdout",
          "text": [
            "Epoch 3410 | CVaR: 3.6378\n"
          ]
        },
        {
          "output_type": "stream",
          "name": "stderr",
          "text": [
            "Entraînement:  34%|███▍      | 3421/10000 [59:28<1:56:34,  1.06s/it]"
          ]
        },
        {
          "output_type": "stream",
          "name": "stdout",
          "text": [
            "Epoch 3420 | CVaR: 3.6625\n"
          ]
        },
        {
          "output_type": "stream",
          "name": "stderr",
          "text": [
            "Entraînement:  34%|███▍      | 3431/10000 [59:38<2:06:44,  1.16s/it]"
          ]
        },
        {
          "output_type": "stream",
          "name": "stdout",
          "text": [
            "Epoch 3430 | CVaR: 3.6940\n"
          ]
        },
        {
          "output_type": "stream",
          "name": "stderr",
          "text": [
            "Entraînement:  34%|███▍      | 3441/10000 [59:48<1:46:23,  1.03it/s]"
          ]
        },
        {
          "output_type": "stream",
          "name": "stdout",
          "text": [
            "Epoch 3440 | CVaR: 3.6900\n"
          ]
        },
        {
          "output_type": "stream",
          "name": "stderr",
          "text": [
            "Entraînement:  35%|███▍      | 3451/10000 [59:58<1:47:10,  1.02it/s]"
          ]
        },
        {
          "output_type": "stream",
          "name": "stdout",
          "text": [
            "Epoch 3450 | CVaR: 3.6874\n"
          ]
        },
        {
          "output_type": "stream",
          "name": "stderr",
          "text": [
            "Entraînement:  35%|███▍      | 3461/10000 [1:00:09<1:51:08,  1.02s/it]"
          ]
        },
        {
          "output_type": "stream",
          "name": "stdout",
          "text": [
            "Epoch 3460 | CVaR: 3.6404\n"
          ]
        },
        {
          "output_type": "stream",
          "name": "stderr",
          "text": [
            "Entraînement:  35%|███▍      | 3471/10000 [1:00:20<1:58:40,  1.09s/it]"
          ]
        },
        {
          "output_type": "stream",
          "name": "stdout",
          "text": [
            "Epoch 3470 | CVaR: 3.6581\n"
          ]
        },
        {
          "output_type": "stream",
          "name": "stderr",
          "text": [
            "Entraînement:  35%|███▍      | 3481/10000 [1:00:30<2:08:45,  1.19s/it]"
          ]
        },
        {
          "output_type": "stream",
          "name": "stdout",
          "text": [
            "Epoch 3480 | CVaR: 3.6897\n"
          ]
        },
        {
          "output_type": "stream",
          "name": "stderr",
          "text": [
            "Entraînement:  35%|███▍      | 3491/10000 [1:00:40<1:45:06,  1.03it/s]"
          ]
        },
        {
          "output_type": "stream",
          "name": "stdout",
          "text": [
            "Epoch 3490 | CVaR: 3.6514\n"
          ]
        },
        {
          "output_type": "stream",
          "name": "stderr",
          "text": [
            "Entraînement:  35%|███▌      | 3501/10000 [1:00:50<1:45:05,  1.03it/s]"
          ]
        },
        {
          "output_type": "stream",
          "name": "stdout",
          "text": [
            "Epoch 3500 | CVaR: 3.6536\n"
          ]
        },
        {
          "output_type": "stream",
          "name": "stderr",
          "text": [
            "Entraînement:  35%|███▌      | 3511/10000 [1:01:01<1:48:14,  1.00s/it]"
          ]
        },
        {
          "output_type": "stream",
          "name": "stdout",
          "text": [
            "Epoch 3510 | CVaR: 3.6430\n"
          ]
        },
        {
          "output_type": "stream",
          "name": "stderr",
          "text": [
            "Entraînement:  35%|███▌      | 3521/10000 [1:01:11<1:56:29,  1.08s/it]"
          ]
        },
        {
          "output_type": "stream",
          "name": "stdout",
          "text": [
            "Epoch 3520 | CVaR: 3.6227\n"
          ]
        },
        {
          "output_type": "stream",
          "name": "stderr",
          "text": [
            "Entraînement:  35%|███▌      | 3531/10000 [1:01:22<2:01:58,  1.13s/it]"
          ]
        },
        {
          "output_type": "stream",
          "name": "stdout",
          "text": [
            "Epoch 3530 | CVaR: 3.6473\n"
          ]
        },
        {
          "output_type": "stream",
          "name": "stderr",
          "text": [
            "Entraînement:  35%|███▌      | 3541/10000 [1:01:32<1:44:38,  1.03it/s]"
          ]
        },
        {
          "output_type": "stream",
          "name": "stdout",
          "text": [
            "Epoch 3540 | CVaR: 3.6346\n"
          ]
        },
        {
          "output_type": "stream",
          "name": "stderr",
          "text": [
            "Entraînement:  36%|███▌      | 3551/10000 [1:01:42<1:46:32,  1.01it/s]"
          ]
        },
        {
          "output_type": "stream",
          "name": "stdout",
          "text": [
            "Epoch 3550 | CVaR: 3.6477\n"
          ]
        },
        {
          "output_type": "stream",
          "name": "stderr",
          "text": [
            "Entraînement:  36%|███▌      | 3561/10000 [1:01:53<1:49:06,  1.02s/it]"
          ]
        },
        {
          "output_type": "stream",
          "name": "stdout",
          "text": [
            "Epoch 3560 | CVaR: 3.6236\n"
          ]
        },
        {
          "output_type": "stream",
          "name": "stderr",
          "text": [
            "Entraînement:  36%|███▌      | 3571/10000 [1:02:04<1:58:02,  1.10s/it]"
          ]
        },
        {
          "output_type": "stream",
          "name": "stdout",
          "text": [
            "Epoch 3570 | CVaR: 3.6407\n"
          ]
        },
        {
          "output_type": "stream",
          "name": "stderr",
          "text": [
            "Entraînement:  36%|███▌      | 3581/10000 [1:02:14<2:08:02,  1.20s/it]"
          ]
        },
        {
          "output_type": "stream",
          "name": "stdout",
          "text": [
            "Epoch 3580 | CVaR: 3.6306\n"
          ]
        },
        {
          "output_type": "stream",
          "name": "stderr",
          "text": [
            "Entraînement:  36%|███▌      | 3591/10000 [1:02:24<1:43:00,  1.04it/s]"
          ]
        },
        {
          "output_type": "stream",
          "name": "stdout",
          "text": [
            "Epoch 3590 | CVaR: 3.6584\n"
          ]
        },
        {
          "output_type": "stream",
          "name": "stderr",
          "text": [
            "Entraînement:  36%|███▌      | 3601/10000 [1:02:35<1:43:58,  1.03it/s]"
          ]
        },
        {
          "output_type": "stream",
          "name": "stdout",
          "text": [
            "Epoch 3600 | CVaR: 3.6646\n"
          ]
        },
        {
          "output_type": "stream",
          "name": "stderr",
          "text": [
            "Entraînement:  36%|███▌      | 3611/10000 [1:02:46<1:52:06,  1.05s/it]"
          ]
        },
        {
          "output_type": "stream",
          "name": "stdout",
          "text": [
            "Epoch 3610 | CVaR: 3.6313\n"
          ]
        },
        {
          "output_type": "stream",
          "name": "stderr",
          "text": [
            "Entraînement:  36%|███▌      | 3621/10000 [1:02:58<2:03:47,  1.16s/it]"
          ]
        },
        {
          "output_type": "stream",
          "name": "stdout",
          "text": [
            "Epoch 3620 | CVaR: 3.6434\n"
          ]
        },
        {
          "output_type": "stream",
          "name": "stderr",
          "text": [
            "Entraînement:  36%|███▋      | 3631/10000 [1:03:09<2:07:36,  1.20s/it]"
          ]
        },
        {
          "output_type": "stream",
          "name": "stdout",
          "text": [
            "Epoch 3630 | CVaR: 3.6200\n"
          ]
        },
        {
          "output_type": "stream",
          "name": "stderr",
          "text": [
            "Entraînement:  36%|███▋      | 3641/10000 [1:03:19<2:02:37,  1.16s/it]"
          ]
        },
        {
          "output_type": "stream",
          "name": "stdout",
          "text": [
            "Epoch 3640 | CVaR: 3.6278\n"
          ]
        },
        {
          "output_type": "stream",
          "name": "stderr",
          "text": [
            "Entraînement:  37%|███▋      | 3651/10000 [1:03:30<1:43:55,  1.02it/s]"
          ]
        },
        {
          "output_type": "stream",
          "name": "stdout",
          "text": [
            "Epoch 3650 | CVaR: 3.6521\n"
          ]
        },
        {
          "output_type": "stream",
          "name": "stderr",
          "text": [
            "Entraînement:  37%|███▋      | 3661/10000 [1:03:40<1:45:35,  1.00it/s]"
          ]
        },
        {
          "output_type": "stream",
          "name": "stdout",
          "text": [
            "Epoch 3660 | CVaR: 3.6423\n"
          ]
        },
        {
          "output_type": "stream",
          "name": "stderr",
          "text": [
            "Entraînement:  37%|███▋      | 3671/10000 [1:03:51<1:47:39,  1.02s/it]"
          ]
        },
        {
          "output_type": "stream",
          "name": "stdout",
          "text": [
            "Epoch 3670 | CVaR: 3.6388\n"
          ]
        },
        {
          "output_type": "stream",
          "name": "stderr",
          "text": [
            "Entraînement:  37%|███▋      | 3681/10000 [1:04:02<1:54:27,  1.09s/it]"
          ]
        },
        {
          "output_type": "stream",
          "name": "stdout",
          "text": [
            "Epoch 3680 | CVaR: 3.6259\n"
          ]
        },
        {
          "output_type": "stream",
          "name": "stderr",
          "text": [
            "Entraînement:  37%|███▋      | 3691/10000 [1:04:12<2:04:41,  1.19s/it]"
          ]
        },
        {
          "output_type": "stream",
          "name": "stdout",
          "text": [
            "Epoch 3690 | CVaR: 3.6762\n"
          ]
        },
        {
          "output_type": "stream",
          "name": "stderr",
          "text": [
            "Entraînement:  37%|███▋      | 3701/10000 [1:04:22<1:41:46,  1.03it/s]"
          ]
        },
        {
          "output_type": "stream",
          "name": "stdout",
          "text": [
            "Epoch 3700 | CVaR: 3.6539\n"
          ]
        },
        {
          "output_type": "stream",
          "name": "stderr",
          "text": [
            "Entraînement:  37%|███▋      | 3711/10000 [1:04:33<1:44:10,  1.01it/s]"
          ]
        },
        {
          "output_type": "stream",
          "name": "stdout",
          "text": [
            "Epoch 3710 | CVaR: 3.6352\n"
          ]
        },
        {
          "output_type": "stream",
          "name": "stderr",
          "text": [
            "Entraînement:  37%|███▋      | 3721/10000 [1:04:44<1:46:02,  1.01s/it]"
          ]
        },
        {
          "output_type": "stream",
          "name": "stdout",
          "text": [
            "Epoch 3720 | CVaR: 3.6637\n"
          ]
        },
        {
          "output_type": "stream",
          "name": "stderr",
          "text": [
            "Entraînement:  37%|███▋      | 3731/10000 [1:04:54<1:53:31,  1.09s/it]"
          ]
        },
        {
          "output_type": "stream",
          "name": "stdout",
          "text": [
            "Epoch 3730 | CVaR: 3.6432\n"
          ]
        },
        {
          "output_type": "stream",
          "name": "stderr",
          "text": [
            "Entraînement:  37%|███▋      | 3741/10000 [1:05:05<2:08:02,  1.23s/it]"
          ]
        },
        {
          "output_type": "stream",
          "name": "stdout",
          "text": [
            "Epoch 3740 | CVaR: 3.6463\n"
          ]
        },
        {
          "output_type": "stream",
          "name": "stderr",
          "text": [
            "Entraînement:  38%|███▊      | 3751/10000 [1:05:15<1:39:58,  1.04it/s]"
          ]
        },
        {
          "output_type": "stream",
          "name": "stdout",
          "text": [
            "Epoch 3750 | CVaR: 3.6671\n"
          ]
        },
        {
          "output_type": "stream",
          "name": "stderr",
          "text": [
            "Entraînement:  38%|███▊      | 3761/10000 [1:05:25<1:41:05,  1.03it/s]"
          ]
        },
        {
          "output_type": "stream",
          "name": "stdout",
          "text": [
            "Epoch 3760 | CVaR: 3.6649\n"
          ]
        },
        {
          "output_type": "stream",
          "name": "stderr",
          "text": [
            "Entraînement:  38%|███▊      | 3771/10000 [1:05:36<1:43:30,  1.00it/s]"
          ]
        },
        {
          "output_type": "stream",
          "name": "stdout",
          "text": [
            "Epoch 3770 | CVaR: 3.6225\n"
          ]
        },
        {
          "output_type": "stream",
          "name": "stderr",
          "text": [
            "Entraînement:  38%|███▊      | 3781/10000 [1:05:46<1:51:47,  1.08s/it]"
          ]
        },
        {
          "output_type": "stream",
          "name": "stdout",
          "text": [
            "Epoch 3780 | CVaR: 3.6581\n"
          ]
        },
        {
          "output_type": "stream",
          "name": "stderr",
          "text": [
            "Entraînement:  38%|███▊      | 3791/10000 [1:05:57<2:04:01,  1.20s/it]"
          ]
        },
        {
          "output_type": "stream",
          "name": "stdout",
          "text": [
            "Epoch 3790 | CVaR: 3.6493\n"
          ]
        },
        {
          "output_type": "stream",
          "name": "stderr",
          "text": [
            "Entraînement:  38%|███▊      | 3801/10000 [1:06:07<1:41:24,  1.02it/s]"
          ]
        },
        {
          "output_type": "stream",
          "name": "stdout",
          "text": [
            "Epoch 3800 | CVaR: 3.6211\n"
          ]
        },
        {
          "output_type": "stream",
          "name": "stderr",
          "text": [
            "Entraînement:  38%|███▊      | 3811/10000 [1:06:17<1:40:30,  1.03it/s]"
          ]
        },
        {
          "output_type": "stream",
          "name": "stdout",
          "text": [
            "Epoch 3810 | CVaR: 3.6437\n"
          ]
        },
        {
          "output_type": "stream",
          "name": "stderr",
          "text": [
            "Entraînement:  38%|███▊      | 3821/10000 [1:06:28<1:42:47,  1.00it/s]"
          ]
        },
        {
          "output_type": "stream",
          "name": "stdout",
          "text": [
            "Epoch 3820 | CVaR: 3.6745\n"
          ]
        },
        {
          "output_type": "stream",
          "name": "stderr",
          "text": [
            "Entraînement:  38%|███▊      | 3831/10000 [1:06:39<1:48:54,  1.06s/it]"
          ]
        },
        {
          "output_type": "stream",
          "name": "stdout",
          "text": [
            "Epoch 3830 | CVaR: 3.6408\n"
          ]
        },
        {
          "output_type": "stream",
          "name": "stderr",
          "text": [
            "Entraînement:  38%|███▊      | 3841/10000 [1:06:49<2:02:09,  1.19s/it]"
          ]
        },
        {
          "output_type": "stream",
          "name": "stdout",
          "text": [
            "Epoch 3840 | CVaR: 3.6272\n"
          ]
        },
        {
          "output_type": "stream",
          "name": "stderr",
          "text": [
            "Entraînement:  39%|███▊      | 3851/10000 [1:06:59<1:45:18,  1.03s/it]"
          ]
        },
        {
          "output_type": "stream",
          "name": "stdout",
          "text": [
            "Epoch 3850 | CVaR: 3.6910\n"
          ]
        },
        {
          "output_type": "stream",
          "name": "stderr",
          "text": [
            "Entraînement:  39%|███▊      | 3861/10000 [1:07:10<1:43:28,  1.01s/it]"
          ]
        },
        {
          "output_type": "stream",
          "name": "stdout",
          "text": [
            "Epoch 3860 | CVaR: 3.6443\n"
          ]
        },
        {
          "output_type": "stream",
          "name": "stderr",
          "text": [
            "Entraînement:  39%|███▊      | 3871/10000 [1:07:21<1:45:05,  1.03s/it]"
          ]
        },
        {
          "output_type": "stream",
          "name": "stdout",
          "text": [
            "Epoch 3870 | CVaR: 3.6492\n"
          ]
        },
        {
          "output_type": "stream",
          "name": "stderr",
          "text": [
            "Entraînement:  39%|███▉      | 3881/10000 [1:07:32<1:47:17,  1.05s/it]"
          ]
        },
        {
          "output_type": "stream",
          "name": "stdout",
          "text": [
            "Epoch 3880 | CVaR: 3.6700\n"
          ]
        },
        {
          "output_type": "stream",
          "name": "stderr",
          "text": [
            "Entraînement:  39%|███▉      | 3891/10000 [1:07:43<1:54:14,  1.12s/it]"
          ]
        },
        {
          "output_type": "stream",
          "name": "stdout",
          "text": [
            "Epoch 3890 | CVaR: 3.6443\n"
          ]
        },
        {
          "output_type": "stream",
          "name": "stderr",
          "text": [
            "Entraînement:  39%|███▉      | 3901/10000 [1:07:53<1:54:42,  1.13s/it]"
          ]
        },
        {
          "output_type": "stream",
          "name": "stdout",
          "text": [
            "Epoch 3900 | CVaR: 3.6794\n"
          ]
        },
        {
          "output_type": "stream",
          "name": "stderr",
          "text": [
            "Entraînement:  39%|███▉      | 3911/10000 [1:08:03<1:37:59,  1.04it/s]"
          ]
        },
        {
          "output_type": "stream",
          "name": "stdout",
          "text": [
            "Epoch 3910 | CVaR: 3.6362\n"
          ]
        },
        {
          "output_type": "stream",
          "name": "stderr",
          "text": [
            "Entraînement:  39%|███▉      | 3921/10000 [1:08:14<1:39:48,  1.02it/s]"
          ]
        },
        {
          "output_type": "stream",
          "name": "stdout",
          "text": [
            "Epoch 3920 | CVaR: 3.6290\n"
          ]
        },
        {
          "output_type": "stream",
          "name": "stderr",
          "text": [
            "Entraînement:  39%|███▉      | 3931/10000 [1:08:24<1:44:50,  1.04s/it]"
          ]
        },
        {
          "output_type": "stream",
          "name": "stdout",
          "text": [
            "Epoch 3930 | CVaR: 3.6202\n"
          ]
        },
        {
          "output_type": "stream",
          "name": "stderr",
          "text": [
            "Entraînement:  39%|███▉      | 3941/10000 [1:08:35<1:52:42,  1.12s/it]"
          ]
        },
        {
          "output_type": "stream",
          "name": "stdout",
          "text": [
            "Epoch 3940 | CVaR: 3.6377\n"
          ]
        },
        {
          "output_type": "stream",
          "name": "stderr",
          "text": [
            "Entraînement:  40%|███▉      | 3951/10000 [1:08:45<1:54:46,  1.14s/it]"
          ]
        },
        {
          "output_type": "stream",
          "name": "stdout",
          "text": [
            "Epoch 3950 | CVaR: 3.6572\n"
          ]
        },
        {
          "output_type": "stream",
          "name": "stderr",
          "text": [
            "Entraînement:  40%|███▉      | 3961/10000 [1:08:56<1:38:25,  1.02it/s]"
          ]
        },
        {
          "output_type": "stream",
          "name": "stdout",
          "text": [
            "Epoch 3960 | CVaR: 3.6207\n"
          ]
        },
        {
          "output_type": "stream",
          "name": "stderr",
          "text": [
            "Entraînement:  40%|███▉      | 3971/10000 [1:09:06<1:39:30,  1.01it/s]"
          ]
        },
        {
          "output_type": "stream",
          "name": "stdout",
          "text": [
            "Epoch 3970 | CVaR: 3.6515\n"
          ]
        },
        {
          "output_type": "stream",
          "name": "stderr",
          "text": [
            "Entraînement:  40%|███▉      | 3981/10000 [1:09:17<1:42:08,  1.02s/it]"
          ]
        },
        {
          "output_type": "stream",
          "name": "stdout",
          "text": [
            "Epoch 3980 | CVaR: 3.6852\n"
          ]
        },
        {
          "output_type": "stream",
          "name": "stderr",
          "text": [
            "Entraînement:  40%|███▉      | 3991/10000 [1:09:27<1:50:07,  1.10s/it]"
          ]
        },
        {
          "output_type": "stream",
          "name": "stdout",
          "text": [
            "Epoch 3990 | CVaR: 3.6355\n"
          ]
        },
        {
          "output_type": "stream",
          "name": "stderr",
          "text": [
            "Entraînement:  40%|████      | 4001/10000 [1:09:38<1:56:41,  1.17s/it]"
          ]
        },
        {
          "output_type": "stream",
          "name": "stdout",
          "text": [
            "Epoch 4000 | CVaR: 3.6364\n"
          ]
        },
        {
          "output_type": "stream",
          "name": "stderr",
          "text": [
            "Entraînement:  40%|████      | 4011/10000 [1:09:48<1:36:21,  1.04it/s]"
          ]
        },
        {
          "output_type": "stream",
          "name": "stdout",
          "text": [
            "Epoch 4010 | CVaR: 3.6217\n"
          ]
        },
        {
          "output_type": "stream",
          "name": "stderr",
          "text": [
            "Entraînement:  40%|████      | 4021/10000 [1:09:58<1:37:56,  1.02it/s]"
          ]
        },
        {
          "output_type": "stream",
          "name": "stdout",
          "text": [
            "Epoch 4020 | CVaR: 3.6396\n"
          ]
        },
        {
          "output_type": "stream",
          "name": "stderr",
          "text": [
            "Entraînement:  40%|████      | 4031/10000 [1:10:09<1:41:48,  1.02s/it]"
          ]
        },
        {
          "output_type": "stream",
          "name": "stdout",
          "text": [
            "Epoch 4030 | CVaR: 3.6317\n"
          ]
        },
        {
          "output_type": "stream",
          "name": "stderr",
          "text": [
            "Entraînement:  40%|████      | 4041/10000 [1:10:20<1:48:26,  1.09s/it]"
          ]
        },
        {
          "output_type": "stream",
          "name": "stdout",
          "text": [
            "Epoch 4040 | CVaR: 3.6510\n"
          ]
        },
        {
          "output_type": "stream",
          "name": "stderr",
          "text": [
            "Entraînement:  41%|████      | 4051/10000 [1:10:30<1:53:16,  1.14s/it]"
          ]
        },
        {
          "output_type": "stream",
          "name": "stdout",
          "text": [
            "Epoch 4050 | CVaR: 3.6472\n"
          ]
        },
        {
          "output_type": "stream",
          "name": "stderr",
          "text": [
            "Entraînement:  41%|████      | 4061/10000 [1:10:40<1:36:29,  1.03it/s]"
          ]
        },
        {
          "output_type": "stream",
          "name": "stdout",
          "text": [
            "Epoch 4060 | CVaR: 3.6528\n"
          ]
        },
        {
          "output_type": "stream",
          "name": "stderr",
          "text": [
            "Entraînement:  41%|████      | 4071/10000 [1:10:51<1:37:54,  1.01it/s]"
          ]
        },
        {
          "output_type": "stream",
          "name": "stdout",
          "text": [
            "Epoch 4070 | CVaR: 3.6677\n"
          ]
        },
        {
          "output_type": "stream",
          "name": "stderr",
          "text": [
            "Entraînement:  41%|████      | 4081/10000 [1:11:01<1:41:40,  1.03s/it]"
          ]
        },
        {
          "output_type": "stream",
          "name": "stdout",
          "text": [
            "Epoch 4080 | CVaR: 3.6503\n"
          ]
        },
        {
          "output_type": "stream",
          "name": "stderr",
          "text": [
            "Entraînement:  41%|████      | 4091/10000 [1:11:12<1:48:03,  1.10s/it]"
          ]
        },
        {
          "output_type": "stream",
          "name": "stdout",
          "text": [
            "Epoch 4090 | CVaR: 3.6389\n"
          ]
        },
        {
          "output_type": "stream",
          "name": "stderr",
          "text": [
            "Entraînement:  41%|████      | 4101/10000 [1:11:22<1:53:04,  1.15s/it]"
          ]
        },
        {
          "output_type": "stream",
          "name": "stdout",
          "text": [
            "Epoch 4100 | CVaR: 3.6511\n"
          ]
        },
        {
          "output_type": "stream",
          "name": "stderr",
          "text": [
            "Entraînement:  41%|████      | 4111/10000 [1:11:32<1:34:37,  1.04it/s]"
          ]
        },
        {
          "output_type": "stream",
          "name": "stdout",
          "text": [
            "Epoch 4110 | CVaR: 3.6443\n"
          ]
        },
        {
          "output_type": "stream",
          "name": "stderr",
          "text": [
            "Entraînement:  41%|████      | 4121/10000 [1:11:43<1:35:55,  1.02it/s]"
          ]
        },
        {
          "output_type": "stream",
          "name": "stdout",
          "text": [
            "Epoch 4120 | CVaR: 3.6280\n"
          ]
        },
        {
          "output_type": "stream",
          "name": "stderr",
          "text": [
            "Entraînement:  41%|████▏     | 4131/10000 [1:11:54<1:39:37,  1.02s/it]"
          ]
        },
        {
          "output_type": "stream",
          "name": "stdout",
          "text": [
            "Epoch 4130 | CVaR: 3.6200\n"
          ]
        },
        {
          "output_type": "stream",
          "name": "stderr",
          "text": [
            "Entraînement:  41%|████▏     | 4141/10000 [1:12:04<1:46:58,  1.10s/it]"
          ]
        },
        {
          "output_type": "stream",
          "name": "stdout",
          "text": [
            "Epoch 4140 | CVaR: 3.6263\n"
          ]
        },
        {
          "output_type": "stream",
          "name": "stderr",
          "text": [
            "Entraînement:  42%|████▏     | 4151/10000 [1:12:15<1:54:17,  1.17s/it]"
          ]
        },
        {
          "output_type": "stream",
          "name": "stdout",
          "text": [
            "Epoch 4150 | CVaR: 3.6217\n"
          ]
        },
        {
          "output_type": "stream",
          "name": "stderr",
          "text": [
            "Entraînement:  42%|████▏     | 4161/10000 [1:12:24<1:34:03,  1.03it/s]"
          ]
        },
        {
          "output_type": "stream",
          "name": "stdout",
          "text": [
            "Epoch 4160 | CVaR: 3.6201\n"
          ]
        },
        {
          "output_type": "stream",
          "name": "stderr",
          "text": [
            "Entraînement:  42%|████▏     | 4171/10000 [1:12:35<1:35:46,  1.01it/s]"
          ]
        },
        {
          "output_type": "stream",
          "name": "stdout",
          "text": [
            "Epoch 4170 | CVaR: 3.6105\n"
          ]
        },
        {
          "output_type": "stream",
          "name": "stderr",
          "text": [
            "Entraînement:  42%|████▏     | 4181/10000 [1:12:46<1:38:07,  1.01s/it]"
          ]
        },
        {
          "output_type": "stream",
          "name": "stdout",
          "text": [
            "Epoch 4180 | CVaR: 3.6448\n"
          ]
        },
        {
          "output_type": "stream",
          "name": "stderr",
          "text": [
            "Entraînement:  42%|████▏     | 4191/10000 [1:12:56<1:46:29,  1.10s/it]"
          ]
        },
        {
          "output_type": "stream",
          "name": "stdout",
          "text": [
            "Epoch 4190 | CVaR: 3.6514\n"
          ]
        },
        {
          "output_type": "stream",
          "name": "stderr",
          "text": [
            "Entraînement:  42%|████▏     | 4201/10000 [1:13:07<1:55:04,  1.19s/it]"
          ]
        },
        {
          "output_type": "stream",
          "name": "stdout",
          "text": [
            "Epoch 4200 | CVaR: 3.6673\n"
          ]
        },
        {
          "output_type": "stream",
          "name": "stderr",
          "text": [
            "Entraînement:  42%|████▏     | 4211/10000 [1:13:17<1:34:52,  1.02it/s]"
          ]
        },
        {
          "output_type": "stream",
          "name": "stdout",
          "text": [
            "Epoch 4210 | CVaR: 3.6407\n"
          ]
        },
        {
          "output_type": "stream",
          "name": "stderr",
          "text": [
            "Entraînement:  42%|████▏     | 4221/10000 [1:13:28<1:36:21,  1.00s/it]"
          ]
        },
        {
          "output_type": "stream",
          "name": "stdout",
          "text": [
            "Epoch 4220 | CVaR: 3.6713\n"
          ]
        },
        {
          "output_type": "stream",
          "name": "stderr",
          "text": [
            "Entraînement:  42%|████▏     | 4231/10000 [1:13:39<1:39:04,  1.03s/it]"
          ]
        },
        {
          "output_type": "stream",
          "name": "stdout",
          "text": [
            "Epoch 4230 | CVaR: 3.6355\n"
          ]
        },
        {
          "output_type": "stream",
          "name": "stderr",
          "text": [
            "Entraînement:  42%|████▏     | 4241/10000 [1:13:50<1:44:59,  1.09s/it]"
          ]
        },
        {
          "output_type": "stream",
          "name": "stdout",
          "text": [
            "Epoch 4240 | CVaR: 3.6277\n"
          ]
        },
        {
          "output_type": "stream",
          "name": "stderr",
          "text": [
            "Entraînement:  43%|████▎     | 4251/10000 [1:14:00<1:55:58,  1.21s/it]"
          ]
        },
        {
          "output_type": "stream",
          "name": "stdout",
          "text": [
            "Epoch 4250 | CVaR: 3.6235\n"
          ]
        },
        {
          "output_type": "stream",
          "name": "stderr",
          "text": [
            "Entraînement:  43%|████▎     | 4261/10000 [1:14:10<1:35:21,  1.00it/s]"
          ]
        },
        {
          "output_type": "stream",
          "name": "stdout",
          "text": [
            "Epoch 4260 | CVaR: 3.6438\n"
          ]
        },
        {
          "output_type": "stream",
          "name": "stderr",
          "text": [
            "Entraînement:  43%|████▎     | 4271/10000 [1:14:21<1:35:04,  1.00it/s]"
          ]
        },
        {
          "output_type": "stream",
          "name": "stdout",
          "text": [
            "Epoch 4270 | CVaR: 3.6508\n"
          ]
        },
        {
          "output_type": "stream",
          "name": "stderr",
          "text": [
            "Entraînement:  43%|████▎     | 4281/10000 [1:14:32<1:34:51,  1.00it/s]"
          ]
        },
        {
          "output_type": "stream",
          "name": "stdout",
          "text": [
            "Epoch 4280 | CVaR: 3.6591\n"
          ]
        },
        {
          "output_type": "stream",
          "name": "stderr",
          "text": [
            "Entraînement:  43%|████▎     | 4291/10000 [1:14:42<1:38:28,  1.03s/it]"
          ]
        },
        {
          "output_type": "stream",
          "name": "stdout",
          "text": [
            "Epoch 4290 | CVaR: 3.6416\n"
          ]
        },
        {
          "output_type": "stream",
          "name": "stderr",
          "text": [
            "Entraînement:  43%|████▎     | 4301/10000 [1:14:53<1:52:19,  1.18s/it]"
          ]
        },
        {
          "output_type": "stream",
          "name": "stdout",
          "text": [
            "Epoch 4300 | CVaR: 3.6661\n"
          ]
        },
        {
          "output_type": "stream",
          "name": "stderr",
          "text": [
            "Entraînement:  43%|████▎     | 4311/10000 [1:15:03<1:33:23,  1.02it/s]"
          ]
        },
        {
          "output_type": "stream",
          "name": "stdout",
          "text": [
            "Epoch 4310 | CVaR: 3.6216\n"
          ]
        },
        {
          "output_type": "stream",
          "name": "stderr",
          "text": [
            "Entraînement:  43%|████▎     | 4321/10000 [1:15:13<1:32:20,  1.02it/s]"
          ]
        },
        {
          "output_type": "stream",
          "name": "stdout",
          "text": [
            "Epoch 4320 | CVaR: 3.6217\n"
          ]
        },
        {
          "output_type": "stream",
          "name": "stderr",
          "text": [
            "Entraînement:  43%|████▎     | 4331/10000 [1:15:24<1:34:27,  1.00it/s]"
          ]
        },
        {
          "output_type": "stream",
          "name": "stdout",
          "text": [
            "Epoch 4330 | CVaR: 3.6517\n"
          ]
        },
        {
          "output_type": "stream",
          "name": "stderr",
          "text": [
            "Entraînement:  43%|████▎     | 4341/10000 [1:15:34<1:39:23,  1.05s/it]"
          ]
        },
        {
          "output_type": "stream",
          "name": "stdout",
          "text": [
            "Epoch 4340 | CVaR: 3.6352\n"
          ]
        },
        {
          "output_type": "stream",
          "name": "stderr",
          "text": [
            "Entraînement:  44%|████▎     | 4351/10000 [1:15:45<1:51:12,  1.18s/it]"
          ]
        },
        {
          "output_type": "stream",
          "name": "stdout",
          "text": [
            "Epoch 4350 | CVaR: 3.6285\n"
          ]
        },
        {
          "output_type": "stream",
          "name": "stderr",
          "text": [
            "Entraînement:  44%|████▎     | 4361/10000 [1:15:55<1:31:43,  1.02it/s]"
          ]
        },
        {
          "output_type": "stream",
          "name": "stdout",
          "text": [
            "Epoch 4360 | CVaR: 3.6330\n"
          ]
        },
        {
          "output_type": "stream",
          "name": "stderr",
          "text": [
            "Entraînement:  44%|████▎     | 4371/10000 [1:16:05<1:31:49,  1.02it/s]"
          ]
        },
        {
          "output_type": "stream",
          "name": "stdout",
          "text": [
            "Epoch 4370 | CVaR: 3.6557\n"
          ]
        },
        {
          "output_type": "stream",
          "name": "stderr",
          "text": [
            "Entraînement:  44%|████▍     | 4381/10000 [1:16:16<1:32:45,  1.01it/s]"
          ]
        },
        {
          "output_type": "stream",
          "name": "stdout",
          "text": [
            "Epoch 4380 | CVaR: 3.7120\n"
          ]
        },
        {
          "output_type": "stream",
          "name": "stderr",
          "text": [
            "Entraînement:  44%|████▍     | 4391/10000 [1:16:26<1:37:55,  1.05s/it]"
          ]
        },
        {
          "output_type": "stream",
          "name": "stdout",
          "text": [
            "Epoch 4390 | CVaR: 3.6511\n"
          ]
        },
        {
          "output_type": "stream",
          "name": "stderr",
          "text": [
            "Entraînement:  44%|████▍     | 4401/10000 [1:16:37<1:51:38,  1.20s/it]"
          ]
        },
        {
          "output_type": "stream",
          "name": "stdout",
          "text": [
            "Epoch 4400 | CVaR: 3.6254\n"
          ]
        },
        {
          "output_type": "stream",
          "name": "stderr",
          "text": [
            "Entraînement:  44%|████▍     | 4411/10000 [1:16:47<1:31:21,  1.02it/s]"
          ]
        },
        {
          "output_type": "stream",
          "name": "stdout",
          "text": [
            "Epoch 4410 | CVaR: 3.6266\n"
          ]
        },
        {
          "output_type": "stream",
          "name": "stderr",
          "text": [
            "Entraînement:  44%|████▍     | 4421/10000 [1:16:57<1:30:54,  1.02it/s]"
          ]
        },
        {
          "output_type": "stream",
          "name": "stdout",
          "text": [
            "Epoch 4420 | CVaR: 3.6388\n"
          ]
        },
        {
          "output_type": "stream",
          "name": "stderr",
          "text": [
            "Entraînement:  44%|████▍     | 4431/10000 [1:17:08<1:32:49,  1.00s/it]"
          ]
        },
        {
          "output_type": "stream",
          "name": "stdout",
          "text": [
            "Epoch 4430 | CVaR: 3.6420\n"
          ]
        },
        {
          "output_type": "stream",
          "name": "stderr",
          "text": [
            "Entraînement:  44%|████▍     | 4441/10000 [1:17:19<1:37:00,  1.05s/it]"
          ]
        },
        {
          "output_type": "stream",
          "name": "stdout",
          "text": [
            "Epoch 4440 | CVaR: 3.6246\n"
          ]
        },
        {
          "output_type": "stream",
          "name": "stderr",
          "text": [
            "Entraînement:  45%|████▍     | 4451/10000 [1:17:29<1:51:06,  1.20s/it]"
          ]
        },
        {
          "output_type": "stream",
          "name": "stdout",
          "text": [
            "Epoch 4450 | CVaR: 3.6614\n"
          ]
        },
        {
          "output_type": "stream",
          "name": "stderr",
          "text": [
            "Entraînement:  45%|████▍     | 4461/10000 [1:17:39<1:29:23,  1.03it/s]"
          ]
        },
        {
          "output_type": "stream",
          "name": "stdout",
          "text": [
            "Epoch 4460 | CVaR: 3.6416\n"
          ]
        },
        {
          "output_type": "stream",
          "name": "stderr",
          "text": [
            "Entraînement:  45%|████▍     | 4471/10000 [1:17:49<1:29:50,  1.03it/s]"
          ]
        },
        {
          "output_type": "stream",
          "name": "stdout",
          "text": [
            "Epoch 4470 | CVaR: 3.6494\n"
          ]
        },
        {
          "output_type": "stream",
          "name": "stderr",
          "text": [
            "Entraînement:  45%|████▍     | 4481/10000 [1:18:00<1:31:51,  1.00it/s]"
          ]
        },
        {
          "output_type": "stream",
          "name": "stdout",
          "text": [
            "Epoch 4480 | CVaR: 3.6301\n"
          ]
        },
        {
          "output_type": "stream",
          "name": "stderr",
          "text": [
            "Entraînement:  45%|████▍     | 4491/10000 [1:18:11<1:39:00,  1.08s/it]"
          ]
        },
        {
          "output_type": "stream",
          "name": "stdout",
          "text": [
            "Epoch 4490 | CVaR: 3.6694\n"
          ]
        },
        {
          "output_type": "stream",
          "name": "stderr",
          "text": [
            "Entraînement:  45%|████▌     | 4501/10000 [1:18:21<1:51:15,  1.21s/it]"
          ]
        },
        {
          "output_type": "stream",
          "name": "stdout",
          "text": [
            "Epoch 4500 | CVaR: 3.6358\n"
          ]
        },
        {
          "output_type": "stream",
          "name": "stderr",
          "text": [
            "Entraînement:  45%|████▌     | 4511/10000 [1:18:31<1:28:19,  1.04it/s]"
          ]
        },
        {
          "output_type": "stream",
          "name": "stdout",
          "text": [
            "Epoch 4510 | CVaR: 3.6378\n"
          ]
        },
        {
          "output_type": "stream",
          "name": "stderr",
          "text": [
            "Entraînement:  45%|████▌     | 4521/10000 [1:18:41<1:28:24,  1.03it/s]"
          ]
        },
        {
          "output_type": "stream",
          "name": "stdout",
          "text": [
            "Epoch 4520 | CVaR: 3.6672\n"
          ]
        },
        {
          "output_type": "stream",
          "name": "stderr",
          "text": [
            "Entraînement:  45%|████▌     | 4531/10000 [1:18:52<1:30:57,  1.00it/s]"
          ]
        },
        {
          "output_type": "stream",
          "name": "stdout",
          "text": [
            "Epoch 4530 | CVaR: 3.6538\n"
          ]
        },
        {
          "output_type": "stream",
          "name": "stderr",
          "text": [
            "Entraînement:  45%|████▌     | 4541/10000 [1:19:03<1:37:18,  1.07s/it]"
          ]
        },
        {
          "output_type": "stream",
          "name": "stdout",
          "text": [
            "Epoch 4540 | CVaR: 3.6321\n"
          ]
        },
        {
          "output_type": "stream",
          "name": "stderr",
          "text": [
            "Entraînement:  46%|████▌     | 4551/10000 [1:19:13<1:50:05,  1.21s/it]"
          ]
        },
        {
          "output_type": "stream",
          "name": "stdout",
          "text": [
            "Epoch 4550 | CVaR: 3.6410\n"
          ]
        },
        {
          "output_type": "stream",
          "name": "stderr",
          "text": [
            "Entraînement:  46%|████▌     | 4561/10000 [1:19:23<1:27:33,  1.04it/s]"
          ]
        },
        {
          "output_type": "stream",
          "name": "stdout",
          "text": [
            "Epoch 4560 | CVaR: 3.6135\n"
          ]
        },
        {
          "output_type": "stream",
          "name": "stderr",
          "text": [
            "Entraînement:  46%|████▌     | 4571/10000 [1:19:34<1:29:32,  1.01it/s]"
          ]
        },
        {
          "output_type": "stream",
          "name": "stdout",
          "text": [
            "Epoch 4570 | CVaR: 3.6483\n"
          ]
        },
        {
          "output_type": "stream",
          "name": "stderr",
          "text": [
            "Entraînement:  46%|████▌     | 4581/10000 [1:19:44<1:30:13,  1.00it/s]"
          ]
        },
        {
          "output_type": "stream",
          "name": "stdout",
          "text": [
            "Epoch 4580 | CVaR: 3.6196\n"
          ]
        },
        {
          "output_type": "stream",
          "name": "stderr",
          "text": [
            "Entraînement:  46%|████▌     | 4591/10000 [1:19:55<1:36:29,  1.07s/it]"
          ]
        },
        {
          "output_type": "stream",
          "name": "stdout",
          "text": [
            "Epoch 4590 | CVaR: 3.6351\n"
          ]
        },
        {
          "output_type": "stream",
          "name": "stderr",
          "text": [
            "Entraînement:  46%|████▌     | 4601/10000 [1:20:05<1:49:46,  1.22s/it]"
          ]
        },
        {
          "output_type": "stream",
          "name": "stdout",
          "text": [
            "Epoch 4600 | CVaR: 3.6523\n"
          ]
        },
        {
          "output_type": "stream",
          "name": "stderr",
          "text": [
            "Entraînement:  46%|████▌     | 4611/10000 [1:20:15<1:25:56,  1.05it/s]"
          ]
        },
        {
          "output_type": "stream",
          "name": "stdout",
          "text": [
            "Epoch 4610 | CVaR: 3.6226\n"
          ]
        },
        {
          "output_type": "stream",
          "name": "stderr",
          "text": [
            "Entraînement:  46%|████▌     | 4621/10000 [1:20:26<1:27:25,  1.03it/s]"
          ]
        },
        {
          "output_type": "stream",
          "name": "stdout",
          "text": [
            "Epoch 4620 | CVaR: 3.6412\n"
          ]
        },
        {
          "output_type": "stream",
          "name": "stderr",
          "text": [
            "Entraînement:  46%|████▋     | 4631/10000 [1:20:36<1:29:55,  1.00s/it]"
          ]
        },
        {
          "output_type": "stream",
          "name": "stdout",
          "text": [
            "Epoch 4630 | CVaR: 3.6268\n"
          ]
        },
        {
          "output_type": "stream",
          "name": "stderr",
          "text": [
            "Entraînement:  46%|████▋     | 4641/10000 [1:20:47<1:35:33,  1.07s/it]"
          ]
        },
        {
          "output_type": "stream",
          "name": "stdout",
          "text": [
            "Epoch 4640 | CVaR: 3.6480\n"
          ]
        },
        {
          "output_type": "stream",
          "name": "stderr",
          "text": [
            "Entraînement:  47%|████▋     | 4651/10000 [1:20:57<1:47:25,  1.21s/it]"
          ]
        },
        {
          "output_type": "stream",
          "name": "stdout",
          "text": [
            "Epoch 4650 | CVaR: 3.6440\n"
          ]
        },
        {
          "output_type": "stream",
          "name": "stderr",
          "text": [
            "Entraînement:  47%|████▋     | 4661/10000 [1:21:07<1:27:33,  1.02it/s]"
          ]
        },
        {
          "output_type": "stream",
          "name": "stdout",
          "text": [
            "Epoch 4660 | CVaR: 3.6355\n"
          ]
        },
        {
          "output_type": "stream",
          "name": "stderr",
          "text": [
            "Entraînement:  47%|████▋     | 4671/10000 [1:21:18<1:26:54,  1.02it/s]"
          ]
        },
        {
          "output_type": "stream",
          "name": "stdout",
          "text": [
            "Epoch 4670 | CVaR: 3.6391\n"
          ]
        },
        {
          "output_type": "stream",
          "name": "stderr",
          "text": [
            "Entraînement:  47%|████▋     | 4681/10000 [1:21:29<1:28:39,  1.00s/it]"
          ]
        },
        {
          "output_type": "stream",
          "name": "stdout",
          "text": [
            "Epoch 4680 | CVaR: 3.6477\n"
          ]
        },
        {
          "output_type": "stream",
          "name": "stderr",
          "text": [
            "Entraînement:  47%|████▋     | 4691/10000 [1:21:39<1:34:35,  1.07s/it]"
          ]
        },
        {
          "output_type": "stream",
          "name": "stdout",
          "text": [
            "Epoch 4690 | CVaR: 3.6397\n"
          ]
        },
        {
          "output_type": "stream",
          "name": "stderr",
          "text": [
            "Entraînement:  47%|████▋     | 4701/10000 [1:21:50<1:47:18,  1.22s/it]"
          ]
        },
        {
          "output_type": "stream",
          "name": "stdout",
          "text": [
            "Epoch 4700 | CVaR: 3.6909\n"
          ]
        },
        {
          "output_type": "stream",
          "name": "stderr",
          "text": [
            "Entraînement:  47%|████▋     | 4711/10000 [1:21:59<1:24:32,  1.04it/s]"
          ]
        },
        {
          "output_type": "stream",
          "name": "stdout",
          "text": [
            "Epoch 4710 | CVaR: 3.6374\n"
          ]
        },
        {
          "output_type": "stream",
          "name": "stderr",
          "text": [
            "Entraînement:  47%|████▋     | 4721/10000 [1:22:10<1:26:46,  1.01it/s]"
          ]
        },
        {
          "output_type": "stream",
          "name": "stdout",
          "text": [
            "Epoch 4720 | CVaR: 3.6800\n"
          ]
        },
        {
          "output_type": "stream",
          "name": "stderr",
          "text": [
            "Entraînement:  47%|████▋     | 4731/10000 [1:22:21<1:27:50,  1.00s/it]"
          ]
        },
        {
          "output_type": "stream",
          "name": "stdout",
          "text": [
            "Epoch 4730 | CVaR: 3.6270\n"
          ]
        },
        {
          "output_type": "stream",
          "name": "stderr",
          "text": [
            "Entraînement:  47%|████▋     | 4741/10000 [1:22:31<1:34:14,  1.08s/it]"
          ]
        },
        {
          "output_type": "stream",
          "name": "stdout",
          "text": [
            "Epoch 4740 | CVaR: 3.6323\n"
          ]
        },
        {
          "output_type": "stream",
          "name": "stderr",
          "text": [
            "Entraînement:  48%|████▊     | 4751/10000 [1:22:42<1:46:00,  1.21s/it]"
          ]
        },
        {
          "output_type": "stream",
          "name": "stdout",
          "text": [
            "Epoch 4750 | CVaR: 3.6378\n"
          ]
        },
        {
          "output_type": "stream",
          "name": "stderr",
          "text": [
            "Entraînement:  48%|████▊     | 4761/10000 [1:22:52<1:23:32,  1.05it/s]"
          ]
        },
        {
          "output_type": "stream",
          "name": "stdout",
          "text": [
            "Epoch 4760 | CVaR: 3.6190\n"
          ]
        },
        {
          "output_type": "stream",
          "name": "stderr",
          "text": [
            "Entraînement:  48%|████▊     | 4771/10000 [1:23:02<1:25:15,  1.02it/s]"
          ]
        },
        {
          "output_type": "stream",
          "name": "stdout",
          "text": [
            "Epoch 4770 | CVaR: 3.6449\n"
          ]
        },
        {
          "output_type": "stream",
          "name": "stderr",
          "text": [
            "Entraînement:  48%|████▊     | 4781/10000 [1:23:13<1:27:05,  1.00s/it]"
          ]
        },
        {
          "output_type": "stream",
          "name": "stdout",
          "text": [
            "Epoch 4780 | CVaR: 3.6131\n"
          ]
        },
        {
          "output_type": "stream",
          "name": "stderr",
          "text": [
            "Entraînement:  48%|████▊     | 4791/10000 [1:23:23<1:32:01,  1.06s/it]"
          ]
        },
        {
          "output_type": "stream",
          "name": "stdout",
          "text": [
            "Epoch 4790 | CVaR: 3.6261\n"
          ]
        },
        {
          "output_type": "stream",
          "name": "stderr",
          "text": [
            "Entraînement:  48%|████▊     | 4801/10000 [1:23:34<1:44:14,  1.20s/it]"
          ]
        },
        {
          "output_type": "stream",
          "name": "stdout",
          "text": [
            "Epoch 4800 | CVaR: 3.6529\n"
          ]
        },
        {
          "output_type": "stream",
          "name": "stderr",
          "text": [
            "Entraînement:  48%|████▊     | 4811/10000 [1:23:43<1:22:58,  1.04it/s]"
          ]
        },
        {
          "output_type": "stream",
          "name": "stdout",
          "text": [
            "Epoch 4810 | CVaR: 3.6328\n"
          ]
        },
        {
          "output_type": "stream",
          "name": "stderr",
          "text": [
            "Entraînement:  48%|████▊     | 4821/10000 [1:23:54<1:24:42,  1.02it/s]"
          ]
        },
        {
          "output_type": "stream",
          "name": "stdout",
          "text": [
            "Epoch 4820 | CVaR: 3.6336\n"
          ]
        },
        {
          "output_type": "stream",
          "name": "stderr",
          "text": [
            "Entraînement:  48%|████▊     | 4831/10000 [1:24:05<1:28:22,  1.03s/it]"
          ]
        },
        {
          "output_type": "stream",
          "name": "stdout",
          "text": [
            "Epoch 4830 | CVaR: 3.6343\n"
          ]
        },
        {
          "output_type": "stream",
          "name": "stderr",
          "text": [
            "Entraînement:  48%|████▊     | 4841/10000 [1:24:15<1:32:18,  1.07s/it]"
          ]
        },
        {
          "output_type": "stream",
          "name": "stdout",
          "text": [
            "Epoch 4840 | CVaR: 3.6310\n"
          ]
        },
        {
          "output_type": "stream",
          "name": "stderr",
          "text": [
            "Entraînement:  49%|████▊     | 4851/10000 [1:24:26<1:42:24,  1.19s/it]"
          ]
        },
        {
          "output_type": "stream",
          "name": "stdout",
          "text": [
            "Epoch 4850 | CVaR: 3.6433\n"
          ]
        },
        {
          "output_type": "stream",
          "name": "stderr",
          "text": [
            "Entraînement:  49%|████▊     | 4861/10000 [1:24:35<1:22:50,  1.03it/s]"
          ]
        },
        {
          "output_type": "stream",
          "name": "stdout",
          "text": [
            "Epoch 4860 | CVaR: 3.6592\n"
          ]
        },
        {
          "output_type": "stream",
          "name": "stderr",
          "text": [
            "Entraînement:  49%|████▊     | 4871/10000 [1:24:46<1:23:50,  1.02it/s]"
          ]
        },
        {
          "output_type": "stream",
          "name": "stdout",
          "text": [
            "Epoch 4870 | CVaR: 3.6271\n"
          ]
        },
        {
          "output_type": "stream",
          "name": "stderr",
          "text": [
            "Entraînement:  49%|████▉     | 4881/10000 [1:24:57<1:24:17,  1.01it/s]"
          ]
        },
        {
          "output_type": "stream",
          "name": "stdout",
          "text": [
            "Epoch 4880 | CVaR: 3.6274\n"
          ]
        },
        {
          "output_type": "stream",
          "name": "stderr",
          "text": [
            "Entraînement:  49%|████▉     | 4891/10000 [1:25:07<1:31:30,  1.07s/it]"
          ]
        },
        {
          "output_type": "stream",
          "name": "stdout",
          "text": [
            "Epoch 4890 | CVaR: 3.6215\n"
          ]
        },
        {
          "output_type": "stream",
          "name": "stderr",
          "text": [
            "Entraînement:  49%|████▉     | 4901/10000 [1:25:18<1:38:23,  1.16s/it]"
          ]
        },
        {
          "output_type": "stream",
          "name": "stdout",
          "text": [
            "Epoch 4900 | CVaR: 3.6760\n"
          ]
        },
        {
          "output_type": "stream",
          "name": "stderr",
          "text": [
            "Entraînement:  49%|████▉     | 4911/10000 [1:25:27<1:21:28,  1.04it/s]"
          ]
        },
        {
          "output_type": "stream",
          "name": "stdout",
          "text": [
            "Epoch 4910 | CVaR: 3.6488\n"
          ]
        },
        {
          "output_type": "stream",
          "name": "stderr",
          "text": [
            "Entraînement:  49%|████▉     | 4921/10000 [1:25:38<1:22:16,  1.03it/s]"
          ]
        },
        {
          "output_type": "stream",
          "name": "stdout",
          "text": [
            "Epoch 4920 | CVaR: 3.6739\n"
          ]
        },
        {
          "output_type": "stream",
          "name": "stderr",
          "text": [
            "Entraînement:  49%|████▉     | 4931/10000 [1:25:48<1:24:38,  1.00s/it]"
          ]
        },
        {
          "output_type": "stream",
          "name": "stdout",
          "text": [
            "Epoch 4930 | CVaR: 3.6251\n"
          ]
        },
        {
          "output_type": "stream",
          "name": "stderr",
          "text": [
            "Entraînement:  49%|████▉     | 4941/10000 [1:25:59<1:31:42,  1.09s/it]"
          ]
        },
        {
          "output_type": "stream",
          "name": "stdout",
          "text": [
            "Epoch 4940 | CVaR: 3.6256\n"
          ]
        },
        {
          "output_type": "stream",
          "name": "stderr",
          "text": [
            "Entraînement:  50%|████▉     | 4951/10000 [1:26:09<1:39:34,  1.18s/it]"
          ]
        },
        {
          "output_type": "stream",
          "name": "stdout",
          "text": [
            "Epoch 4950 | CVaR: 3.6328\n"
          ]
        },
        {
          "output_type": "stream",
          "name": "stderr",
          "text": [
            "Entraînement:  50%|████▉     | 4961/10000 [1:26:20<1:25:20,  1.02s/it]"
          ]
        },
        {
          "output_type": "stream",
          "name": "stdout",
          "text": [
            "Epoch 4960 | CVaR: 3.6401\n"
          ]
        },
        {
          "output_type": "stream",
          "name": "stderr",
          "text": [
            "Entraînement:  50%|████▉     | 4971/10000 [1:26:30<1:24:57,  1.01s/it]"
          ]
        },
        {
          "output_type": "stream",
          "name": "stdout",
          "text": [
            "Epoch 4970 | CVaR: 3.6199\n"
          ]
        },
        {
          "output_type": "stream",
          "name": "stderr",
          "text": [
            "Entraînement:  50%|████▉     | 4981/10000 [1:26:41<1:27:48,  1.05s/it]"
          ]
        },
        {
          "output_type": "stream",
          "name": "stdout",
          "text": [
            "Epoch 4980 | CVaR: 3.6574\n"
          ]
        },
        {
          "output_type": "stream",
          "name": "stderr",
          "text": [
            "Entraînement:  50%|████▉     | 4991/10000 [1:26:53<1:32:47,  1.11s/it]"
          ]
        },
        {
          "output_type": "stream",
          "name": "stdout",
          "text": [
            "Epoch 4990 | CVaR: 3.6402\n"
          ]
        },
        {
          "output_type": "stream",
          "name": "stderr",
          "text": [
            "Entraînement:  50%|█████     | 5001/10000 [1:27:04<1:41:39,  1.22s/it]"
          ]
        },
        {
          "output_type": "stream",
          "name": "stdout",
          "text": [
            "Epoch 5000 | CVaR: 3.6397\n"
          ]
        },
        {
          "output_type": "stream",
          "name": "stderr",
          "text": [
            "Entraînement:  50%|█████     | 5011/10000 [1:27:14<1:34:52,  1.14s/it]"
          ]
        },
        {
          "output_type": "stream",
          "name": "stdout",
          "text": [
            "Epoch 5010 | CVaR: 3.6419\n"
          ]
        },
        {
          "output_type": "stream",
          "name": "stderr",
          "text": [
            "Entraînement:  50%|█████     | 5021/10000 [1:27:25<1:23:01,  1.00s/it]"
          ]
        },
        {
          "output_type": "stream",
          "name": "stdout",
          "text": [
            "Epoch 5020 | CVaR: 3.6317\n"
          ]
        },
        {
          "output_type": "stream",
          "name": "stderr",
          "text": [
            "Entraînement:  50%|█████     | 5031/10000 [1:27:36<1:23:13,  1.00s/it]"
          ]
        },
        {
          "output_type": "stream",
          "name": "stdout",
          "text": [
            "Epoch 5030 | CVaR: 3.6426\n"
          ]
        },
        {
          "output_type": "stream",
          "name": "stderr",
          "text": [
            "Entraînement:  50%|█████     | 5041/10000 [1:27:46<1:24:46,  1.03s/it]"
          ]
        },
        {
          "output_type": "stream",
          "name": "stdout",
          "text": [
            "Epoch 5040 | CVaR: 3.6344\n"
          ]
        },
        {
          "output_type": "stream",
          "name": "stderr",
          "text": [
            "Entraînement:  51%|█████     | 5051/10000 [1:27:57<1:31:12,  1.11s/it]"
          ]
        },
        {
          "output_type": "stream",
          "name": "stdout",
          "text": [
            "Epoch 5050 | CVaR: 3.6525\n"
          ]
        },
        {
          "output_type": "stream",
          "name": "stderr",
          "text": [
            "Entraînement:  51%|█████     | 5061/10000 [1:28:08<1:37:37,  1.19s/it]"
          ]
        },
        {
          "output_type": "stream",
          "name": "stdout",
          "text": [
            "Epoch 5060 | CVaR: 3.6540\n"
          ]
        },
        {
          "output_type": "stream",
          "name": "stderr",
          "text": [
            "Entraînement:  51%|█████     | 5071/10000 [1:28:18<1:21:27,  1.01it/s]"
          ]
        },
        {
          "output_type": "stream",
          "name": "stdout",
          "text": [
            "Epoch 5070 | CVaR: 3.6666\n"
          ]
        },
        {
          "output_type": "stream",
          "name": "stderr",
          "text": [
            "Entraînement:  51%|█████     | 5081/10000 [1:28:29<1:22:46,  1.01s/it]"
          ]
        },
        {
          "output_type": "stream",
          "name": "stdout",
          "text": [
            "Epoch 5080 | CVaR: 3.6282\n"
          ]
        },
        {
          "output_type": "stream",
          "name": "stderr",
          "text": [
            "Entraînement:  51%|█████     | 5091/10000 [1:28:39<1:24:39,  1.03s/it]"
          ]
        },
        {
          "output_type": "stream",
          "name": "stdout",
          "text": [
            "Epoch 5090 | CVaR: 3.6427\n"
          ]
        },
        {
          "output_type": "stream",
          "name": "stderr",
          "text": [
            "Entraînement:  51%|█████     | 5101/10000 [1:28:50<1:29:06,  1.09s/it]"
          ]
        },
        {
          "output_type": "stream",
          "name": "stdout",
          "text": [
            "Epoch 5100 | CVaR: 3.6455\n"
          ]
        },
        {
          "output_type": "stream",
          "name": "stderr",
          "text": [
            "Entraînement:  51%|█████     | 5111/10000 [1:29:01<1:38:51,  1.21s/it]"
          ]
        },
        {
          "output_type": "stream",
          "name": "stdout",
          "text": [
            "Epoch 5110 | CVaR: 3.6575\n"
          ]
        },
        {
          "output_type": "stream",
          "name": "stderr",
          "text": [
            "Entraînement:  51%|█████     | 5121/10000 [1:29:11<1:26:23,  1.06s/it]"
          ]
        },
        {
          "output_type": "stream",
          "name": "stdout",
          "text": [
            "Epoch 5120 | CVaR: 3.6426\n"
          ]
        },
        {
          "output_type": "stream",
          "name": "stderr",
          "text": [
            "Entraînement:  51%|█████▏    | 5131/10000 [1:29:22<1:20:57,  1.00it/s]"
          ]
        },
        {
          "output_type": "stream",
          "name": "stdout",
          "text": [
            "Epoch 5130 | CVaR: 3.6255\n"
          ]
        },
        {
          "output_type": "stream",
          "name": "stderr",
          "text": [
            "Entraînement:  51%|█████▏    | 5141/10000 [1:29:33<1:20:47,  1.00it/s]"
          ]
        },
        {
          "output_type": "stream",
          "name": "stdout",
          "text": [
            "Epoch 5140 | CVaR: 3.6541\n"
          ]
        },
        {
          "output_type": "stream",
          "name": "stderr",
          "text": [
            "Entraînement:  52%|█████▏    | 5151/10000 [1:29:44<1:24:04,  1.04s/it]"
          ]
        },
        {
          "output_type": "stream",
          "name": "stdout",
          "text": [
            "Epoch 5150 | CVaR: 3.6389\n"
          ]
        },
        {
          "output_type": "stream",
          "name": "stderr",
          "text": [
            "Entraînement:  52%|█████▏    | 5161/10000 [1:29:54<1:31:34,  1.14s/it]"
          ]
        },
        {
          "output_type": "stream",
          "name": "stdout",
          "text": [
            "Epoch 5160 | CVaR: 3.6450\n"
          ]
        },
        {
          "output_type": "stream",
          "name": "stderr",
          "text": [
            "Entraînement:  52%|█████▏    | 5171/10000 [1:30:04<1:28:22,  1.10s/it]"
          ]
        },
        {
          "output_type": "stream",
          "name": "stdout",
          "text": [
            "Epoch 5170 | CVaR: 3.6479\n"
          ]
        },
        {
          "output_type": "stream",
          "name": "stderr",
          "text": [
            "Entraînement:  52%|█████▏    | 5181/10000 [1:30:15<1:18:34,  1.02it/s]"
          ]
        },
        {
          "output_type": "stream",
          "name": "stdout",
          "text": [
            "Epoch 5180 | CVaR: 3.6307\n"
          ]
        },
        {
          "output_type": "stream",
          "name": "stderr",
          "text": [
            "Entraînement:  52%|█████▏    | 5191/10000 [1:30:25<1:20:19,  1.00s/it]"
          ]
        },
        {
          "output_type": "stream",
          "name": "stdout",
          "text": [
            "Epoch 5190 | CVaR: 3.6361\n"
          ]
        },
        {
          "output_type": "stream",
          "name": "stderr",
          "text": [
            "Entraînement:  52%|█████▏    | 5201/10000 [1:30:36<1:22:41,  1.03s/it]"
          ]
        },
        {
          "output_type": "stream",
          "name": "stdout",
          "text": [
            "Epoch 5200 | CVaR: 3.6482\n"
          ]
        },
        {
          "output_type": "stream",
          "name": "stderr",
          "text": [
            "Entraînement:  52%|█████▏    | 5211/10000 [1:30:47<1:29:48,  1.13s/it]"
          ]
        },
        {
          "output_type": "stream",
          "name": "stdout",
          "text": [
            "Epoch 5210 | CVaR: 3.6676\n"
          ]
        },
        {
          "output_type": "stream",
          "name": "stderr",
          "text": [
            "Entraînement:  52%|█████▏    | 5221/10000 [1:30:57<1:30:47,  1.14s/it]"
          ]
        },
        {
          "output_type": "stream",
          "name": "stdout",
          "text": [
            "Epoch 5220 | CVaR: 3.6257\n"
          ]
        },
        {
          "output_type": "stream",
          "name": "stderr",
          "text": [
            "Entraînement:  52%|█████▏    | 5231/10000 [1:31:08<1:18:10,  1.02it/s]"
          ]
        },
        {
          "output_type": "stream",
          "name": "stdout",
          "text": [
            "Epoch 5230 | CVaR: 3.6373\n"
          ]
        },
        {
          "output_type": "stream",
          "name": "stderr",
          "text": [
            "Entraînement:  52%|█████▏    | 5241/10000 [1:31:18<1:18:18,  1.01it/s]"
          ]
        },
        {
          "output_type": "stream",
          "name": "stdout",
          "text": [
            "Epoch 5240 | CVaR: 3.6263\n"
          ]
        },
        {
          "output_type": "stream",
          "name": "stderr",
          "text": [
            "Entraînement:  53%|█████▎    | 5251/10000 [1:31:29<1:21:04,  1.02s/it]"
          ]
        },
        {
          "output_type": "stream",
          "name": "stdout",
          "text": [
            "Epoch 5250 | CVaR: 3.6492\n"
          ]
        },
        {
          "output_type": "stream",
          "name": "stderr",
          "text": [
            "Entraînement:  53%|█████▎    | 5261/10000 [1:31:40<1:26:54,  1.10s/it]"
          ]
        },
        {
          "output_type": "stream",
          "name": "stdout",
          "text": [
            "Epoch 5260 | CVaR: 3.6245\n"
          ]
        },
        {
          "output_type": "stream",
          "name": "stderr",
          "text": [
            "Entraînement:  53%|█████▎    | 5271/10000 [1:31:50<1:33:59,  1.19s/it]"
          ]
        },
        {
          "output_type": "stream",
          "name": "stdout",
          "text": [
            "Epoch 5270 | CVaR: 3.6416\n"
          ]
        },
        {
          "output_type": "stream",
          "name": "stderr",
          "text": [
            "Entraînement:  53%|█████▎    | 5281/10000 [1:32:00<1:16:13,  1.03it/s]"
          ]
        },
        {
          "output_type": "stream",
          "name": "stdout",
          "text": [
            "Epoch 5280 | CVaR: 3.6151\n"
          ]
        },
        {
          "output_type": "stream",
          "name": "stderr",
          "text": [
            "Entraînement:  53%|█████▎    | 5291/10000 [1:32:11<1:17:15,  1.02it/s]"
          ]
        },
        {
          "output_type": "stream",
          "name": "stdout",
          "text": [
            "Epoch 5290 | CVaR: 3.6300\n"
          ]
        },
        {
          "output_type": "stream",
          "name": "stderr",
          "text": [
            "Entraînement:  53%|█████▎    | 5301/10000 [1:32:21<1:19:01,  1.01s/it]"
          ]
        },
        {
          "output_type": "stream",
          "name": "stdout",
          "text": [
            "Epoch 5300 | CVaR: 3.6251\n"
          ]
        },
        {
          "output_type": "stream",
          "name": "stderr",
          "text": [
            "Entraînement:  53%|█████▎    | 5311/10000 [1:32:32<1:24:51,  1.09s/it]"
          ]
        },
        {
          "output_type": "stream",
          "name": "stdout",
          "text": [
            "Epoch 5310 | CVaR: 3.6151\n"
          ]
        },
        {
          "output_type": "stream",
          "name": "stderr",
          "text": [
            "Entraînement:  53%|█████▎    | 5321/10000 [1:32:43<1:34:42,  1.21s/it]"
          ]
        },
        {
          "output_type": "stream",
          "name": "stdout",
          "text": [
            "Epoch 5320 | CVaR: 3.6373\n"
          ]
        },
        {
          "output_type": "stream",
          "name": "stderr",
          "text": [
            "Entraînement:  53%|█████▎    | 5331/10000 [1:32:52<1:15:11,  1.03it/s]"
          ]
        },
        {
          "output_type": "stream",
          "name": "stdout",
          "text": [
            "Epoch 5330 | CVaR: 3.6988\n"
          ]
        },
        {
          "output_type": "stream",
          "name": "stderr",
          "text": [
            "Entraînement:  53%|█████▎    | 5341/10000 [1:33:03<1:16:26,  1.02it/s]"
          ]
        },
        {
          "output_type": "stream",
          "name": "stdout",
          "text": [
            "Epoch 5340 | CVaR: 3.6523\n"
          ]
        },
        {
          "output_type": "stream",
          "name": "stderr",
          "text": [
            "Entraînement:  54%|█████▎    | 5351/10000 [1:33:14<1:18:22,  1.01s/it]"
          ]
        },
        {
          "output_type": "stream",
          "name": "stdout",
          "text": [
            "Epoch 5350 | CVaR: 3.6268\n"
          ]
        },
        {
          "output_type": "stream",
          "name": "stderr",
          "text": [
            "Entraînement:  54%|█████▎    | 5361/10000 [1:33:25<1:24:22,  1.09s/it]"
          ]
        },
        {
          "output_type": "stream",
          "name": "stdout",
          "text": [
            "Epoch 5360 | CVaR: 3.6183\n"
          ]
        },
        {
          "output_type": "stream",
          "name": "stderr",
          "text": [
            "Entraînement:  54%|█████▎    | 5371/10000 [1:33:35<1:35:47,  1.24s/it]"
          ]
        },
        {
          "output_type": "stream",
          "name": "stdout",
          "text": [
            "Epoch 5370 | CVaR: 3.6210\n"
          ]
        },
        {
          "output_type": "stream",
          "name": "stderr",
          "text": [
            "Entraînement:  54%|█████▍    | 5381/10000 [1:33:45<1:15:11,  1.02it/s]"
          ]
        },
        {
          "output_type": "stream",
          "name": "stdout",
          "text": [
            "Epoch 5380 | CVaR: 3.6311\n"
          ]
        },
        {
          "output_type": "stream",
          "name": "stderr",
          "text": [
            "Entraînement:  54%|█████▍    | 5391/10000 [1:33:56<1:16:17,  1.01it/s]"
          ]
        },
        {
          "output_type": "stream",
          "name": "stdout",
          "text": [
            "Epoch 5390 | CVaR: 3.6403\n"
          ]
        },
        {
          "output_type": "stream",
          "name": "stderr",
          "text": [
            "Entraînement:  54%|█████▍    | 5401/10000 [1:34:07<1:17:43,  1.01s/it]"
          ]
        },
        {
          "output_type": "stream",
          "name": "stdout",
          "text": [
            "Epoch 5400 | CVaR: 3.6264\n"
          ]
        },
        {
          "output_type": "stream",
          "name": "stderr",
          "text": [
            "Entraînement:  54%|█████▍    | 5411/10000 [1:34:18<1:23:29,  1.09s/it]"
          ]
        },
        {
          "output_type": "stream",
          "name": "stdout",
          "text": [
            "Epoch 5410 | CVaR: 3.6449\n"
          ]
        },
        {
          "output_type": "stream",
          "name": "stderr",
          "text": [
            "Entraînement:  54%|█████▍    | 5421/10000 [1:34:28<1:31:17,  1.20s/it]"
          ]
        },
        {
          "output_type": "stream",
          "name": "stdout",
          "text": [
            "Epoch 5420 | CVaR: 3.6382\n"
          ]
        },
        {
          "output_type": "stream",
          "name": "stderr",
          "text": [
            "Entraînement:  54%|█████▍    | 5431/10000 [1:34:38<1:18:53,  1.04s/it]"
          ]
        },
        {
          "output_type": "stream",
          "name": "stdout",
          "text": [
            "Epoch 5430 | CVaR: 3.6374\n"
          ]
        },
        {
          "output_type": "stream",
          "name": "stderr",
          "text": [
            "Entraînement:  54%|█████▍    | 5441/10000 [1:34:49<1:15:12,  1.01it/s]"
          ]
        },
        {
          "output_type": "stream",
          "name": "stdout",
          "text": [
            "Epoch 5440 | CVaR: 3.6188\n"
          ]
        },
        {
          "output_type": "stream",
          "name": "stderr",
          "text": [
            "Entraînement:  55%|█████▍    | 5451/10000 [1:35:00<1:15:56,  1.00s/it]"
          ]
        },
        {
          "output_type": "stream",
          "name": "stdout",
          "text": [
            "Epoch 5450 | CVaR: 3.6715\n"
          ]
        },
        {
          "output_type": "stream",
          "name": "stderr",
          "text": [
            "Entraînement:  55%|█████▍    | 5461/10000 [1:35:10<1:21:27,  1.08s/it]"
          ]
        },
        {
          "output_type": "stream",
          "name": "stdout",
          "text": [
            "Epoch 5460 | CVaR: 3.6155\n"
          ]
        },
        {
          "output_type": "stream",
          "name": "stderr",
          "text": [
            "Entraînement:  55%|█████▍    | 5471/10000 [1:35:21<1:26:40,  1.15s/it]"
          ]
        },
        {
          "output_type": "stream",
          "name": "stdout",
          "text": [
            "Epoch 5470 | CVaR: 3.6330\n"
          ]
        },
        {
          "output_type": "stream",
          "name": "stderr",
          "text": [
            "Entraînement:  55%|█████▍    | 5481/10000 [1:35:31<1:20:37,  1.07s/it]"
          ]
        },
        {
          "output_type": "stream",
          "name": "stdout",
          "text": [
            "Epoch 5480 | CVaR: 3.6585\n"
          ]
        },
        {
          "output_type": "stream",
          "name": "stderr",
          "text": [
            "Entraînement:  55%|█████▍    | 5491/10000 [1:35:42<1:13:42,  1.02it/s]"
          ]
        },
        {
          "output_type": "stream",
          "name": "stdout",
          "text": [
            "Epoch 5490 | CVaR: 3.6321\n"
          ]
        },
        {
          "output_type": "stream",
          "name": "stderr",
          "text": [
            "Entraînement:  55%|█████▌    | 5501/10000 [1:35:52<1:14:18,  1.01it/s]"
          ]
        },
        {
          "output_type": "stream",
          "name": "stdout",
          "text": [
            "Epoch 5500 | CVaR: 3.6518\n"
          ]
        },
        {
          "output_type": "stream",
          "name": "stderr",
          "text": [
            "Entraînement:  55%|█████▌    | 5511/10000 [1:36:03<1:17:37,  1.04s/it]"
          ]
        },
        {
          "output_type": "stream",
          "name": "stdout",
          "text": [
            "Epoch 5510 | CVaR: 3.6220\n"
          ]
        },
        {
          "output_type": "stream",
          "name": "stderr",
          "text": [
            "Entraînement:  55%|█████▌    | 5521/10000 [1:36:14<1:25:10,  1.14s/it]"
          ]
        },
        {
          "output_type": "stream",
          "name": "stdout",
          "text": [
            "Epoch 5520 | CVaR: 3.6309\n"
          ]
        },
        {
          "output_type": "stream",
          "name": "stderr",
          "text": [
            "Entraînement:  55%|█████▌    | 5531/10000 [1:36:24<1:23:07,  1.12s/it]"
          ]
        },
        {
          "output_type": "stream",
          "name": "stdout",
          "text": [
            "Epoch 5530 | CVaR: 3.6407\n"
          ]
        },
        {
          "output_type": "stream",
          "name": "stderr",
          "text": [
            "Entraînement:  55%|█████▌    | 5541/10000 [1:36:34<1:13:40,  1.01it/s]"
          ]
        },
        {
          "output_type": "stream",
          "name": "stdout",
          "text": [
            "Epoch 5540 | CVaR: 3.6324\n"
          ]
        },
        {
          "output_type": "stream",
          "name": "stderr",
          "text": [
            "Entraînement:  56%|█████▌    | 5551/10000 [1:36:45<1:14:20,  1.00s/it]"
          ]
        },
        {
          "output_type": "stream",
          "name": "stdout",
          "text": [
            "Epoch 5550 | CVaR: 3.6473\n"
          ]
        },
        {
          "output_type": "stream",
          "name": "stderr",
          "text": [
            "Entraînement:  56%|█████▌    | 5561/10000 [1:36:56<1:16:38,  1.04s/it]"
          ]
        },
        {
          "output_type": "stream",
          "name": "stdout",
          "text": [
            "Epoch 5560 | CVaR: 3.6419\n"
          ]
        },
        {
          "output_type": "stream",
          "name": "stderr",
          "text": [
            "Entraînement:  56%|█████▌    | 5571/10000 [1:37:06<1:21:30,  1.10s/it]"
          ]
        },
        {
          "output_type": "stream",
          "name": "stdout",
          "text": [
            "Epoch 5570 | CVaR: 3.6286\n"
          ]
        },
        {
          "output_type": "stream",
          "name": "stderr",
          "text": [
            "Entraînement:  56%|█████▌    | 5581/10000 [1:37:17<1:25:33,  1.16s/it]"
          ]
        },
        {
          "output_type": "stream",
          "name": "stdout",
          "text": [
            "Epoch 5580 | CVaR: 3.6521\n"
          ]
        },
        {
          "output_type": "stream",
          "name": "stderr",
          "text": [
            "Entraînement:  56%|█████▌    | 5591/10000 [1:37:27<1:12:26,  1.01it/s]"
          ]
        },
        {
          "output_type": "stream",
          "name": "stdout",
          "text": [
            "Epoch 5590 | CVaR: 3.6574\n"
          ]
        },
        {
          "output_type": "stream",
          "name": "stderr",
          "text": [
            "Entraînement:  56%|█████▌    | 5601/10000 [1:37:38<1:13:14,  1.00it/s]"
          ]
        },
        {
          "output_type": "stream",
          "name": "stdout",
          "text": [
            "Epoch 5600 | CVaR: 3.6433\n"
          ]
        },
        {
          "output_type": "stream",
          "name": "stderr",
          "text": [
            "Entraînement:  56%|█████▌    | 5611/10000 [1:37:49<1:18:10,  1.07s/it]"
          ]
        },
        {
          "output_type": "stream",
          "name": "stdout",
          "text": [
            "Epoch 5610 | CVaR: 3.6285\n"
          ]
        },
        {
          "output_type": "stream",
          "name": "stderr",
          "text": [
            "Entraînement:  56%|█████▌    | 5621/10000 [1:38:00<1:20:34,  1.10s/it]"
          ]
        },
        {
          "output_type": "stream",
          "name": "stdout",
          "text": [
            "Epoch 5620 | CVaR: 3.6098\n"
          ]
        },
        {
          "output_type": "stream",
          "name": "stderr",
          "text": [
            "Entraînement:  56%|█████▋    | 5631/10000 [1:38:10<1:29:15,  1.23s/it]"
          ]
        },
        {
          "output_type": "stream",
          "name": "stdout",
          "text": [
            "Epoch 5630 | CVaR: 3.7083\n"
          ]
        },
        {
          "output_type": "stream",
          "name": "stderr",
          "text": [
            "Entraînement:  56%|█████▋    | 5641/10000 [1:38:20<1:10:49,  1.03it/s]"
          ]
        },
        {
          "output_type": "stream",
          "name": "stdout",
          "text": [
            "Epoch 5640 | CVaR: 3.6357\n"
          ]
        },
        {
          "output_type": "stream",
          "name": "stderr",
          "text": [
            "Entraînement:  57%|█████▋    | 5651/10000 [1:38:31<1:12:55,  1.01s/it]"
          ]
        },
        {
          "output_type": "stream",
          "name": "stdout",
          "text": [
            "Epoch 5650 | CVaR: 3.6385\n"
          ]
        },
        {
          "output_type": "stream",
          "name": "stderr",
          "text": [
            "Entraînement:  57%|█████▋    | 5661/10000 [1:38:42<1:12:55,  1.01s/it]"
          ]
        },
        {
          "output_type": "stream",
          "name": "stdout",
          "text": [
            "Epoch 5660 | CVaR: 3.6398\n"
          ]
        },
        {
          "output_type": "stream",
          "name": "stderr",
          "text": [
            "Entraînement:  57%|█████▋    | 5671/10000 [1:38:52<1:15:44,  1.05s/it]"
          ]
        },
        {
          "output_type": "stream",
          "name": "stdout",
          "text": [
            "Epoch 5670 | CVaR: 3.6868\n"
          ]
        },
        {
          "output_type": "stream",
          "name": "stderr",
          "text": [
            "Entraînement:  57%|█████▋    | 5681/10000 [1:39:03<1:25:21,  1.19s/it]"
          ]
        },
        {
          "output_type": "stream",
          "name": "stdout",
          "text": [
            "Epoch 5680 | CVaR: 3.6437\n"
          ]
        },
        {
          "output_type": "stream",
          "name": "stderr",
          "text": [
            "Entraînement:  57%|█████▋    | 5691/10000 [1:39:13<1:11:53,  1.00s/it]"
          ]
        },
        {
          "output_type": "stream",
          "name": "stdout",
          "text": [
            "Epoch 5690 | CVaR: 3.6063\n"
          ]
        },
        {
          "output_type": "stream",
          "name": "stderr",
          "text": [
            "Entraînement:  57%|█████▋    | 5701/10000 [1:39:24<1:11:39,  1.00s/it]"
          ]
        },
        {
          "output_type": "stream",
          "name": "stdout",
          "text": [
            "Epoch 5700 | CVaR: 3.6456\n"
          ]
        },
        {
          "output_type": "stream",
          "name": "stderr",
          "text": [
            "Entraînement:  57%|█████▋    | 5711/10000 [1:39:35<1:13:32,  1.03s/it]"
          ]
        },
        {
          "output_type": "stream",
          "name": "stdout",
          "text": [
            "Epoch 5710 | CVaR: 3.6498\n"
          ]
        },
        {
          "output_type": "stream",
          "name": "stderr",
          "text": [
            "Entraînement:  57%|█████▋    | 5721/10000 [1:39:46<1:15:35,  1.06s/it]"
          ]
        },
        {
          "output_type": "stream",
          "name": "stdout",
          "text": [
            "Epoch 5720 | CVaR: 3.6419\n"
          ]
        },
        {
          "output_type": "stream",
          "name": "stderr",
          "text": [
            "Entraînement:  57%|█████▋    | 5731/10000 [1:39:56<1:22:02,  1.15s/it]"
          ]
        },
        {
          "output_type": "stream",
          "name": "stdout",
          "text": [
            "Epoch 5730 | CVaR: 3.6557\n"
          ]
        },
        {
          "output_type": "stream",
          "name": "stderr",
          "text": [
            "Entraînement:  57%|█████▋    | 5741/10000 [1:40:06<1:18:49,  1.11s/it]"
          ]
        },
        {
          "output_type": "stream",
          "name": "stdout",
          "text": [
            "Epoch 5740 | CVaR: 3.6382\n"
          ]
        },
        {
          "output_type": "stream",
          "name": "stderr",
          "text": [
            "Entraînement:  58%|█████▊    | 5751/10000 [1:40:17<1:08:30,  1.03it/s]"
          ]
        },
        {
          "output_type": "stream",
          "name": "stdout",
          "text": [
            "Epoch 5750 | CVaR: 3.6444\n"
          ]
        },
        {
          "output_type": "stream",
          "name": "stderr",
          "text": [
            "Entraînement:  58%|█████▊    | 5761/10000 [1:40:27<1:09:53,  1.01it/s]"
          ]
        },
        {
          "output_type": "stream",
          "name": "stdout",
          "text": [
            "Epoch 5760 | CVaR: 3.6325\n"
          ]
        },
        {
          "output_type": "stream",
          "name": "stderr",
          "text": [
            "Entraînement:  58%|█████▊    | 5771/10000 [1:40:38<1:11:27,  1.01s/it]"
          ]
        },
        {
          "output_type": "stream",
          "name": "stdout",
          "text": [
            "Epoch 5770 | CVaR: 3.6236\n"
          ]
        },
        {
          "output_type": "stream",
          "name": "stderr",
          "text": [
            "Entraînement:  58%|█████▊    | 5781/10000 [1:40:48<1:18:18,  1.11s/it]"
          ]
        },
        {
          "output_type": "stream",
          "name": "stdout",
          "text": [
            "Epoch 5780 | CVaR: 3.6440\n"
          ]
        },
        {
          "output_type": "stream",
          "name": "stderr",
          "text": [
            "Entraînement:  58%|█████▊    | 5791/10000 [1:40:58<1:13:32,  1.05s/it]"
          ]
        },
        {
          "output_type": "stream",
          "name": "stdout",
          "text": [
            "Epoch 5790 | CVaR: 3.6504\n"
          ]
        },
        {
          "output_type": "stream",
          "name": "stderr",
          "text": [
            "Entraînement:  58%|█████▊    | 5801/10000 [1:41:08<1:07:34,  1.04it/s]"
          ]
        },
        {
          "output_type": "stream",
          "name": "stdout",
          "text": [
            "Epoch 5800 | CVaR: 3.6165\n"
          ]
        },
        {
          "output_type": "stream",
          "name": "stderr",
          "text": [
            "Entraînement:  58%|█████▊    | 5811/10000 [1:41:19<1:09:45,  1.00it/s]"
          ]
        },
        {
          "output_type": "stream",
          "name": "stdout",
          "text": [
            "Epoch 5810 | CVaR: 3.6533\n"
          ]
        },
        {
          "output_type": "stream",
          "name": "stderr",
          "text": [
            "Entraînement:  58%|█████▊    | 5821/10000 [1:41:30<1:17:19,  1.11s/it]"
          ]
        },
        {
          "output_type": "stream",
          "name": "stdout",
          "text": [
            "Epoch 5820 | CVaR: 3.6373\n"
          ]
        },
        {
          "output_type": "stream",
          "name": "stderr",
          "text": [
            "Entraînement:  58%|█████▊    | 5831/10000 [1:41:40<1:20:22,  1.16s/it]"
          ]
        },
        {
          "output_type": "stream",
          "name": "stdout",
          "text": [
            "Epoch 5830 | CVaR: 3.6456\n"
          ]
        },
        {
          "output_type": "stream",
          "name": "stderr",
          "text": [
            "Entraînement:  58%|█████▊    | 5841/10000 [1:41:51<1:20:05,  1.16s/it]"
          ]
        },
        {
          "output_type": "stream",
          "name": "stdout",
          "text": [
            "Epoch 5840 | CVaR: 3.6390\n"
          ]
        },
        {
          "output_type": "stream",
          "name": "stderr",
          "text": [
            "Entraînement:  59%|█████▊    | 5851/10000 [1:42:01<1:10:01,  1.01s/it]"
          ]
        },
        {
          "output_type": "stream",
          "name": "stdout",
          "text": [
            "Epoch 5850 | CVaR: 3.6362\n"
          ]
        },
        {
          "output_type": "stream",
          "name": "stderr",
          "text": [
            "Entraînement:  59%|█████▊    | 5861/10000 [1:42:12<1:10:42,  1.03s/it]"
          ]
        },
        {
          "output_type": "stream",
          "name": "stdout",
          "text": [
            "Epoch 5860 | CVaR: 3.6299\n"
          ]
        },
        {
          "output_type": "stream",
          "name": "stderr",
          "text": [
            "Entraînement:  59%|█████▊    | 5871/10000 [1:42:23<1:10:13,  1.02s/it]"
          ]
        },
        {
          "output_type": "stream",
          "name": "stdout",
          "text": [
            "Epoch 5870 | CVaR: 3.6488\n"
          ]
        },
        {
          "output_type": "stream",
          "name": "stderr",
          "text": [
            "Entraînement:  59%|█████▉    | 5881/10000 [1:42:34<1:13:50,  1.08s/it]"
          ]
        },
        {
          "output_type": "stream",
          "name": "stdout",
          "text": [
            "Epoch 5880 | CVaR: 3.6514\n"
          ]
        },
        {
          "output_type": "stream",
          "name": "stderr",
          "text": [
            "Entraînement:  59%|█████▉    | 5891/10000 [1:42:45<1:24:31,  1.23s/it]"
          ]
        },
        {
          "output_type": "stream",
          "name": "stdout",
          "text": [
            "Epoch 5890 | CVaR: 3.6307\n"
          ]
        },
        {
          "output_type": "stream",
          "name": "stderr",
          "text": [
            "Entraînement:  59%|█████▉    | 5901/10000 [1:42:54<1:07:10,  1.02it/s]"
          ]
        },
        {
          "output_type": "stream",
          "name": "stdout",
          "text": [
            "Epoch 5900 | CVaR: 3.6309\n"
          ]
        },
        {
          "output_type": "stream",
          "name": "stderr",
          "text": [
            "Entraînement:  59%|█████▉    | 5911/10000 [1:43:05<1:07:16,  1.01it/s]"
          ]
        },
        {
          "output_type": "stream",
          "name": "stdout",
          "text": [
            "Epoch 5910 | CVaR: 3.6458\n"
          ]
        },
        {
          "output_type": "stream",
          "name": "stderr",
          "text": [
            "Entraînement:  59%|█████▉    | 5921/10000 [1:43:16<1:09:48,  1.03s/it]"
          ]
        },
        {
          "output_type": "stream",
          "name": "stdout",
          "text": [
            "Epoch 5920 | CVaR: 3.6214\n"
          ]
        },
        {
          "output_type": "stream",
          "name": "stderr",
          "text": [
            "Entraînement:  59%|█████▉    | 5931/10000 [1:43:27<1:12:34,  1.07s/it]"
          ]
        },
        {
          "output_type": "stream",
          "name": "stdout",
          "text": [
            "Epoch 5930 | CVaR: 3.6148\n"
          ]
        },
        {
          "output_type": "stream",
          "name": "stderr",
          "text": [
            "Entraînement:  59%|█████▉    | 5941/10000 [1:43:38<1:20:16,  1.19s/it]"
          ]
        },
        {
          "output_type": "stream",
          "name": "stdout",
          "text": [
            "Epoch 5940 | CVaR: 3.6112\n"
          ]
        },
        {
          "output_type": "stream",
          "name": "stderr",
          "text": [
            "Entraînement:  60%|█████▉    | 5951/10000 [1:43:47<1:10:16,  1.04s/it]"
          ]
        },
        {
          "output_type": "stream",
          "name": "stdout",
          "text": [
            "Epoch 5950 | CVaR: 3.6467\n"
          ]
        },
        {
          "output_type": "stream",
          "name": "stderr",
          "text": [
            "Entraînement:  60%|█████▉    | 5961/10000 [1:43:58<1:06:05,  1.02it/s]"
          ]
        },
        {
          "output_type": "stream",
          "name": "stdout",
          "text": [
            "Epoch 5960 | CVaR: 3.6525\n"
          ]
        },
        {
          "output_type": "stream",
          "name": "stderr",
          "text": [
            "Entraînement:  60%|█████▉    | 5971/10000 [1:44:09<1:07:21,  1.00s/it]"
          ]
        },
        {
          "output_type": "stream",
          "name": "stdout",
          "text": [
            "Epoch 5970 | CVaR: 3.6786\n"
          ]
        },
        {
          "output_type": "stream",
          "name": "stderr",
          "text": [
            "Entraînement:  60%|█████▉    | 5981/10000 [1:44:20<1:10:38,  1.05s/it]"
          ]
        },
        {
          "output_type": "stream",
          "name": "stdout",
          "text": [
            "Epoch 5980 | CVaR: 3.6195\n"
          ]
        },
        {
          "output_type": "stream",
          "name": "stderr",
          "text": [
            "Entraînement:  60%|█████▉    | 5991/10000 [1:44:30<1:17:36,  1.16s/it]"
          ]
        },
        {
          "output_type": "stream",
          "name": "stdout",
          "text": [
            "Epoch 5990 | CVaR: 3.6306\n"
          ]
        },
        {
          "output_type": "stream",
          "name": "stderr",
          "text": [
            "Entraînement:  60%|██████    | 6001/10000 [1:44:40<1:13:22,  1.10s/it]"
          ]
        },
        {
          "output_type": "stream",
          "name": "stdout",
          "text": [
            "Epoch 6000 | CVaR: 3.6318\n"
          ]
        },
        {
          "output_type": "stream",
          "name": "stderr",
          "text": [
            "Entraînement:  60%|██████    | 6011/10000 [1:44:51<1:06:15,  1.00it/s]"
          ]
        },
        {
          "output_type": "stream",
          "name": "stdout",
          "text": [
            "Epoch 6010 | CVaR: 3.6605\n"
          ]
        },
        {
          "output_type": "stream",
          "name": "stderr",
          "text": [
            "Entraînement:  60%|██████    | 6021/10000 [1:45:02<1:06:09,  1.00it/s]"
          ]
        },
        {
          "output_type": "stream",
          "name": "stdout",
          "text": [
            "Epoch 6020 | CVaR: 3.6216\n"
          ]
        },
        {
          "output_type": "stream",
          "name": "stderr",
          "text": [
            "Entraînement:  60%|██████    | 6031/10000 [1:45:12<1:08:22,  1.03s/it]"
          ]
        },
        {
          "output_type": "stream",
          "name": "stdout",
          "text": [
            "Epoch 6030 | CVaR: 3.6536\n"
          ]
        },
        {
          "output_type": "stream",
          "name": "stderr",
          "text": [
            "Entraînement:  60%|██████    | 6041/10000 [1:45:23<1:13:01,  1.11s/it]"
          ]
        },
        {
          "output_type": "stream",
          "name": "stdout",
          "text": [
            "Epoch 6040 | CVaR: 3.6178\n"
          ]
        },
        {
          "output_type": "stream",
          "name": "stderr",
          "text": [
            "Entraînement:  61%|██████    | 6051/10000 [1:45:34<1:15:24,  1.15s/it]"
          ]
        },
        {
          "output_type": "stream",
          "name": "stdout",
          "text": [
            "Epoch 6050 | CVaR: 3.6480\n"
          ]
        },
        {
          "output_type": "stream",
          "name": "stderr",
          "text": [
            "Entraînement:  61%|██████    | 6061/10000 [1:45:44<1:04:06,  1.02it/s]"
          ]
        },
        {
          "output_type": "stream",
          "name": "stdout",
          "text": [
            "Epoch 6060 | CVaR: 3.6490\n"
          ]
        },
        {
          "output_type": "stream",
          "name": "stderr",
          "text": [
            "Entraînement:  61%|██████    | 6071/10000 [1:45:54<1:04:42,  1.01it/s]"
          ]
        },
        {
          "output_type": "stream",
          "name": "stdout",
          "text": [
            "Epoch 6070 | CVaR: 3.6584\n"
          ]
        },
        {
          "output_type": "stream",
          "name": "stderr",
          "text": [
            "Entraînement:  61%|██████    | 6081/10000 [1:46:05<1:06:50,  1.02s/it]"
          ]
        },
        {
          "output_type": "stream",
          "name": "stdout",
          "text": [
            "Epoch 6080 | CVaR: 3.6097\n"
          ]
        },
        {
          "output_type": "stream",
          "name": "stderr",
          "text": [
            "Entraînement:  61%|██████    | 6091/10000 [1:46:16<1:11:13,  1.09s/it]"
          ]
        },
        {
          "output_type": "stream",
          "name": "stdout",
          "text": [
            "Epoch 6090 | CVaR: 3.6413\n"
          ]
        },
        {
          "output_type": "stream",
          "name": "stderr",
          "text": [
            "Entraînement:  61%|██████    | 6101/10000 [1:46:26<1:18:21,  1.21s/it]"
          ]
        },
        {
          "output_type": "stream",
          "name": "stdout",
          "text": [
            "Epoch 6100 | CVaR: 3.6299\n"
          ]
        },
        {
          "output_type": "stream",
          "name": "stderr",
          "text": [
            "Entraînement:  61%|██████    | 6111/10000 [1:46:36<1:03:03,  1.03it/s]"
          ]
        },
        {
          "output_type": "stream",
          "name": "stdout",
          "text": [
            "Epoch 6110 | CVaR: 3.6134\n"
          ]
        },
        {
          "output_type": "stream",
          "name": "stderr",
          "text": [
            "Entraînement:  61%|██████    | 6121/10000 [1:46:47<1:04:37,  1.00it/s]"
          ]
        },
        {
          "output_type": "stream",
          "name": "stdout",
          "text": [
            "Epoch 6120 | CVaR: 3.6697\n"
          ]
        },
        {
          "output_type": "stream",
          "name": "stderr",
          "text": [
            "Entraînement:  61%|██████▏   | 6131/10000 [1:46:58<1:05:22,  1.01s/it]"
          ]
        },
        {
          "output_type": "stream",
          "name": "stdout",
          "text": [
            "Epoch 6130 | CVaR: 3.6352\n"
          ]
        },
        {
          "output_type": "stream",
          "name": "stderr",
          "text": [
            "Entraînement:  61%|██████▏   | 6141/10000 [1:47:09<1:09:29,  1.08s/it]"
          ]
        },
        {
          "output_type": "stream",
          "name": "stdout",
          "text": [
            "Epoch 6140 | CVaR: 3.6467\n"
          ]
        },
        {
          "output_type": "stream",
          "name": "stderr",
          "text": [
            "Entraînement:  62%|██████▏   | 6151/10000 [1:47:19<1:19:27,  1.24s/it]"
          ]
        },
        {
          "output_type": "stream",
          "name": "stdout",
          "text": [
            "Epoch 6150 | CVaR: 3.6325\n"
          ]
        },
        {
          "output_type": "stream",
          "name": "stderr",
          "text": [
            "Entraînement:  62%|██████▏   | 6161/10000 [1:47:29<1:02:06,  1.03it/s]"
          ]
        },
        {
          "output_type": "stream",
          "name": "stdout",
          "text": [
            "Epoch 6160 | CVaR: 3.6099\n"
          ]
        },
        {
          "output_type": "stream",
          "name": "stderr",
          "text": [
            "Entraînement:  62%|██████▏   | 6171/10000 [1:47:40<1:02:34,  1.02it/s]"
          ]
        },
        {
          "output_type": "stream",
          "name": "stdout",
          "text": [
            "Epoch 6170 | CVaR: 3.6524\n"
          ]
        },
        {
          "output_type": "stream",
          "name": "stderr",
          "text": [
            "Entraînement:  62%|██████▏   | 6181/10000 [1:47:50<1:04:08,  1.01s/it]"
          ]
        },
        {
          "output_type": "stream",
          "name": "stdout",
          "text": [
            "Epoch 6180 | CVaR: 3.6730\n"
          ]
        },
        {
          "output_type": "stream",
          "name": "stderr",
          "text": [
            "Entraînement:  62%|██████▏   | 6191/10000 [1:48:01<1:06:38,  1.05s/it]"
          ]
        },
        {
          "output_type": "stream",
          "name": "stdout",
          "text": [
            "Epoch 6190 | CVaR: 3.6228\n"
          ]
        },
        {
          "output_type": "stream",
          "name": "stderr",
          "text": [
            "Entraînement:  62%|██████▏   | 6201/10000 [1:48:12<1:15:24,  1.19s/it]"
          ]
        },
        {
          "output_type": "stream",
          "name": "stdout",
          "text": [
            "Epoch 6200 | CVaR: 3.6189\n"
          ]
        },
        {
          "output_type": "stream",
          "name": "stderr",
          "text": [
            "Entraînement:  62%|██████▏   | 6211/10000 [1:48:21<1:00:55,  1.04it/s]"
          ]
        },
        {
          "output_type": "stream",
          "name": "stdout",
          "text": [
            "Epoch 6210 | CVaR: 3.6409\n"
          ]
        },
        {
          "output_type": "stream",
          "name": "stderr",
          "text": [
            "Entraînement:  62%|██████▏   | 6221/10000 [1:48:32<1:01:45,  1.02it/s]"
          ]
        },
        {
          "output_type": "stream",
          "name": "stdout",
          "text": [
            "Epoch 6220 | CVaR: 3.6395\n"
          ]
        },
        {
          "output_type": "stream",
          "name": "stderr",
          "text": [
            "Entraînement:  62%|██████▏   | 6231/10000 [1:48:43<1:03:26,  1.01s/it]"
          ]
        },
        {
          "output_type": "stream",
          "name": "stdout",
          "text": [
            "Epoch 6230 | CVaR: 3.6533\n"
          ]
        },
        {
          "output_type": "stream",
          "name": "stderr",
          "text": [
            "Entraînement:  62%|██████▏   | 6241/10000 [1:48:53<1:06:59,  1.07s/it]"
          ]
        },
        {
          "output_type": "stream",
          "name": "stdout",
          "text": [
            "Epoch 6240 | CVaR: 3.6511\n"
          ]
        },
        {
          "output_type": "stream",
          "name": "stderr",
          "text": [
            "Entraînement:  63%|██████▎   | 6251/10000 [1:49:04<1:13:48,  1.18s/it]"
          ]
        },
        {
          "output_type": "stream",
          "name": "stdout",
          "text": [
            "Epoch 6250 | CVaR: 3.6102\n"
          ]
        },
        {
          "output_type": "stream",
          "name": "stderr",
          "text": [
            "Entraînement:  63%|██████▎   | 6261/10000 [1:49:14<1:02:23,  1.00s/it]"
          ]
        },
        {
          "output_type": "stream",
          "name": "stdout",
          "text": [
            "Epoch 6260 | CVaR: 3.6624\n"
          ]
        },
        {
          "output_type": "stream",
          "name": "stderr",
          "text": [
            "Entraînement:  63%|██████▎   | 6271/10000 [1:49:24<1:00:40,  1.02it/s]"
          ]
        },
        {
          "output_type": "stream",
          "name": "stdout",
          "text": [
            "Epoch 6270 | CVaR: 3.6813\n"
          ]
        },
        {
          "output_type": "stream",
          "name": "stderr",
          "text": [
            "Entraînement:  63%|██████▎   | 6281/10000 [1:49:35<1:02:01,  1.00s/it]"
          ]
        },
        {
          "output_type": "stream",
          "name": "stdout",
          "text": [
            "Epoch 6280 | CVaR: 3.6319\n"
          ]
        },
        {
          "output_type": "stream",
          "name": "stderr",
          "text": [
            "Entraînement:  63%|██████▎   | 6291/10000 [1:49:46<1:05:19,  1.06s/it]"
          ]
        },
        {
          "output_type": "stream",
          "name": "stdout",
          "text": [
            "Epoch 6290 | CVaR: 3.6652\n"
          ]
        },
        {
          "output_type": "stream",
          "name": "stderr",
          "text": [
            "Entraînement:  63%|██████▎   | 6301/10000 [1:49:57<1:12:10,  1.17s/it]"
          ]
        },
        {
          "output_type": "stream",
          "name": "stdout",
          "text": [
            "Epoch 6300 | CVaR: 3.6345\n"
          ]
        },
        {
          "output_type": "stream",
          "name": "stderr",
          "text": [
            "Entraînement:  63%|██████▎   | 6311/10000 [1:50:06<1:03:30,  1.03s/it]"
          ]
        },
        {
          "output_type": "stream",
          "name": "stdout",
          "text": [
            "Epoch 6310 | CVaR: 3.6752\n"
          ]
        },
        {
          "output_type": "stream",
          "name": "stderr",
          "text": [
            "Entraînement:  63%|██████▎   | 6321/10000 [1:50:17<59:48,  1.03it/s]  "
          ]
        },
        {
          "output_type": "stream",
          "name": "stdout",
          "text": [
            "Epoch 6320 | CVaR: 3.6651\n"
          ]
        },
        {
          "output_type": "stream",
          "name": "stderr",
          "text": [
            "Entraînement:  63%|██████▎   | 6331/10000 [1:50:27<1:00:55,  1.00it/s]"
          ]
        },
        {
          "output_type": "stream",
          "name": "stdout",
          "text": [
            "Epoch 6330 | CVaR: 3.6132\n"
          ]
        },
        {
          "output_type": "stream",
          "name": "stderr",
          "text": [
            "Entraînement:  63%|██████▎   | 6341/10000 [1:50:38<1:03:43,  1.04s/it]"
          ]
        },
        {
          "output_type": "stream",
          "name": "stdout",
          "text": [
            "Epoch 6340 | CVaR: 3.6180\n"
          ]
        },
        {
          "output_type": "stream",
          "name": "stderr",
          "text": [
            "Entraînement:  64%|██████▎   | 6351/10000 [1:50:48<1:10:51,  1.17s/it]"
          ]
        },
        {
          "output_type": "stream",
          "name": "stdout",
          "text": [
            "Epoch 6350 | CVaR: 3.6740\n"
          ]
        },
        {
          "output_type": "stream",
          "name": "stderr",
          "text": [
            "Entraînement:  64%|██████▎   | 6361/10000 [1:50:58<1:00:14,  1.01it/s]"
          ]
        },
        {
          "output_type": "stream",
          "name": "stdout",
          "text": [
            "Epoch 6360 | CVaR: 3.6417\n"
          ]
        },
        {
          "output_type": "stream",
          "name": "stderr",
          "text": [
            "Entraînement:  64%|██████▎   | 6371/10000 [1:51:09<58:26,  1.03it/s]"
          ]
        },
        {
          "output_type": "stream",
          "name": "stdout",
          "text": [
            "Epoch 6370 | CVaR: 3.6451\n"
          ]
        },
        {
          "output_type": "stream",
          "name": "stderr",
          "text": [
            "Entraînement:  64%|██████▍   | 6381/10000 [1:51:19<59:52,  1.01it/s]  "
          ]
        },
        {
          "output_type": "stream",
          "name": "stdout",
          "text": [
            "Epoch 6380 | CVaR: 3.6243\n"
          ]
        },
        {
          "output_type": "stream",
          "name": "stderr",
          "text": [
            "Entraînement:  64%|██████▍   | 6391/10000 [1:51:30<1:02:45,  1.04s/it]"
          ]
        },
        {
          "output_type": "stream",
          "name": "stdout",
          "text": [
            "Epoch 6390 | CVaR: 3.6615\n"
          ]
        },
        {
          "output_type": "stream",
          "name": "stderr",
          "text": [
            "Entraînement:  64%|██████▍   | 6401/10000 [1:51:41<1:11:25,  1.19s/it]"
          ]
        },
        {
          "output_type": "stream",
          "name": "stdout",
          "text": [
            "Epoch 6400 | CVaR: 3.6324\n"
          ]
        },
        {
          "output_type": "stream",
          "name": "stderr",
          "text": [
            "Entraînement:  64%|██████▍   | 6411/10000 [1:51:51<1:03:04,  1.05s/it]"
          ]
        },
        {
          "output_type": "stream",
          "name": "stdout",
          "text": [
            "Epoch 6410 | CVaR: 3.6054\n"
          ]
        },
        {
          "output_type": "stream",
          "name": "stderr",
          "text": [
            "Entraînement:  64%|██████▍   | 6421/10000 [1:52:01<58:12,  1.02it/s]"
          ]
        },
        {
          "output_type": "stream",
          "name": "stdout",
          "text": [
            "Epoch 6420 | CVaR: 3.6383\n"
          ]
        },
        {
          "output_type": "stream",
          "name": "stderr",
          "text": [
            "Entraînement:  64%|██████▍   | 6431/10000 [1:52:12<59:07,  1.01it/s]"
          ]
        },
        {
          "output_type": "stream",
          "name": "stdout",
          "text": [
            "Epoch 6430 | CVaR: 3.6309\n"
          ]
        },
        {
          "output_type": "stream",
          "name": "stderr",
          "text": [
            "Entraînement:  64%|██████▍   | 6441/10000 [1:52:22<1:01:50,  1.04s/it]"
          ]
        },
        {
          "output_type": "stream",
          "name": "stdout",
          "text": [
            "Epoch 6440 | CVaR: 3.6564\n"
          ]
        },
        {
          "output_type": "stream",
          "name": "stderr",
          "text": [
            "Entraînement:  65%|██████▍   | 6451/10000 [1:52:33<1:08:23,  1.16s/it]"
          ]
        },
        {
          "output_type": "stream",
          "name": "stdout",
          "text": [
            "Epoch 6450 | CVaR: 3.6486\n"
          ]
        },
        {
          "output_type": "stream",
          "name": "stderr",
          "text": [
            "Entraînement:  65%|██████▍   | 6461/10000 [1:52:43<1:00:42,  1.03s/it]"
          ]
        },
        {
          "output_type": "stream",
          "name": "stdout",
          "text": [
            "Epoch 6460 | CVaR: 3.6451\n"
          ]
        },
        {
          "output_type": "stream",
          "name": "stderr",
          "text": [
            "Entraînement:  65%|██████▍   | 6471/10000 [1:52:53<57:19,  1.03it/s]"
          ]
        },
        {
          "output_type": "stream",
          "name": "stdout",
          "text": [
            "Epoch 6470 | CVaR: 3.6212\n"
          ]
        },
        {
          "output_type": "stream",
          "name": "stderr",
          "text": [
            "Entraînement:  65%|██████▍   | 6481/10000 [1:53:04<58:23,  1.00it/s]"
          ]
        },
        {
          "output_type": "stream",
          "name": "stdout",
          "text": [
            "Epoch 6480 | CVaR: 3.6222\n"
          ]
        },
        {
          "output_type": "stream",
          "name": "stderr",
          "text": [
            "Entraînement:  65%|██████▍   | 6491/10000 [1:53:15<1:01:10,  1.05s/it]"
          ]
        },
        {
          "output_type": "stream",
          "name": "stdout",
          "text": [
            "Epoch 6490 | CVaR: 3.6324\n"
          ]
        },
        {
          "output_type": "stream",
          "name": "stderr",
          "text": [
            "Entraînement:  65%|██████▌   | 6501/10000 [1:53:25<1:07:52,  1.16s/it]"
          ]
        },
        {
          "output_type": "stream",
          "name": "stdout",
          "text": [
            "Epoch 6500 | CVaR: 3.6269\n"
          ]
        },
        {
          "output_type": "stream",
          "name": "stderr",
          "text": [
            "Entraînement:  65%|██████▌   | 6511/10000 [1:53:35<58:59,  1.01s/it]"
          ]
        },
        {
          "output_type": "stream",
          "name": "stdout",
          "text": [
            "Epoch 6510 | CVaR: 3.6217\n"
          ]
        },
        {
          "output_type": "stream",
          "name": "stderr",
          "text": [
            "Entraînement:  65%|██████▌   | 6521/10000 [1:53:45<56:27,  1.03it/s]"
          ]
        },
        {
          "output_type": "stream",
          "name": "stdout",
          "text": [
            "Epoch 6520 | CVaR: 3.6371\n"
          ]
        },
        {
          "output_type": "stream",
          "name": "stderr",
          "text": [
            "Entraînement:  65%|██████▌   | 6531/10000 [1:53:56<57:24,  1.01it/s]"
          ]
        },
        {
          "output_type": "stream",
          "name": "stdout",
          "text": [
            "Epoch 6530 | CVaR: 3.6486\n"
          ]
        },
        {
          "output_type": "stream",
          "name": "stderr",
          "text": [
            "Entraînement:  65%|██████▌   | 6541/10000 [1:54:07<59:43,  1.04s/it]  "
          ]
        },
        {
          "output_type": "stream",
          "name": "stdout",
          "text": [
            "Epoch 6540 | CVaR: 3.6398\n"
          ]
        },
        {
          "output_type": "stream",
          "name": "stderr",
          "text": [
            "Entraînement:  66%|██████▌   | 6551/10000 [1:54:17<1:06:44,  1.16s/it]"
          ]
        },
        {
          "output_type": "stream",
          "name": "stdout",
          "text": [
            "Epoch 6550 | CVaR: 3.6182\n"
          ]
        },
        {
          "output_type": "stream",
          "name": "stderr",
          "text": [
            "Entraînement:  66%|██████▌   | 6561/10000 [1:54:27<58:00,  1.01s/it]"
          ]
        },
        {
          "output_type": "stream",
          "name": "stdout",
          "text": [
            "Epoch 6560 | CVaR: 3.6809\n"
          ]
        },
        {
          "output_type": "stream",
          "name": "stderr",
          "text": [
            "Entraînement:  66%|██████▌   | 6571/10000 [1:54:37<55:18,  1.03it/s]"
          ]
        },
        {
          "output_type": "stream",
          "name": "stdout",
          "text": [
            "Epoch 6570 | CVaR: 3.6374\n"
          ]
        },
        {
          "output_type": "stream",
          "name": "stderr",
          "text": [
            "Entraînement:  66%|██████▌   | 6581/10000 [1:54:48<56:38,  1.01it/s]"
          ]
        },
        {
          "output_type": "stream",
          "name": "stdout",
          "text": [
            "Epoch 6580 | CVaR: 3.6305\n"
          ]
        },
        {
          "output_type": "stream",
          "name": "stderr",
          "text": [
            "Entraînement:  66%|██████▌   | 6591/10000 [1:54:59<1:00:00,  1.06s/it]"
          ]
        },
        {
          "output_type": "stream",
          "name": "stdout",
          "text": [
            "Epoch 6590 | CVaR: 3.6471\n"
          ]
        },
        {
          "output_type": "stream",
          "name": "stderr",
          "text": [
            "Entraînement:  66%|██████▌   | 6601/10000 [1:55:09<1:06:47,  1.18s/it]"
          ]
        },
        {
          "output_type": "stream",
          "name": "stdout",
          "text": [
            "Epoch 6600 | CVaR: 3.6453\n"
          ]
        },
        {
          "output_type": "stream",
          "name": "stderr",
          "text": [
            "Entraînement:  66%|██████▌   | 6611/10000 [1:55:19<56:57,  1.01s/it]"
          ]
        },
        {
          "output_type": "stream",
          "name": "stdout",
          "text": [
            "Epoch 6610 | CVaR: 3.6222\n"
          ]
        },
        {
          "output_type": "stream",
          "name": "stderr",
          "text": [
            "Entraînement:  66%|██████▌   | 6621/10000 [1:55:30<55:02,  1.02it/s]"
          ]
        },
        {
          "output_type": "stream",
          "name": "stdout",
          "text": [
            "Epoch 6620 | CVaR: 3.6423\n"
          ]
        },
        {
          "output_type": "stream",
          "name": "stderr",
          "text": [
            "Entraînement:  66%|██████▋   | 6631/10000 [1:55:40<55:28,  1.01it/s]"
          ]
        },
        {
          "output_type": "stream",
          "name": "stdout",
          "text": [
            "Epoch 6630 | CVaR: 3.6436\n"
          ]
        },
        {
          "output_type": "stream",
          "name": "stderr",
          "text": [
            "Entraînement:  66%|██████▋   | 6641/10000 [1:55:51<58:08,  1.04s/it]  "
          ]
        },
        {
          "output_type": "stream",
          "name": "stdout",
          "text": [
            "Epoch 6640 | CVaR: 3.6315\n"
          ]
        },
        {
          "output_type": "stream",
          "name": "stderr",
          "text": [
            "Entraînement:  67%|██████▋   | 6651/10000 [1:56:02<1:04:55,  1.16s/it]"
          ]
        },
        {
          "output_type": "stream",
          "name": "stdout",
          "text": [
            "Epoch 6650 | CVaR: 3.6472\n"
          ]
        },
        {
          "output_type": "stream",
          "name": "stderr",
          "text": [
            "Entraînement:  67%|██████▋   | 6661/10000 [1:56:11<57:16,  1.03s/it]"
          ]
        },
        {
          "output_type": "stream",
          "name": "stdout",
          "text": [
            "Epoch 6660 | CVaR: 3.6267\n"
          ]
        },
        {
          "output_type": "stream",
          "name": "stderr",
          "text": [
            "Entraînement:  67%|██████▋   | 6671/10000 [1:56:22<54:34,  1.02it/s]"
          ]
        },
        {
          "output_type": "stream",
          "name": "stdout",
          "text": [
            "Epoch 6670 | CVaR: 3.6811\n"
          ]
        },
        {
          "output_type": "stream",
          "name": "stderr",
          "text": [
            "Entraînement:  67%|██████▋   | 6681/10000 [1:56:33<55:40,  1.01s/it]"
          ]
        },
        {
          "output_type": "stream",
          "name": "stdout",
          "text": [
            "Epoch 6680 | CVaR: 3.6667\n"
          ]
        },
        {
          "output_type": "stream",
          "name": "stderr",
          "text": [
            "Entraînement:  67%|██████▋   | 6691/10000 [1:56:43<57:33,  1.04s/it]"
          ]
        },
        {
          "output_type": "stream",
          "name": "stdout",
          "text": [
            "Epoch 6690 | CVaR: 3.6222\n"
          ]
        },
        {
          "output_type": "stream",
          "name": "stderr",
          "text": [
            "Entraînement:  67%|██████▋   | 6701/10000 [1:56:54<1:04:01,  1.16s/it]"
          ]
        },
        {
          "output_type": "stream",
          "name": "stdout",
          "text": [
            "Epoch 6700 | CVaR: 3.6031\n"
          ]
        },
        {
          "output_type": "stream",
          "name": "stderr",
          "text": [
            "Entraînement:  67%|██████▋   | 6711/10000 [1:57:04<57:01,  1.04s/it]"
          ]
        },
        {
          "output_type": "stream",
          "name": "stdout",
          "text": [
            "Epoch 6710 | CVaR: 3.6414\n"
          ]
        },
        {
          "output_type": "stream",
          "name": "stderr",
          "text": [
            "Entraînement:  67%|██████▋   | 6721/10000 [1:57:14<52:54,  1.03it/s]"
          ]
        },
        {
          "output_type": "stream",
          "name": "stdout",
          "text": [
            "Epoch 6720 | CVaR: 3.6111\n"
          ]
        },
        {
          "output_type": "stream",
          "name": "stderr",
          "text": [
            "Entraînement:  67%|██████▋   | 6731/10000 [1:57:25<54:23,  1.00it/s]"
          ]
        },
        {
          "output_type": "stream",
          "name": "stdout",
          "text": [
            "Epoch 6730 | CVaR: 3.6171\n"
          ]
        },
        {
          "output_type": "stream",
          "name": "stderr",
          "text": [
            "Entraînement:  67%|██████▋   | 6741/10000 [1:57:36<56:18,  1.04s/it]"
          ]
        },
        {
          "output_type": "stream",
          "name": "stdout",
          "text": [
            "Epoch 6740 | CVaR: 3.6072\n"
          ]
        },
        {
          "output_type": "stream",
          "name": "stderr",
          "text": [
            "Entraînement:  68%|██████▊   | 6751/10000 [1:57:46<1:02:37,  1.16s/it]"
          ]
        },
        {
          "output_type": "stream",
          "name": "stdout",
          "text": [
            "Epoch 6750 | CVaR: 3.6437\n"
          ]
        },
        {
          "output_type": "stream",
          "name": "stderr",
          "text": [
            "Entraînement:  68%|██████▊   | 6761/10000 [1:57:56<57:43,  1.07s/it]"
          ]
        },
        {
          "output_type": "stream",
          "name": "stdout",
          "text": [
            "Epoch 6760 | CVaR: 3.6357\n"
          ]
        },
        {
          "output_type": "stream",
          "name": "stderr",
          "text": [
            "Entraînement:  68%|██████▊   | 6771/10000 [1:58:07<52:08,  1.03it/s]"
          ]
        },
        {
          "output_type": "stream",
          "name": "stdout",
          "text": [
            "Epoch 6770 | CVaR: 3.6229\n"
          ]
        },
        {
          "output_type": "stream",
          "name": "stderr",
          "text": [
            "Entraînement:  68%|██████▊   | 6781/10000 [1:58:17<53:20,  1.01it/s]"
          ]
        },
        {
          "output_type": "stream",
          "name": "stdout",
          "text": [
            "Epoch 6780 | CVaR: 3.6486\n"
          ]
        },
        {
          "output_type": "stream",
          "name": "stderr",
          "text": [
            "Entraînement:  68%|██████▊   | 6791/10000 [1:58:28<55:34,  1.04s/it]"
          ]
        },
        {
          "output_type": "stream",
          "name": "stdout",
          "text": [
            "Epoch 6790 | CVaR: 3.6520\n"
          ]
        },
        {
          "output_type": "stream",
          "name": "stderr",
          "text": [
            "Entraînement:  68%|██████▊   | 6801/10000 [1:58:39<1:00:55,  1.14s/it]"
          ]
        },
        {
          "output_type": "stream",
          "name": "stdout",
          "text": [
            "Epoch 6800 | CVaR: 3.6408\n"
          ]
        },
        {
          "output_type": "stream",
          "name": "stderr",
          "text": [
            "Entraînement:  68%|██████▊   | 6811/10000 [1:58:49<57:03,  1.07s/it]"
          ]
        },
        {
          "output_type": "stream",
          "name": "stdout",
          "text": [
            "Epoch 6810 | CVaR: 3.6313\n"
          ]
        },
        {
          "output_type": "stream",
          "name": "stderr",
          "text": [
            "Entraînement:  68%|██████▊   | 6821/10000 [1:58:59<52:28,  1.01it/s]"
          ]
        },
        {
          "output_type": "stream",
          "name": "stdout",
          "text": [
            "Epoch 6820 | CVaR: 3.6472\n"
          ]
        },
        {
          "output_type": "stream",
          "name": "stderr",
          "text": [
            "Entraînement:  68%|██████▊   | 6831/10000 [1:59:10<54:15,  1.03s/it]"
          ]
        },
        {
          "output_type": "stream",
          "name": "stdout",
          "text": [
            "Epoch 6830 | CVaR: 3.6496\n"
          ]
        },
        {
          "output_type": "stream",
          "name": "stderr",
          "text": [
            "Entraînement:  68%|██████▊   | 6841/10000 [1:59:21<54:43,  1.04s/it]"
          ]
        },
        {
          "output_type": "stream",
          "name": "stdout",
          "text": [
            "Epoch 6840 | CVaR: 3.6538\n"
          ]
        },
        {
          "output_type": "stream",
          "name": "stderr",
          "text": [
            "Entraînement:  69%|██████▊   | 6851/10000 [1:59:32<58:19,  1.11s/it]  "
          ]
        },
        {
          "output_type": "stream",
          "name": "stdout",
          "text": [
            "Epoch 6850 | CVaR: 3.6365\n"
          ]
        },
        {
          "output_type": "stream",
          "name": "stderr",
          "text": [
            "Entraînement:  69%|██████▊   | 6861/10000 [1:59:43<1:03:24,  1.21s/it]"
          ]
        },
        {
          "output_type": "stream",
          "name": "stdout",
          "text": [
            "Epoch 6860 | CVaR: 3.6222\n"
          ]
        },
        {
          "output_type": "stream",
          "name": "stderr",
          "text": [
            "Entraînement:  69%|██████▊   | 6871/10000 [1:59:52<51:20,  1.02it/s]"
          ]
        },
        {
          "output_type": "stream",
          "name": "stdout",
          "text": [
            "Epoch 6870 | CVaR: 3.6367\n"
          ]
        },
        {
          "output_type": "stream",
          "name": "stderr",
          "text": [
            "Entraînement:  69%|██████▉   | 6881/10000 [2:00:03<51:22,  1.01it/s]"
          ]
        },
        {
          "output_type": "stream",
          "name": "stdout",
          "text": [
            "Epoch 6880 | CVaR: 3.6152\n"
          ]
        },
        {
          "output_type": "stream",
          "name": "stderr",
          "text": [
            "Entraînement:  69%|██████▉   | 6891/10000 [2:00:14<52:03,  1.00s/it]"
          ]
        },
        {
          "output_type": "stream",
          "name": "stdout",
          "text": [
            "Epoch 6890 | CVaR: 3.6619\n"
          ]
        },
        {
          "output_type": "stream",
          "name": "stderr",
          "text": [
            "Entraînement:  69%|██████▉   | 6901/10000 [2:00:25<55:59,  1.08s/it]"
          ]
        },
        {
          "output_type": "stream",
          "name": "stdout",
          "text": [
            "Epoch 6900 | CVaR: 3.6499\n"
          ]
        },
        {
          "output_type": "stream",
          "name": "stderr",
          "text": [
            "Entraînement:  69%|██████▉   | 6911/10000 [2:00:36<1:02:40,  1.22s/it]"
          ]
        },
        {
          "output_type": "stream",
          "name": "stdout",
          "text": [
            "Epoch 6910 | CVaR: 3.6227\n"
          ]
        },
        {
          "output_type": "stream",
          "name": "stderr",
          "text": [
            "Entraînement:  69%|██████▉   | 6921/10000 [2:00:45<50:47,  1.01it/s]"
          ]
        },
        {
          "output_type": "stream",
          "name": "stdout",
          "text": [
            "Epoch 6920 | CVaR: 3.6448\n"
          ]
        },
        {
          "output_type": "stream",
          "name": "stderr",
          "text": [
            "Entraînement:  69%|██████▉   | 6931/10000 [2:00:56<50:58,  1.00it/s]"
          ]
        },
        {
          "output_type": "stream",
          "name": "stdout",
          "text": [
            "Epoch 6930 | CVaR: 3.6362\n"
          ]
        },
        {
          "output_type": "stream",
          "name": "stderr",
          "text": [
            "Entraînement:  69%|██████▉   | 6941/10000 [2:01:07<52:20,  1.03s/it]"
          ]
        },
        {
          "output_type": "stream",
          "name": "stdout",
          "text": [
            "Epoch 6940 | CVaR: 3.6324\n"
          ]
        },
        {
          "output_type": "stream",
          "name": "stderr",
          "text": [
            "Entraînement:  70%|██████▉   | 6951/10000 [2:01:18<53:13,  1.05s/it]"
          ]
        },
        {
          "output_type": "stream",
          "name": "stdout",
          "text": [
            "Epoch 6950 | CVaR: 3.6327\n"
          ]
        },
        {
          "output_type": "stream",
          "name": "stderr",
          "text": [
            "Entraînement:  70%|██████▉   | 6961/10000 [2:01:28<58:45,  1.16s/it]  "
          ]
        },
        {
          "output_type": "stream",
          "name": "stdout",
          "text": [
            "Epoch 6960 | CVaR: 3.6316\n"
          ]
        },
        {
          "output_type": "stream",
          "name": "stderr",
          "text": [
            "Entraînement:  70%|██████▉   | 6971/10000 [2:01:39<54:58,  1.09s/it]"
          ]
        },
        {
          "output_type": "stream",
          "name": "stdout",
          "text": [
            "Epoch 6970 | CVaR: 3.6556\n"
          ]
        },
        {
          "output_type": "stream",
          "name": "stderr",
          "text": [
            "Entraînement:  70%|██████▉   | 6981/10000 [2:01:49<50:33,  1.00s/it]"
          ]
        },
        {
          "output_type": "stream",
          "name": "stdout",
          "text": [
            "Epoch 6980 | CVaR: 3.6407\n"
          ]
        },
        {
          "output_type": "stream",
          "name": "stderr",
          "text": [
            "Entraînement:  70%|██████▉   | 6991/10000 [2:02:00<50:17,  1.00s/it]"
          ]
        },
        {
          "output_type": "stream",
          "name": "stdout",
          "text": [
            "Epoch 6990 | CVaR: 3.6247\n"
          ]
        },
        {
          "output_type": "stream",
          "name": "stderr",
          "text": [
            "Entraînement:  70%|███████   | 7001/10000 [2:02:11<51:48,  1.04s/it]"
          ]
        },
        {
          "output_type": "stream",
          "name": "stdout",
          "text": [
            "Epoch 7000 | CVaR: 3.6447\n"
          ]
        },
        {
          "output_type": "stream",
          "name": "stderr",
          "text": [
            "Entraînement:  70%|███████   | 7011/10000 [2:02:22<56:08,  1.13s/it]"
          ]
        },
        {
          "output_type": "stream",
          "name": "stdout",
          "text": [
            "Epoch 7010 | CVaR: 3.6349\n"
          ]
        },
        {
          "output_type": "stream",
          "name": "stderr",
          "text": [
            "Entraînement:  70%|███████   | 7021/10000 [2:02:33<59:11,  1.19s/it]"
          ]
        },
        {
          "output_type": "stream",
          "name": "stdout",
          "text": [
            "Epoch 7020 | CVaR: 3.6386\n"
          ]
        },
        {
          "output_type": "stream",
          "name": "stderr",
          "text": [
            "Entraînement:  70%|███████   | 7031/10000 [2:02:42<47:56,  1.03it/s]"
          ]
        },
        {
          "output_type": "stream",
          "name": "stdout",
          "text": [
            "Epoch 7030 | CVaR: 3.6360\n"
          ]
        },
        {
          "output_type": "stream",
          "name": "stderr",
          "text": [
            "Entraînement:  70%|███████   | 7041/10000 [2:02:53<49:21,  1.00s/it]"
          ]
        },
        {
          "output_type": "stream",
          "name": "stdout",
          "text": [
            "Epoch 7040 | CVaR: 3.6071\n"
          ]
        },
        {
          "output_type": "stream",
          "name": "stderr",
          "text": [
            "Entraînement:  71%|███████   | 7051/10000 [2:03:04<49:09,  1.00s/it]"
          ]
        },
        {
          "output_type": "stream",
          "name": "stdout",
          "text": [
            "Epoch 7050 | CVaR: 3.6115\n"
          ]
        },
        {
          "output_type": "stream",
          "name": "stderr",
          "text": [
            "Entraînement:  71%|███████   | 7061/10000 [2:03:15<52:59,  1.08s/it]"
          ]
        },
        {
          "output_type": "stream",
          "name": "stdout",
          "text": [
            "Epoch 7060 | CVaR: 3.6223\n"
          ]
        },
        {
          "output_type": "stream",
          "name": "stderr",
          "text": [
            "Entraînement:  71%|███████   | 7071/10000 [2:03:25<59:02,  1.21s/it]"
          ]
        },
        {
          "output_type": "stream",
          "name": "stdout",
          "text": [
            "Epoch 7070 | CVaR: 3.6304\n"
          ]
        },
        {
          "output_type": "stream",
          "name": "stderr",
          "text": [
            "Entraînement:  71%|███████   | 7081/10000 [2:03:35<47:16,  1.03it/s]"
          ]
        },
        {
          "output_type": "stream",
          "name": "stdout",
          "text": [
            "Epoch 7080 | CVaR: 3.6487\n"
          ]
        },
        {
          "output_type": "stream",
          "name": "stderr",
          "text": [
            "Entraînement:  71%|███████   | 7091/10000 [2:03:45<47:26,  1.02it/s]"
          ]
        },
        {
          "output_type": "stream",
          "name": "stdout",
          "text": [
            "Epoch 7090 | CVaR: 3.6885\n"
          ]
        },
        {
          "output_type": "stream",
          "name": "stderr",
          "text": [
            "Entraînement:  71%|███████   | 7101/10000 [2:03:56<48:13,  1.00it/s]"
          ]
        },
        {
          "output_type": "stream",
          "name": "stdout",
          "text": [
            "Epoch 7100 | CVaR: 3.6637\n"
          ]
        },
        {
          "output_type": "stream",
          "name": "stderr",
          "text": [
            "Entraînement:  71%|███████   | 7111/10000 [2:04:07<51:50,  1.08s/it]"
          ]
        },
        {
          "output_type": "stream",
          "name": "stdout",
          "text": [
            "Epoch 7110 | CVaR: 3.6468\n"
          ]
        },
        {
          "output_type": "stream",
          "name": "stderr",
          "text": [
            "Entraînement:  71%|███████   | 7121/10000 [2:04:18<59:20,  1.24s/it]"
          ]
        },
        {
          "output_type": "stream",
          "name": "stdout",
          "text": [
            "Epoch 7120 | CVaR: 3.6248\n"
          ]
        },
        {
          "output_type": "stream",
          "name": "stderr",
          "text": [
            "Entraînement:  71%|███████▏  | 7131/10000 [2:04:27<46:59,  1.02it/s]"
          ]
        },
        {
          "output_type": "stream",
          "name": "stdout",
          "text": [
            "Epoch 7130 | CVaR: 3.6432\n"
          ]
        },
        {
          "output_type": "stream",
          "name": "stderr",
          "text": [
            "Entraînement:  71%|███████▏  | 7141/10000 [2:04:38<47:29,  1.00it/s]"
          ]
        },
        {
          "output_type": "stream",
          "name": "stdout",
          "text": [
            "Epoch 7140 | CVaR: 3.6452\n"
          ]
        },
        {
          "output_type": "stream",
          "name": "stderr",
          "text": [
            "Entraînement:  72%|███████▏  | 7151/10000 [2:04:49<47:59,  1.01s/it]"
          ]
        },
        {
          "output_type": "stream",
          "name": "stdout",
          "text": [
            "Epoch 7150 | CVaR: 3.6429\n"
          ]
        },
        {
          "output_type": "stream",
          "name": "stderr",
          "text": [
            "Entraînement:  72%|███████▏  | 7161/10000 [2:05:00<49:33,  1.05s/it]"
          ]
        },
        {
          "output_type": "stream",
          "name": "stdout",
          "text": [
            "Epoch 7160 | CVaR: 3.6221\n"
          ]
        },
        {
          "output_type": "stream",
          "name": "stderr",
          "text": [
            "Entraînement:  72%|███████▏  | 7171/10000 [2:05:10<54:59,  1.17s/it]"
          ]
        },
        {
          "output_type": "stream",
          "name": "stdout",
          "text": [
            "Epoch 7170 | CVaR: 3.6116\n"
          ]
        },
        {
          "output_type": "stream",
          "name": "stderr",
          "text": [
            "Entraînement:  72%|███████▏  | 7181/10000 [2:05:20<47:59,  1.02s/it]"
          ]
        },
        {
          "output_type": "stream",
          "name": "stdout",
          "text": [
            "Epoch 7180 | CVaR: 3.6326\n"
          ]
        },
        {
          "output_type": "stream",
          "name": "stderr",
          "text": [
            "Entraînement:  72%|███████▏  | 7191/10000 [2:05:31<46:39,  1.00it/s]"
          ]
        },
        {
          "output_type": "stream",
          "name": "stdout",
          "text": [
            "Epoch 7190 | CVaR: 3.6492\n"
          ]
        },
        {
          "output_type": "stream",
          "name": "stderr",
          "text": [
            "Entraînement:  72%|███████▏  | 7201/10000 [2:05:42<46:59,  1.01s/it]"
          ]
        },
        {
          "output_type": "stream",
          "name": "stdout",
          "text": [
            "Epoch 7200 | CVaR: 3.6333\n"
          ]
        },
        {
          "output_type": "stream",
          "name": "stderr",
          "text": [
            "Entraînement:  72%|███████▏  | 7211/10000 [2:05:52<47:53,  1.03s/it]"
          ]
        },
        {
          "output_type": "stream",
          "name": "stdout",
          "text": [
            "Epoch 7210 | CVaR: 3.6221\n"
          ]
        },
        {
          "output_type": "stream",
          "name": "stderr",
          "text": [
            "Entraînement:  72%|███████▏  | 7221/10000 [2:06:03<54:35,  1.18s/it]"
          ]
        },
        {
          "output_type": "stream",
          "name": "stdout",
          "text": [
            "Epoch 7220 | CVaR: 3.6461\n"
          ]
        },
        {
          "output_type": "stream",
          "name": "stderr",
          "text": [
            "Entraînement:  72%|███████▏  | 7231/10000 [2:06:13<50:34,  1.10s/it]"
          ]
        },
        {
          "output_type": "stream",
          "name": "stdout",
          "text": [
            "Epoch 7230 | CVaR: 3.6703\n"
          ]
        },
        {
          "output_type": "stream",
          "name": "stderr",
          "text": [
            "Entraînement:  72%|███████▏  | 7241/10000 [2:06:24<45:13,  1.02it/s]"
          ]
        },
        {
          "output_type": "stream",
          "name": "stdout",
          "text": [
            "Epoch 7240 | CVaR: 3.6899\n"
          ]
        },
        {
          "output_type": "stream",
          "name": "stderr",
          "text": [
            "Entraînement:  73%|███████▎  | 7251/10000 [2:06:34<46:07,  1.01s/it]"
          ]
        },
        {
          "output_type": "stream",
          "name": "stdout",
          "text": [
            "Epoch 7250 | CVaR: 3.6737\n"
          ]
        },
        {
          "output_type": "stream",
          "name": "stderr",
          "text": [
            "Entraînement:  73%|███████▎  | 7261/10000 [2:06:45<46:47,  1.02s/it]"
          ]
        },
        {
          "output_type": "stream",
          "name": "stdout",
          "text": [
            "Epoch 7260 | CVaR: 3.6383\n"
          ]
        },
        {
          "output_type": "stream",
          "name": "stderr",
          "text": [
            "Entraînement:  73%|███████▎  | 7271/10000 [2:06:56<50:34,  1.11s/it]"
          ]
        },
        {
          "output_type": "stream",
          "name": "stdout",
          "text": [
            "Epoch 7270 | CVaR: 3.6298\n"
          ]
        },
        {
          "output_type": "stream",
          "name": "stderr",
          "text": [
            "Entraînement:  73%|███████▎  | 7281/10000 [2:07:06<52:32,  1.16s/it]"
          ]
        },
        {
          "output_type": "stream",
          "name": "stdout",
          "text": [
            "Epoch 7280 | CVaR: 3.6789\n"
          ]
        },
        {
          "output_type": "stream",
          "name": "stderr",
          "text": [
            "Entraînement:  73%|███████▎  | 7291/10000 [2:07:16<44:41,  1.01it/s]"
          ]
        },
        {
          "output_type": "stream",
          "name": "stdout",
          "text": [
            "Epoch 7290 | CVaR: 3.6509\n"
          ]
        },
        {
          "output_type": "stream",
          "name": "stderr",
          "text": [
            "Entraînement:  73%|███████▎  | 7301/10000 [2:07:27<44:59,  1.00s/it]"
          ]
        },
        {
          "output_type": "stream",
          "name": "stdout",
          "text": [
            "Epoch 7300 | CVaR: 3.6273\n"
          ]
        },
        {
          "output_type": "stream",
          "name": "stderr",
          "text": [
            "Entraînement:  73%|███████▎  | 7311/10000 [2:07:38<46:24,  1.04s/it]"
          ]
        },
        {
          "output_type": "stream",
          "name": "stdout",
          "text": [
            "Epoch 7310 | CVaR: 3.6440\n"
          ]
        },
        {
          "output_type": "stream",
          "name": "stderr",
          "text": [
            "Entraînement:  73%|███████▎  | 7321/10000 [2:07:49<48:08,  1.08s/it]"
          ]
        },
        {
          "output_type": "stream",
          "name": "stdout",
          "text": [
            "Epoch 7320 | CVaR: 3.6764\n"
          ]
        },
        {
          "output_type": "stream",
          "name": "stderr",
          "text": [
            "Entraînement:  73%|███████▎  | 7331/10000 [2:07:59<54:08,  1.22s/it]"
          ]
        },
        {
          "output_type": "stream",
          "name": "stdout",
          "text": [
            "Epoch 7330 | CVaR: 3.6525\n"
          ]
        },
        {
          "output_type": "stream",
          "name": "stderr",
          "text": [
            "Entraînement:  73%|███████▎  | 7341/10000 [2:08:09<43:30,  1.02it/s]"
          ]
        },
        {
          "output_type": "stream",
          "name": "stdout",
          "text": [
            "Epoch 7340 | CVaR: 3.6412\n"
          ]
        },
        {
          "output_type": "stream",
          "name": "stderr",
          "text": [
            "Entraînement:  74%|███████▎  | 7351/10000 [2:08:20<43:47,  1.01it/s]"
          ]
        },
        {
          "output_type": "stream",
          "name": "stdout",
          "text": [
            "Epoch 7350 | CVaR: 3.6196\n"
          ]
        },
        {
          "output_type": "stream",
          "name": "stderr",
          "text": [
            "Entraînement:  74%|███████▎  | 7361/10000 [2:08:31<45:06,  1.03s/it]"
          ]
        },
        {
          "output_type": "stream",
          "name": "stdout",
          "text": [
            "Epoch 7360 | CVaR: 3.6382\n"
          ]
        },
        {
          "output_type": "stream",
          "name": "stderr",
          "text": [
            "Entraînement:  74%|███████▎  | 7371/10000 [2:08:42<46:07,  1.05s/it]"
          ]
        },
        {
          "output_type": "stream",
          "name": "stdout",
          "text": [
            "Epoch 7370 | CVaR: 3.6652\n"
          ]
        },
        {
          "output_type": "stream",
          "name": "stderr",
          "text": [
            "Entraînement:  74%|███████▍  | 7381/10000 [2:08:52<50:58,  1.17s/it]"
          ]
        },
        {
          "output_type": "stream",
          "name": "stdout",
          "text": [
            "Epoch 7380 | CVaR: 3.6381\n"
          ]
        },
        {
          "output_type": "stream",
          "name": "stderr",
          "text": [
            "Entraînement:  74%|███████▍  | 7391/10000 [2:09:02<46:21,  1.07s/it]"
          ]
        },
        {
          "output_type": "stream",
          "name": "stdout",
          "text": [
            "Epoch 7390 | CVaR: 3.6233\n"
          ]
        },
        {
          "output_type": "stream",
          "name": "stderr",
          "text": [
            "Entraînement:  74%|███████▍  | 7401/10000 [2:09:13<43:03,  1.01it/s]"
          ]
        },
        {
          "output_type": "stream",
          "name": "stdout",
          "text": [
            "Epoch 7400 | CVaR: 3.6495\n"
          ]
        },
        {
          "output_type": "stream",
          "name": "stderr",
          "text": [
            "Entraînement:  74%|███████▍  | 7411/10000 [2:09:24<43:05,  1.00it/s]"
          ]
        },
        {
          "output_type": "stream",
          "name": "stdout",
          "text": [
            "Epoch 7410 | CVaR: 3.6505\n"
          ]
        },
        {
          "output_type": "stream",
          "name": "stderr",
          "text": [
            "Entraînement:  74%|███████▍  | 7421/10000 [2:09:34<44:56,  1.05s/it]"
          ]
        },
        {
          "output_type": "stream",
          "name": "stdout",
          "text": [
            "Epoch 7420 | CVaR: 3.6804\n"
          ]
        },
        {
          "output_type": "stream",
          "name": "stderr",
          "text": [
            "Entraînement:  74%|███████▍  | 7431/10000 [2:09:45<47:15,  1.10s/it]"
          ]
        },
        {
          "output_type": "stream",
          "name": "stdout",
          "text": [
            "Epoch 7430 | CVaR: 3.6433\n"
          ]
        },
        {
          "output_type": "stream",
          "name": "stderr",
          "text": [
            "Entraînement:  74%|███████▍  | 7441/10000 [2:09:55<46:47,  1.10s/it]"
          ]
        },
        {
          "output_type": "stream",
          "name": "stdout",
          "text": [
            "Epoch 7440 | CVaR: 3.6295\n"
          ]
        },
        {
          "output_type": "stream",
          "name": "stderr",
          "text": [
            "Entraînement:  75%|███████▍  | 7451/10000 [2:10:05<40:55,  1.04it/s]"
          ]
        },
        {
          "output_type": "stream",
          "name": "stdout",
          "text": [
            "Epoch 7450 | CVaR: 3.6394\n"
          ]
        },
        {
          "output_type": "stream",
          "name": "stderr",
          "text": [
            "Entraînement:  75%|███████▍  | 7461/10000 [2:10:16<41:38,  1.02it/s]"
          ]
        },
        {
          "output_type": "stream",
          "name": "stdout",
          "text": [
            "Epoch 7460 | CVaR: 3.6330\n"
          ]
        },
        {
          "output_type": "stream",
          "name": "stderr",
          "text": [
            "Entraînement:  75%|███████▍  | 7471/10000 [2:10:26<42:58,  1.02s/it]"
          ]
        },
        {
          "output_type": "stream",
          "name": "stdout",
          "text": [
            "Epoch 7470 | CVaR: 3.6289\n"
          ]
        },
        {
          "output_type": "stream",
          "name": "stderr",
          "text": [
            "Entraînement:  75%|███████▍  | 7481/10000 [2:10:37<47:03,  1.12s/it]"
          ]
        },
        {
          "output_type": "stream",
          "name": "stdout",
          "text": [
            "Epoch 7480 | CVaR: 3.6376\n"
          ]
        },
        {
          "output_type": "stream",
          "name": "stderr",
          "text": [
            "Entraînement:  75%|███████▍  | 7491/10000 [2:10:47<46:12,  1.11s/it]"
          ]
        },
        {
          "output_type": "stream",
          "name": "stdout",
          "text": [
            "Epoch 7490 | CVaR: 3.6361\n"
          ]
        },
        {
          "output_type": "stream",
          "name": "stderr",
          "text": [
            "Entraînement:  75%|███████▌  | 7501/10000 [2:10:57<40:35,  1.03it/s]"
          ]
        },
        {
          "output_type": "stream",
          "name": "stdout",
          "text": [
            "Epoch 7500 | CVaR: 3.6409\n"
          ]
        },
        {
          "output_type": "stream",
          "name": "stderr",
          "text": [
            "Entraînement:  75%|███████▌  | 7511/10000 [2:11:08<40:47,  1.02it/s]"
          ]
        },
        {
          "output_type": "stream",
          "name": "stdout",
          "text": [
            "Epoch 7510 | CVaR: 3.6261\n"
          ]
        },
        {
          "output_type": "stream",
          "name": "stderr",
          "text": [
            "Entraînement:  75%|███████▌  | 7521/10000 [2:11:18<42:21,  1.03s/it]"
          ]
        },
        {
          "output_type": "stream",
          "name": "stdout",
          "text": [
            "Epoch 7520 | CVaR: 3.6749\n"
          ]
        },
        {
          "output_type": "stream",
          "name": "stderr",
          "text": [
            "Entraînement:  75%|███████▌  | 7531/10000 [2:11:29<46:06,  1.12s/it]"
          ]
        },
        {
          "output_type": "stream",
          "name": "stdout",
          "text": [
            "Epoch 7530 | CVaR: 3.6534\n"
          ]
        },
        {
          "output_type": "stream",
          "name": "stderr",
          "text": [
            "Entraînement:  75%|███████▌  | 7541/10000 [2:11:40<46:49,  1.14s/it]"
          ]
        },
        {
          "output_type": "stream",
          "name": "stdout",
          "text": [
            "Epoch 7540 | CVaR: 3.6626\n"
          ]
        },
        {
          "output_type": "stream",
          "name": "stderr",
          "text": [
            "Entraînement:  76%|███████▌  | 7551/10000 [2:11:50<40:12,  1.02it/s]"
          ]
        },
        {
          "output_type": "stream",
          "name": "stdout",
          "text": [
            "Epoch 7550 | CVaR: 3.6544\n"
          ]
        },
        {
          "output_type": "stream",
          "name": "stderr",
          "text": [
            "Entraînement:  76%|███████▌  | 7561/10000 [2:12:00<40:56,  1.01s/it]"
          ]
        },
        {
          "output_type": "stream",
          "name": "stdout",
          "text": [
            "Epoch 7560 | CVaR: 3.6307\n"
          ]
        },
        {
          "output_type": "stream",
          "name": "stderr",
          "text": [
            "Entraînement:  76%|███████▌  | 7571/10000 [2:12:11<41:38,  1.03s/it]"
          ]
        },
        {
          "output_type": "stream",
          "name": "stdout",
          "text": [
            "Epoch 7570 | CVaR: 3.6247\n"
          ]
        },
        {
          "output_type": "stream",
          "name": "stderr",
          "text": [
            "Entraînement:  76%|███████▌  | 7581/10000 [2:12:22<43:56,  1.09s/it]"
          ]
        },
        {
          "output_type": "stream",
          "name": "stdout",
          "text": [
            "Epoch 7580 | CVaR: 3.6656\n"
          ]
        },
        {
          "output_type": "stream",
          "name": "stderr",
          "text": [
            "Entraînement:  76%|███████▌  | 7591/10000 [2:12:32<48:55,  1.22s/it]"
          ]
        },
        {
          "output_type": "stream",
          "name": "stdout",
          "text": [
            "Epoch 7590 | CVaR: 3.6257\n"
          ]
        },
        {
          "output_type": "stream",
          "name": "stderr",
          "text": [
            "Entraînement:  76%|███████▌  | 7601/10000 [2:12:42<38:41,  1.03it/s]"
          ]
        },
        {
          "output_type": "stream",
          "name": "stdout",
          "text": [
            "Epoch 7600 | CVaR: 3.6222\n"
          ]
        },
        {
          "output_type": "stream",
          "name": "stderr",
          "text": [
            "Entraînement:  76%|███████▌  | 7611/10000 [2:12:53<39:18,  1.01it/s]"
          ]
        },
        {
          "output_type": "stream",
          "name": "stdout",
          "text": [
            "Epoch 7610 | CVaR: 3.6276\n"
          ]
        },
        {
          "output_type": "stream",
          "name": "stderr",
          "text": [
            "Entraînement:  76%|███████▌  | 7621/10000 [2:13:04<40:16,  1.02s/it]"
          ]
        },
        {
          "output_type": "stream",
          "name": "stdout",
          "text": [
            "Epoch 7620 | CVaR: 3.6459\n"
          ]
        },
        {
          "output_type": "stream",
          "name": "stderr",
          "text": [
            "Entraînement:  76%|███████▋  | 7631/10000 [2:13:14<42:35,  1.08s/it]"
          ]
        },
        {
          "output_type": "stream",
          "name": "stdout",
          "text": [
            "Epoch 7630 | CVaR: 3.6668\n"
          ]
        },
        {
          "output_type": "stream",
          "name": "stderr",
          "text": [
            "Entraînement:  76%|███████▋  | 7641/10000 [2:13:25<47:29,  1.21s/it]"
          ]
        },
        {
          "output_type": "stream",
          "name": "stdout",
          "text": [
            "Epoch 7640 | CVaR: 3.6337\n"
          ]
        },
        {
          "output_type": "stream",
          "name": "stderr",
          "text": [
            "Entraînement:  77%|███████▋  | 7651/10000 [2:13:35<38:40,  1.01it/s]"
          ]
        },
        {
          "output_type": "stream",
          "name": "stdout",
          "text": [
            "Epoch 7650 | CVaR: 3.6369\n"
          ]
        },
        {
          "output_type": "stream",
          "name": "stderr",
          "text": [
            "Entraînement:  77%|███████▋  | 7661/10000 [2:13:46<38:26,  1.01it/s]"
          ]
        },
        {
          "output_type": "stream",
          "name": "stdout",
          "text": [
            "Epoch 7660 | CVaR: 3.6236\n"
          ]
        },
        {
          "output_type": "stream",
          "name": "stderr",
          "text": [
            "Entraînement:  77%|███████▋  | 7671/10000 [2:13:56<39:06,  1.01s/it]"
          ]
        },
        {
          "output_type": "stream",
          "name": "stdout",
          "text": [
            "Epoch 7670 | CVaR: 3.6472\n"
          ]
        },
        {
          "output_type": "stream",
          "name": "stderr",
          "text": [
            "Entraînement:  77%|███████▋  | 7681/10000 [2:14:07<40:53,  1.06s/it]"
          ]
        },
        {
          "output_type": "stream",
          "name": "stdout",
          "text": [
            "Epoch 7680 | CVaR: 3.6394\n"
          ]
        },
        {
          "output_type": "stream",
          "name": "stderr",
          "text": [
            "Entraînement:  77%|███████▋  | 7691/10000 [2:14:18<45:35,  1.18s/it]"
          ]
        },
        {
          "output_type": "stream",
          "name": "stdout",
          "text": [
            "Epoch 7690 | CVaR: 3.6245\n"
          ]
        },
        {
          "output_type": "stream",
          "name": "stderr",
          "text": [
            "Entraînement:  77%|███████▋  | 7701/10000 [2:14:27<37:55,  1.01it/s]"
          ]
        },
        {
          "output_type": "stream",
          "name": "stdout",
          "text": [
            "Epoch 7700 | CVaR: 3.6891\n"
          ]
        },
        {
          "output_type": "stream",
          "name": "stderr",
          "text": [
            "Entraînement:  77%|███████▋  | 7711/10000 [2:14:38<36:41,  1.04it/s]"
          ]
        },
        {
          "output_type": "stream",
          "name": "stdout",
          "text": [
            "Epoch 7710 | CVaR: 3.6404\n"
          ]
        },
        {
          "output_type": "stream",
          "name": "stderr",
          "text": [
            "Entraînement:  77%|███████▋  | 7721/10000 [2:14:48<37:25,  1.01it/s]"
          ]
        },
        {
          "output_type": "stream",
          "name": "stdout",
          "text": [
            "Epoch 7720 | CVaR: 3.6354\n"
          ]
        },
        {
          "output_type": "stream",
          "name": "stderr",
          "text": [
            "Entraînement:  77%|███████▋  | 7731/10000 [2:14:59<39:25,  1.04s/it]"
          ]
        },
        {
          "output_type": "stream",
          "name": "stdout",
          "text": [
            "Epoch 7730 | CVaR: 3.6264\n"
          ]
        },
        {
          "output_type": "stream",
          "name": "stderr",
          "text": [
            "Entraînement:  77%|███████▋  | 7741/10000 [2:15:10<44:57,  1.19s/it]"
          ]
        },
        {
          "output_type": "stream",
          "name": "stdout",
          "text": [
            "Epoch 7740 | CVaR: 3.6317\n"
          ]
        },
        {
          "output_type": "stream",
          "name": "stderr",
          "text": [
            "Entraînement:  78%|███████▊  | 7751/10000 [2:15:19<37:23,  1.00it/s]"
          ]
        },
        {
          "output_type": "stream",
          "name": "stdout",
          "text": [
            "Epoch 7750 | CVaR: 3.6374\n"
          ]
        },
        {
          "output_type": "stream",
          "name": "stderr",
          "text": [
            "Entraînement:  78%|███████▊  | 7761/10000 [2:15:30<36:56,  1.01it/s]"
          ]
        },
        {
          "output_type": "stream",
          "name": "stdout",
          "text": [
            "Epoch 7760 | CVaR: 3.6390\n"
          ]
        },
        {
          "output_type": "stream",
          "name": "stderr",
          "text": [
            "Entraînement:  78%|███████▊  | 7771/10000 [2:15:41<37:12,  1.00s/it]"
          ]
        },
        {
          "output_type": "stream",
          "name": "stdout",
          "text": [
            "Epoch 7770 | CVaR: 3.6306\n"
          ]
        },
        {
          "output_type": "stream",
          "name": "stderr",
          "text": [
            "Entraînement:  78%|███████▊  | 7781/10000 [2:15:51<39:06,  1.06s/it]"
          ]
        },
        {
          "output_type": "stream",
          "name": "stdout",
          "text": [
            "Epoch 7780 | CVaR: 3.6677\n"
          ]
        },
        {
          "output_type": "stream",
          "name": "stderr",
          "text": [
            "Entraînement:  78%|███████▊  | 7791/10000 [2:16:02<42:21,  1.15s/it]"
          ]
        },
        {
          "output_type": "stream",
          "name": "stdout",
          "text": [
            "Epoch 7790 | CVaR: 3.6832\n"
          ]
        },
        {
          "output_type": "stream",
          "name": "stderr",
          "text": [
            "Entraînement:  78%|███████▊  | 7801/10000 [2:16:12<37:16,  1.02s/it]"
          ]
        },
        {
          "output_type": "stream",
          "name": "stdout",
          "text": [
            "Epoch 7800 | CVaR: 3.6543\n"
          ]
        },
        {
          "output_type": "stream",
          "name": "stderr",
          "text": [
            "Entraînement:  78%|███████▊  | 7811/10000 [2:16:22<35:25,  1.03it/s]"
          ]
        },
        {
          "output_type": "stream",
          "name": "stdout",
          "text": [
            "Epoch 7810 | CVaR: 3.6492\n"
          ]
        },
        {
          "output_type": "stream",
          "name": "stderr",
          "text": [
            "Entraînement:  78%|███████▊  | 7821/10000 [2:16:33<36:05,  1.01it/s]"
          ]
        },
        {
          "output_type": "stream",
          "name": "stdout",
          "text": [
            "Epoch 7820 | CVaR: 3.6196\n"
          ]
        },
        {
          "output_type": "stream",
          "name": "stderr",
          "text": [
            "Entraînement:  78%|███████▊  | 7831/10000 [2:16:43<37:38,  1.04s/it]"
          ]
        },
        {
          "output_type": "stream",
          "name": "stdout",
          "text": [
            "Epoch 7830 | CVaR: 3.6248\n"
          ]
        },
        {
          "output_type": "stream",
          "name": "stderr",
          "text": [
            "Entraînement:  78%|███████▊  | 7841/10000 [2:16:54<41:38,  1.16s/it]"
          ]
        },
        {
          "output_type": "stream",
          "name": "stdout",
          "text": [
            "Epoch 7840 | CVaR: 3.6417\n"
          ]
        },
        {
          "output_type": "stream",
          "name": "stderr",
          "text": [
            "Entraînement:  79%|███████▊  | 7851/10000 [2:17:04<36:49,  1.03s/it]"
          ]
        },
        {
          "output_type": "stream",
          "name": "stdout",
          "text": [
            "Epoch 7850 | CVaR: 3.6693\n"
          ]
        },
        {
          "output_type": "stream",
          "name": "stderr",
          "text": [
            "Entraînement:  79%|███████▊  | 7861/10000 [2:17:14<35:06,  1.02it/s]"
          ]
        },
        {
          "output_type": "stream",
          "name": "stdout",
          "text": [
            "Epoch 7860 | CVaR: 3.6052\n"
          ]
        },
        {
          "output_type": "stream",
          "name": "stderr",
          "text": [
            "Entraînement:  79%|███████▊  | 7871/10000 [2:17:25<34:52,  1.02it/s]"
          ]
        },
        {
          "output_type": "stream",
          "name": "stdout",
          "text": [
            "Epoch 7870 | CVaR: 3.6510\n"
          ]
        },
        {
          "output_type": "stream",
          "name": "stderr",
          "text": [
            "Entraînement:  79%|███████▉  | 7881/10000 [2:17:36<36:36,  1.04s/it]"
          ]
        },
        {
          "output_type": "stream",
          "name": "stdout",
          "text": [
            "Epoch 7880 | CVaR: 3.6475\n"
          ]
        },
        {
          "output_type": "stream",
          "name": "stderr",
          "text": [
            "Entraînement:  79%|███████▉  | 7891/10000 [2:17:46<40:38,  1.16s/it]"
          ]
        },
        {
          "output_type": "stream",
          "name": "stdout",
          "text": [
            "Epoch 7890 | CVaR: 3.6397\n"
          ]
        },
        {
          "output_type": "stream",
          "name": "stderr",
          "text": [
            "Entraînement:  79%|███████▉  | 7901/10000 [2:17:56<36:03,  1.03s/it]"
          ]
        },
        {
          "output_type": "stream",
          "name": "stdout",
          "text": [
            "Epoch 7900 | CVaR: 3.6500\n"
          ]
        },
        {
          "output_type": "stream",
          "name": "stderr",
          "text": [
            "Entraînement:  79%|███████▉  | 7911/10000 [2:18:06<34:19,  1.01it/s]"
          ]
        },
        {
          "output_type": "stream",
          "name": "stdout",
          "text": [
            "Epoch 7910 | CVaR: 3.6492\n"
          ]
        },
        {
          "output_type": "stream",
          "name": "stderr",
          "text": [
            "Entraînement:  79%|███████▉  | 7921/10000 [2:18:17<34:30,  1.00it/s]"
          ]
        },
        {
          "output_type": "stream",
          "name": "stdout",
          "text": [
            "Epoch 7920 | CVaR: 3.6100\n"
          ]
        },
        {
          "output_type": "stream",
          "name": "stderr",
          "text": [
            "Entraînement:  79%|███████▉  | 7931/10000 [2:18:28<35:27,  1.03s/it]"
          ]
        },
        {
          "output_type": "stream",
          "name": "stdout",
          "text": [
            "Epoch 7930 | CVaR: 3.6395\n"
          ]
        },
        {
          "output_type": "stream",
          "name": "stderr",
          "text": [
            "Entraînement:  79%|███████▉  | 7941/10000 [2:18:38<39:48,  1.16s/it]"
          ]
        },
        {
          "output_type": "stream",
          "name": "stdout",
          "text": [
            "Epoch 7940 | CVaR: 3.6347\n"
          ]
        },
        {
          "output_type": "stream",
          "name": "stderr",
          "text": [
            "Entraînement:  80%|███████▉  | 7951/10000 [2:18:48<34:36,  1.01s/it]"
          ]
        },
        {
          "output_type": "stream",
          "name": "stdout",
          "text": [
            "Epoch 7950 | CVaR: 3.6478\n"
          ]
        },
        {
          "output_type": "stream",
          "name": "stderr",
          "text": [
            "Entraînement:  80%|███████▉  | 7961/10000 [2:18:58<32:49,  1.04it/s]"
          ]
        },
        {
          "output_type": "stream",
          "name": "stdout",
          "text": [
            "Epoch 7960 | CVaR: 3.6295\n"
          ]
        },
        {
          "output_type": "stream",
          "name": "stderr",
          "text": [
            "Entraînement:  80%|███████▉  | 7971/10000 [2:19:09<33:56,  1.00s/it]"
          ]
        },
        {
          "output_type": "stream",
          "name": "stdout",
          "text": [
            "Epoch 7970 | CVaR: 3.6578\n"
          ]
        },
        {
          "output_type": "stream",
          "name": "stderr",
          "text": [
            "Entraînement:  80%|███████▉  | 7981/10000 [2:19:20<35:05,  1.04s/it]"
          ]
        },
        {
          "output_type": "stream",
          "name": "stdout",
          "text": [
            "Epoch 7980 | CVaR: 3.6404\n"
          ]
        },
        {
          "output_type": "stream",
          "name": "stderr",
          "text": [
            "Entraînement:  80%|███████▉  | 7991/10000 [2:19:30<38:54,  1.16s/it]"
          ]
        },
        {
          "output_type": "stream",
          "name": "stdout",
          "text": [
            "Epoch 7990 | CVaR: 3.6689\n"
          ]
        },
        {
          "output_type": "stream",
          "name": "stderr",
          "text": [
            "Entraînement:  80%|████████  | 8001/10000 [2:19:40<33:45,  1.01s/it]"
          ]
        },
        {
          "output_type": "stream",
          "name": "stdout",
          "text": [
            "Epoch 8000 | CVaR: 3.6300\n"
          ]
        },
        {
          "output_type": "stream",
          "name": "stderr",
          "text": [
            "Entraînement:  80%|████████  | 8011/10000 [2:19:50<32:19,  1.03it/s]"
          ]
        },
        {
          "output_type": "stream",
          "name": "stdout",
          "text": [
            "Epoch 8010 | CVaR: 3.6484\n"
          ]
        },
        {
          "output_type": "stream",
          "name": "stderr",
          "text": [
            "Entraînement:  80%|████████  | 8021/10000 [2:20:01<32:47,  1.01it/s]"
          ]
        },
        {
          "output_type": "stream",
          "name": "stdout",
          "text": [
            "Epoch 8020 | CVaR: 3.6551\n"
          ]
        },
        {
          "output_type": "stream",
          "name": "stderr",
          "text": [
            "Entraînement:  80%|████████  | 8031/10000 [2:20:12<34:11,  1.04s/it]"
          ]
        },
        {
          "output_type": "stream",
          "name": "stdout",
          "text": [
            "Epoch 8030 | CVaR: 3.6306\n"
          ]
        },
        {
          "output_type": "stream",
          "name": "stderr",
          "text": [
            "Entraînement:  80%|████████  | 8041/10000 [2:20:22<38:06,  1.17s/it]"
          ]
        },
        {
          "output_type": "stream",
          "name": "stdout",
          "text": [
            "Epoch 8040 | CVaR: 3.6626\n"
          ]
        },
        {
          "output_type": "stream",
          "name": "stderr",
          "text": [
            "Entraînement:  81%|████████  | 8051/10000 [2:20:32<32:48,  1.01s/it]"
          ]
        },
        {
          "output_type": "stream",
          "name": "stdout",
          "text": [
            "Epoch 8050 | CVaR: 3.6385\n"
          ]
        },
        {
          "output_type": "stream",
          "name": "stderr",
          "text": [
            "Entraînement:  81%|████████  | 8061/10000 [2:20:43<31:34,  1.02it/s]"
          ]
        },
        {
          "output_type": "stream",
          "name": "stdout",
          "text": [
            "Epoch 8060 | CVaR: 3.6316\n"
          ]
        },
        {
          "output_type": "stream",
          "name": "stderr",
          "text": [
            "Entraînement:  81%|████████  | 8071/10000 [2:20:53<32:04,  1.00it/s]"
          ]
        },
        {
          "output_type": "stream",
          "name": "stdout",
          "text": [
            "Epoch 8070 | CVaR: 3.6404\n"
          ]
        },
        {
          "output_type": "stream",
          "name": "stderr",
          "text": [
            "Entraînement:  81%|████████  | 8081/10000 [2:21:04<33:55,  1.06s/it]"
          ]
        },
        {
          "output_type": "stream",
          "name": "stdout",
          "text": [
            "Epoch 8080 | CVaR: 3.6405\n"
          ]
        },
        {
          "output_type": "stream",
          "name": "stderr",
          "text": [
            "Entraînement:  81%|████████  | 8091/10000 [2:21:14<37:16,  1.17s/it]"
          ]
        },
        {
          "output_type": "stream",
          "name": "stdout",
          "text": [
            "Epoch 8090 | CVaR: 3.6250\n"
          ]
        },
        {
          "output_type": "stream",
          "name": "stderr",
          "text": [
            "Entraînement:  81%|████████  | 8101/10000 [2:21:24<31:32,  1.00it/s]"
          ]
        },
        {
          "output_type": "stream",
          "name": "stdout",
          "text": [
            "Epoch 8100 | CVaR: 3.6276\n"
          ]
        },
        {
          "output_type": "stream",
          "name": "stderr",
          "text": [
            "Entraînement:  81%|████████  | 8111/10000 [2:21:35<30:44,  1.02it/s]"
          ]
        },
        {
          "output_type": "stream",
          "name": "stdout",
          "text": [
            "Epoch 8110 | CVaR: 3.6275\n"
          ]
        },
        {
          "output_type": "stream",
          "name": "stderr",
          "text": [
            "Entraînement:  81%|████████  | 8121/10000 [2:21:45<30:59,  1.01it/s]"
          ]
        },
        {
          "output_type": "stream",
          "name": "stdout",
          "text": [
            "Epoch 8120 | CVaR: 3.6383\n"
          ]
        },
        {
          "output_type": "stream",
          "name": "stderr",
          "text": [
            "Entraînement:  81%|████████▏ | 8131/10000 [2:21:56<32:32,  1.04s/it]"
          ]
        },
        {
          "output_type": "stream",
          "name": "stdout",
          "text": [
            "Epoch 8130 | CVaR: 3.6617\n"
          ]
        },
        {
          "output_type": "stream",
          "name": "stderr",
          "text": [
            "Entraînement:  81%|████████▏ | 8141/10000 [2:22:07<36:14,  1.17s/it]"
          ]
        },
        {
          "output_type": "stream",
          "name": "stdout",
          "text": [
            "Epoch 8140 | CVaR: 3.6387\n"
          ]
        },
        {
          "output_type": "stream",
          "name": "stderr",
          "text": [
            "Entraînement:  82%|████████▏ | 8151/10000 [2:22:16<30:32,  1.01it/s]"
          ]
        },
        {
          "output_type": "stream",
          "name": "stdout",
          "text": [
            "Epoch 8150 | CVaR: 3.6670\n"
          ]
        },
        {
          "output_type": "stream",
          "name": "stderr",
          "text": [
            "Entraînement:  82%|████████▏ | 8161/10000 [2:22:27<30:04,  1.02it/s]"
          ]
        },
        {
          "output_type": "stream",
          "name": "stdout",
          "text": [
            "Epoch 8160 | CVaR: 3.6577\n"
          ]
        },
        {
          "output_type": "stream",
          "name": "stderr",
          "text": [
            "Entraînement:  82%|████████▏ | 8171/10000 [2:22:37<30:11,  1.01it/s]"
          ]
        },
        {
          "output_type": "stream",
          "name": "stdout",
          "text": [
            "Epoch 8170 | CVaR: 3.6557\n"
          ]
        },
        {
          "output_type": "stream",
          "name": "stderr",
          "text": [
            "Entraînement:  82%|████████▏ | 8181/10000 [2:22:48<31:37,  1.04s/it]"
          ]
        },
        {
          "output_type": "stream",
          "name": "stdout",
          "text": [
            "Epoch 8180 | CVaR: 3.6476\n"
          ]
        },
        {
          "output_type": "stream",
          "name": "stderr",
          "text": [
            "Entraînement:  82%|████████▏ | 8191/10000 [2:22:58<35:18,  1.17s/it]"
          ]
        },
        {
          "output_type": "stream",
          "name": "stdout",
          "text": [
            "Epoch 8190 | CVaR: 3.6422\n"
          ]
        },
        {
          "output_type": "stream",
          "name": "stderr",
          "text": [
            "Entraînement:  82%|████████▏ | 8201/10000 [2:23:08<29:51,  1.00it/s]"
          ]
        },
        {
          "output_type": "stream",
          "name": "stdout",
          "text": [
            "Epoch 8200 | CVaR: 3.6364\n"
          ]
        },
        {
          "output_type": "stream",
          "name": "stderr",
          "text": [
            "Entraînement:  82%|████████▏ | 8211/10000 [2:23:19<28:59,  1.03it/s]"
          ]
        },
        {
          "output_type": "stream",
          "name": "stdout",
          "text": [
            "Epoch 8210 | CVaR: 3.6395\n"
          ]
        },
        {
          "output_type": "stream",
          "name": "stderr",
          "text": [
            "Entraînement:  82%|████████▏ | 8221/10000 [2:23:29<29:32,  1.00it/s]"
          ]
        },
        {
          "output_type": "stream",
          "name": "stdout",
          "text": [
            "Epoch 8220 | CVaR: 3.6169\n"
          ]
        },
        {
          "output_type": "stream",
          "name": "stderr",
          "text": [
            "Entraînement:  82%|████████▏ | 8231/10000 [2:23:40<31:17,  1.06s/it]"
          ]
        },
        {
          "output_type": "stream",
          "name": "stdout",
          "text": [
            "Epoch 8230 | CVaR: 3.6456\n"
          ]
        },
        {
          "output_type": "stream",
          "name": "stderr",
          "text": [
            "Entraînement:  82%|████████▏ | 8241/10000 [2:23:51<34:31,  1.18s/it]"
          ]
        },
        {
          "output_type": "stream",
          "name": "stdout",
          "text": [
            "Epoch 8240 | CVaR: 3.6471\n"
          ]
        },
        {
          "output_type": "stream",
          "name": "stderr",
          "text": [
            "Entraînement:  83%|████████▎ | 8251/10000 [2:24:00<28:18,  1.03it/s]"
          ]
        },
        {
          "output_type": "stream",
          "name": "stdout",
          "text": [
            "Epoch 8250 | CVaR: 3.6321\n"
          ]
        },
        {
          "output_type": "stream",
          "name": "stderr",
          "text": [
            "Entraînement:  83%|████████▎ | 8261/10000 [2:24:11<28:32,  1.02it/s]"
          ]
        },
        {
          "output_type": "stream",
          "name": "stdout",
          "text": [
            "Epoch 8260 | CVaR: 3.6267\n"
          ]
        },
        {
          "output_type": "stream",
          "name": "stderr",
          "text": [
            "Entraînement:  83%|████████▎ | 8266/10000 [2:24:17<34:03,  1.18s/it]"
          ]
        }
      ]
    },
    {
      "cell_type": "code",
      "source": [
        "import tensorflow as tf\n",
        "import numpy as np\n",
        "import datetime as dt\n",
        "import matplotlib.pyplot as plt\n",
        "import seaborn as sns\n",
        "import pandas as pd\n",
        "import json\n",
        "import os\n",
        "from tqdm import tqdm\n",
        "from google.colab import drive\n",
        "from scipy.stats import norm\n",
        "\n",
        "# ==================== GÉNÉRATION DE DONNÉES ====================\n",
        "def monte_carlo_paths(S_0, time_to_expiry, sigma, drift, seed, n_sims, n_timesteps):\n",
        "    \"\"\"Génère des paths de prix en 3D (n_timesteps+1, n_sims, 1)\"\"\"\n",
        "    if seed is not None:\n",
        "        np.random.seed(seed)\n",
        "\n",
        "    dt_val = time_to_expiry / n_timesteps\n",
        "    paths = np.zeros((n_timesteps + 1, n_sims, 1))\n",
        "    paths[0, :, 0] = S_0\n",
        "\n",
        "    for t in range(1, n_timesteps + 1):\n",
        "        rand = np.random.normal(0, 1, n_sims)\n",
        "        paths[t, :, 0] = paths[t-1, :, 0] * np.exp(\n",
        "            (drift - 0.5*sigma**2)*dt_val +\n",
        "            sigma*np.sqrt(dt_val)*rand\n",
        "        )\n",
        "\n",
        "    return paths\n",
        "\n",
        "# ==================== MODÈLE LSTM ====================\n",
        "class Agent(tf.keras.Model):\n",
        "    def __init__(self, time_steps, batch_size, features, T, r=0.05, nodes=[64, 48, 32, 1], name='model'):\n",
        "        super().__init__(name=name)\n",
        "\n",
        "        self.time_steps = time_steps\n",
        "        self.batch_size = batch_size\n",
        "        self.features = features\n",
        "        self.T = T  # Maturité\n",
        "        self.r = r   # Taux sans risque\n",
        "\n",
        "        # Architecture LSTM\n",
        "        self.lstm_layers = [\n",
        "            tf.keras.layers.LSTM(units,\n",
        "                               return_sequences=True,\n",
        "                               activation='tanh',\n",
        "                               kernel_initializer='glorot_uniform')\n",
        "            for units in nodes\n",
        "        ]\n",
        "\n",
        "        self.optimizer = tf.keras.optimizers.Adam(\n",
        "            learning_rate=0.001,\n",
        "            clipvalue=1.0\n",
        "        )\n",
        "\n",
        "    def call(self, inputs):\n",
        "        x = inputs\n",
        "        for lstm in self.lstm_layers:\n",
        "            x = lstm(x)\n",
        "        return tf.squeeze(x, axis=-1)\n",
        "\n",
        "    def calculate_hedging_pnl(self, S_t_input, K, strategy):\n",
        "        \"\"\"Calcule le PnL avec gestion du cash\"\"\"\n",
        "        S = tf.squeeze(S_t_input, axis=-1)\n",
        "        time_steps = tf.shape(S)[0]\n",
        "        dt_val = self.T / tf.cast(time_steps - 1, tf.float32)\n",
        "\n",
        "        # Calcul des différences de delta\n",
        "        delta_diff = tf.concat([\n",
        "            strategy[0:1, :],  # Position initiale\n",
        "            strategy[1:, :] - strategy[:-1, :]\n",
        "        ], axis=0)\n",
        "\n",
        "        # Simulation du cash\n",
        "        cash = -delta_diff[0] * S[0]\n",
        "        for t in range(1, time_steps-1):\n",
        "            cash = cash * tf.exp(self.r * dt_val) - delta_diff[t] * S[t]\n",
        "\n",
        "        # Valeur finale\n",
        "        cash_final = cash * tf.exp(self.r * dt_val)\n",
        "        Pi_T = strategy[-1] * S[-1] + cash_final\n",
        "        return Pi_T - tf.maximum(S[-1] - K, 0)\n",
        "\n",
        "    def calculate_cvar(self, pnl, alpha):\n",
        "        \"\"\"Calcule le CVaR différenciable\"\"\"\n",
        "        sorted_pnl = tf.sort(pnl)\n",
        "        n = tf.cast(tf.shape(pnl)[0], tf.float32)\n",
        "        var_index = tf.cast((1 - alpha) * n, tf.int32)\n",
        "        return -tf.reduce_mean(sorted_pnl[:var_index])\n",
        "\n",
        "    @tf.function\n",
        "    def train_step(self, S_t_input, K, alpha):\n",
        "        \"\"\"Étape d'entraînement optimisée\"\"\"\n",
        "        with tf.GradientTape() as tape:\n",
        "            strategy = self(S_t_input[:-1])\n",
        "            pnl = self.calculate_hedging_pnl(S_t_input, K, strategy)\n",
        "            cvar = self.calculate_cvar(pnl, alpha)\n",
        "\n",
        "        grads = tape.gradient(cvar, self.trainable_variables)\n",
        "        self.optimizer.apply_gradients(zip(grads, self.trainable_variables))\n",
        "        return cvar, pnl, strategy\n",
        "\n",
        "    def training(self, paths, strikes, riskaversion, epochs):\n",
        "        \"\"\"Processus d'entraînement complet\"\"\"\n",
        "        sample_size = paths.shape[1]\n",
        "        idx = np.arange(sample_size)\n",
        "\n",
        "        for epoch in tqdm(range(epochs), desc='Entraînement'):\n",
        "            np.random.shuffle(idx)\n",
        "            pnls = []\n",
        "\n",
        "            for i in range(0, sample_size, self.batch_size):\n",
        "                batch_idx = idx[i:i+self.batch_size]\n",
        "                batch = paths[:, batch_idx, :]\n",
        "\n",
        "                _, pnl, _ = self.train_step(\n",
        "                    tf.cast(batch, tf.float32),\n",
        "                    tf.cast(strikes[batch_idx], tf.float32),\n",
        "                    tf.constant(riskaversion, tf.float32)\n",
        "                )\n",
        "                pnls.append(pnl.numpy())\n",
        "\n",
        "            if epoch % 10 == 0:\n",
        "                current_cvar = np.mean(-np.sort(np.concatenate(pnls))[:int(0.05*sample_size)])\n",
        "                print(f\"Epoch {epoch} | CVaR: {current_cvar:.4f}\")\n",
        "\n",
        "        return self\n",
        "\n",
        "# ==================== ÉVALUATION ====================\n",
        "class HedgingTest:\n",
        "    def __init__(self, S_0=100, K=100, r=0.05, T=1/12, vol=0.2, timesteps=15):\n",
        "        self.params = {\n",
        "            'S_0': S_0,\n",
        "            'K': K,\n",
        "            'r': r,\n",
        "            'T': T,\n",
        "            'vol': vol,\n",
        "            'timesteps': timesteps\n",
        "        }\n",
        "        self.dt = T / timesteps\n",
        "\n",
        "    def black_scholes_delta(self, S, t):\n",
        "        \"\"\"Calcul du delta Black-Scholes corrigé\"\"\"\n",
        "        if t <= 1e-6:\n",
        "            return np.where(S > self.params['K'], 1.0, 0.0)\n",
        "\n",
        "        d1 = (np.log(S/self.params['K'])\n",
        "              + (self.params['r'] + 0.5*self.params['vol']**2)*t\n",
        "             ) / (self.params['vol']*np.sqrt(t))\n",
        "\n",
        "        return norm.cdf(d1)\n",
        "\n",
        "    def calculate_bs_pnl(self, paths):\n",
        "        \"\"\"Calcul précis du PnL BS avec cash\"\"\"\n",
        "        n_sims = paths.shape[1]\n",
        "        pnls = np.zeros(n_sims)\n",
        "\n",
        "        for i in range(n_sims):\n",
        "            path = paths[:, i, 0]\n",
        "            cash = 0.0\n",
        "            delta_prev = 0.0\n",
        "\n",
        "            for t in range(len(path)-1):\n",
        "                time_left = self.params['T'] - t*self.dt\n",
        "                delta = self.black_scholes_delta(path[t], time_left)\n",
        "                cash = cash * np.exp(self.params['r'] * self.dt) - (delta - delta_prev)*path[t]\n",
        "                delta_prev = delta\n",
        "\n",
        "            cash_final = cash * np.exp(self.params['r'] * self.dt)\n",
        "            Pi_T = delta_prev * path[-1] + cash_final\n",
        "            pnls[i] = Pi_T - max(path[-1] - self.params['K'], 0)\n",
        "\n",
        "        return pnls\n",
        "\n",
        "    def compare_strategies(self, model, n_paths=5000):\n",
        "        \"\"\"Comparaison des stratégies corrigée\"\"\"\n",
        "        # Génération des paths\n",
        "        path_params = {\n",
        "            'S_0': self.params['S_0'],\n",
        "            'time_to_expiry': self.params['T'],\n",
        "            'sigma': self.params['vol'],\n",
        "            'drift': self.params['r'],\n",
        "            'seed': 42,\n",
        "            'n_sims': n_paths,\n",
        "            'n_timesteps': self.params['timesteps']\n",
        "        }\n",
        "        paths = monte_carlo_paths(**path_params)\n",
        "\n",
        "        # Calcul BS\n",
        "        bs_pnl = self.calculate_bs_pnl(paths)\n",
        "\n",
        "        # Calcul LSTM\n",
        "        strategy = model(paths[:-1])\n",
        "        lstm_pnl = model.calculate_hedging_pnl(\n",
        "            tf.constant(paths, tf.float32),\n",
        "            tf.constant([self.params['K']]*n_paths, tf.float32),\n",
        "            strategy\n",
        "        ).numpy()\n",
        "\n",
        "        # Analyse\n",
        "        results = {\n",
        "            'Black-Scholes': {\n",
        "                'Moyenne': bs_pnl.mean(),\n",
        "                'Écart-type': bs_pnl.std(),\n",
        "                'CVaR 95%': self._calculate_cvar(bs_pnl, 0.95)\n",
        "            },\n",
        "            'LSTM': {\n",
        "                'Moyenne': lstm_pnl.mean(),\n",
        "                'Écart-type': lstm_pnl.std(),\n",
        "                'CVaR 95%': self._calculate_cvar(lstm_pnl, 0.95)\n",
        "            }\n",
        "        }\n",
        "\n",
        "        # Visualisation\n",
        "        self._plot_results(bs_pnl, lstm_pnl)\n",
        "        return results\n",
        "\n",
        "    def _calculate_cvar(self, pnl, alpha):\n",
        "        \"\"\"Calcul du CVaR\"\"\"\n",
        "        sorted_pnl = np.sort(pnl)\n",
        "        n_worst = int((1 - alpha) * len(pnl))\n",
        "        return -sorted_pnl[:n_worst].mean()\n",
        "\n",
        "    def _plot_results(self, bs_pnl, lstm_pnl):\n",
        "        \"\"\"Visualisation des résultats avec boxplots\"\"\"\n",
        "        plt.figure(figsize=(18, 6))\n",
        "\n",
        "        # 1. Distribution des PnL\n",
        "        plt.subplot(1, 3, 1)\n",
        "        sns.kdeplot(bs_pnl, label='Black-Scholes', fill=True, alpha=0.5)\n",
        "        sns.kdeplot(lstm_pnl, label='LSTM', fill=True, alpha=0.5)\n",
        "        plt.title('Distribution des PnL')\n",
        "        plt.xlabel('PnL')\n",
        "        plt.legend()\n",
        "\n",
        "        # 2. Boxplots comparatifs\n",
        "        plt.subplot(1, 3, 2)\n",
        "        plt.boxplot([bs_pnl, lstm_pnl],\n",
        "                    labels=['Black-Scholes', 'LSTM'],\n",
        "                    patch_artist=True,\n",
        "                    boxprops=dict(facecolor='lightblue', color='darkblue'),\n",
        "                    medianprops=dict(color='red'))\n",
        "        plt.title('Distribution des PnL par stratégie')\n",
        "        plt.ylabel('PnL')\n",
        "        plt.grid(True, alpha=0.3)\n",
        "\n",
        "        # 3. Comparaison des CVaR\n",
        "        plt.subplot(1, 3, 3)\n",
        "        cvar_values = [self._calculate_cvar(bs_pnl, 0.95),\n",
        "                      self._calculate_cvar(lstm_pnl, 0.95)]\n",
        "        plt.bar(['Black-Scholes', 'LSTM'], cvar_values,\n",
        "                color=['darkblue', 'orange'],\n",
        "                alpha=0.7)\n",
        "        plt.title('CVaR 95% Comparaison')\n",
        "        plt.ylabel('CVaR')\n",
        "        plt.grid(True, axis='y', alpha=0.3)\n",
        "\n",
        "        plt.tight_layout()\n",
        "        plt.show()\n",
        "\n",
        "# ==================== EXÉCUTION ====================\n",
        "def run_training():\n",
        "    # Configuration\n",
        "    params = {\n",
        "        'S_0': 100,\n",
        "        'T': 1/12,\n",
        "        'r': 0.05,\n",
        "        'vol': 0.2,\n",
        "        'timesteps': 15,\n",
        "        'n_sims': 10000,\n",
        "        'batch_size': 500,\n",
        "        'epochs': 100,\n",
        "        'alpha': 0.95\n",
        "    }\n",
        "\n",
        "    # Génération des données\n",
        "    print(\"Génération des paths...\")\n",
        "    paths = monte_carlo_paths(\n",
        "        S_0=params['S_0'],\n",
        "        time_to_expiry=params['T'],\n",
        "        sigma=params['vol'],\n",
        "        drift=params['r'],\n",
        "        seed=42,\n",
        "        n_sims=params['n_sims'],\n",
        "        n_timesteps=params['timesteps']\n",
        "    )\n",
        "\n",
        "    # Initialisation modèle\n",
        "    model = Agent(\n",
        "        time_steps=paths.shape[0],\n",
        "        batch_size=params['batch_size'],\n",
        "        features=1,\n",
        "        T=params['T'],\n",
        "        r=params['r']\n",
        "    )\n",
        "\n",
        "    # Entraînement\n",
        "    print(\"Début de l'entraînement...\")\n",
        "    model.training(\n",
        "        paths,\n",
        "        np.full(params['n_sims'], 100),  # K=100\n",
        "        params['alpha'],\n",
        "        params['epochs']\n",
        "    )\n",
        "\n",
        "    return model\n",
        "\n",
        "# Exécution principale\n",
        "if __name__ == \"__main__\":\n",
        "    drive.mount('/content/drive')\n",
        "    trained_model = run_training()\n",
        "    tester = HedgingTest()\n",
        "    results = tester.compare_strategies(trained_model)\n",
        "    print(pd.DataFrame(results).T)"
      ],
      "metadata": {
        "id": "H1TUucSvhxpo"
      },
      "execution_count": null,
      "outputs": []
    }
  ]
}